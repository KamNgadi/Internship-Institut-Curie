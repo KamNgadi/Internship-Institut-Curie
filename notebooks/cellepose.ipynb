{
 "cells": [
  {
   "cell_type": "code",
   "execution_count": 2,
   "metadata": {},
   "outputs": [
    {
     "name": "stdout",
     "output_type": "stream",
     "text": [
      "Ultralytics YOLOv8.2.70 🚀 Python-3.8.10 torch-2.2.1+cu121 CUDA:0 (Quadro RTX 8000, 48585MiB)\n",
      "Setup complete ✅ (72 CPUs, 250.5 GB RAM, 421.4/1876.2 GB disk)\n",
      "\n",
      "OS                  Linux-5.15.0-113-generic-x86_64-with-glibc2.29\n",
      "Environment         Linux\n",
      "Python              3.8.10\n",
      "Install             git\n",
      "RAM                 250.54 GB\n",
      "CPU                 Intel Xeon Gold 5220 2.20GHz\n",
      "CUDA                12.1\n",
      "\n",
      "numpy               ✅ 1.24.4<2.0.0,>=1.23.0\n",
      "matplotlib          ✅ 3.7.5>=3.3.0\n",
      "opencv-python       ✅ 4.8.0.74>=4.6.0\n",
      "pillow              ✅ 10.2.0>=7.1.2\n",
      "pyyaml              ✅ 6.0.1>=5.3.1\n",
      "requests            ✅ 2.31.0>=2.23.0\n",
      "scipy               ✅ 1.10.1>=1.4.1\n",
      "torch               ✅ 2.2.1>=1.8.0\n",
      "torchvision         ✅ 0.17.1>=0.9.0\n",
      "tqdm                ✅ 4.66.2>=4.64.0\n",
      "psutil              ✅ 5.9.8\n",
      "py-cpuinfo          ✅ 9.0.0\n",
      "pandas              ✅ 2.0.3>=1.1.4\n",
      "seaborn             ✅ 0.13.2>=0.11.0\n",
      "ultralytics-thop    ✅ 2.0.0>=2.0.0\n"
     ]
    }
   ],
   "source": [
    "import os\n",
    "import numpy as np\n",
    "import pandas as pd\n",
    "import json\n",
    "import yaml\n",
    "from sklearn.model_selection import train_test_split\n",
    "import cv2\n",
    "import random\n",
    "import matplotlib.pyplot as plt\n",
    "import matplotlib.patches as patches\n",
    "import shutil\n",
    "from operator import is_not\n",
    "from functools import partial\n",
    "from PIL import Image\n",
    "from ultralytics import YOLO\n",
    "from IPython.display import display, Image\n",
    "from IPython import display\n",
    "display.clear_output()\n",
    "!yolo checks\n",
    "HOME = os.getcwd()"
   ]
  },
  {
   "cell_type": "code",
   "execution_count": 11,
   "metadata": {},
   "outputs": [
    {
     "name": "stdout",
     "output_type": "stream",
     "text": [
      "Package                  Version              Location                                                   \n",
      "------------------------ -------------------- -----------------------------------------------------------\n",
      "absl-py                  2.1.0                \n",
      "aiosignal                1.3.1                \n",
      "apturl                   0.5.2                \n",
      "attrs                    19.3.0               \n",
      "backcall                 0.1.0                \n",
      "bcrypt                   3.1.7                \n",
      "bleach                   3.1.1                \n",
      "blinker                  1.4                  \n",
      "Brlapi                   0.7.0                \n",
      "cachetools               5.4.0                \n",
      "certifi                  2023.7.22            \n",
      "chardet                  4.0.0                \n",
      "charset-normalizer       3.3.2                \n",
      "Click                    7.0                  \n",
      "colorama                 0.4.3                \n",
      "command-not-found        0.3                  \n",
      "contourpy                1.1.1                \n",
      "cryptography             2.8                  \n",
      "cupshelpers              1.0                  \n",
      "cycler                   0.10.0               \n",
      "dbus-python              1.2.16               \n",
      "decorator                4.4.2                \n",
      "defer                    1.0.6                \n",
      "defusedxml               0.6.0                \n",
      "dill                     0.3.8                \n",
      "distro                   1.4.0                \n",
      "distro-info              0.23+ubuntu1.1       \n",
      "dnspython                1.16.0               \n",
      "duplicity                0.8.12.0             \n",
      "entrypoints              0.3                  \n",
      "fasteners                0.14.1               \n",
      "filelock                 3.13.1               \n",
      "fonttools                4.49.0               \n",
      "frozenlist               1.4.1                \n",
      "fsspec                   2024.2.0             \n",
      "future                   0.18.2               \n",
      "google-auth              2.32.0               \n",
      "google-auth-oauthlib     1.0.0                \n",
      "gpg                      1.13.1               \n",
      "grpcio                   1.65.2               \n",
      "html5lib                 1.0.1                \n",
      "httplib2                 0.14.0               \n",
      "idna                     2.10                 \n",
      "imageio                  2.34.2               \n",
      "importlib-metadata       1.5.0                \n",
      "importlib-resources      6.1.3                \n",
      "ipykernel                5.2.0                \n",
      "ipython                  7.13.0               \n",
      "ipython-genutils         0.2.0                \n",
      "ipywidgets               6.0.0                \n",
      "jedi                     0.15.2               \n",
      "Jinja2                   2.10.1               \n",
      "joblib                   1.3.2                \n",
      "jsonschema               3.2.0                \n",
      "jupyter-client           6.1.2                \n",
      "jupyter-console          6.0.0                \n",
      "jupyter-core             4.6.3                \n",
      "keyring                  18.0.1               \n",
      "kiwisolver               1.4.5                \n",
      "language-selector        0.1                  \n",
      "launchpadlib             1.10.13              \n",
      "lazr.restfulclient       0.14.2               \n",
      "lazr.uri                 1.0.3                \n",
      "lazy-loader              0.4                  \n",
      "lockfile                 0.12.2               \n",
      "louis                    3.12.0               \n",
      "macaroonbakery           1.3.1                \n",
      "Mako                     1.1.0                \n",
      "Markdown                 3.1.1                \n",
      "MarkupSafe               2.1.5                \n",
      "matplotlib               3.7.5                \n",
      "mistune                  0.8.4                \n",
      "monotonic                1.5                  \n",
      "more-itertools           4.2.0                \n",
      "mpmath                   1.3.0                \n",
      "msgpack                  1.0.8                \n",
      "nbconvert                5.6.1                \n",
      "nbformat                 5.0.4                \n",
      "netifaces                0.10.4               \n",
      "networkx                 3.1                  \n",
      "notebook                 6.0.3                \n",
      "numpy                    1.24.4               \n",
      "nvidia-cublas-cu12       12.1.3.1             \n",
      "nvidia-cuda-cupti-cu12   12.1.105             \n",
      "nvidia-cuda-nvrtc-cu12   12.1.105             \n",
      "nvidia-cuda-runtime-cu12 12.1.105             \n",
      "nvidia-cudnn-cu12        8.9.2.26             \n",
      "nvidia-cufft-cu12        11.0.2.54            \n",
      "nvidia-curand-cu12       10.3.2.106           \n",
      "nvidia-cusolver-cu12     11.4.5.107           \n",
      "nvidia-cusparse-cu12     12.1.0.106           \n",
      "nvidia-nccl-cu12         2.19.3               \n",
      "nvidia-nvjitlink-cu12    12.4.99              \n",
      "nvidia-nvtx-cu12         12.1.105             \n",
      "oauthlib                 3.1.0                \n",
      "olefile                  0.46                 \n",
      "opencv-python            4.8.0.74             \n",
      "packaging                24.1                 \n",
      "pandas                   2.0.3                \n",
      "pandocfilters            1.4.2                \n",
      "paramiko                 2.6.0                \n",
      "parso                    0.5.2                \n",
      "pexpect                  4.6.0                \n",
      "pickleshare              0.7.5                \n",
      "pillow                   10.2.0               \n",
      "pip                      20.0.2               \n",
      "prometheus-client        0.7.1                \n",
      "prompt-toolkit           2.0.10               \n",
      "protobuf                 5.26.1               \n",
      "psutil                   5.9.8                \n",
      "py-cpuinfo               9.0.0                \n",
      "pyarrow                  15.0.0               \n",
      "pyasn1                   0.6.0                \n",
      "pyasn1-modules           0.4.0                \n",
      "pycairo                  1.16.2               \n",
      "pycrypto                 2.6.1                \n",
      "pycups                   1.9.73               \n",
      "Pygments                 2.3.1                \n",
      "PyGObject                3.36.0               \n",
      "PyJWT                    1.7.1                \n",
      "pylance                  0.10.15              \n",
      "pymacaroons              0.13.0               \n",
      "PyNaCl                   1.3.0                \n",
      "pyparsing                2.4.6                \n",
      "pyRFC3339                1.1                  \n",
      "pyrsistent               0.15.5               \n",
      "python-apt               2.0.1+ubuntu0.20.4.1 \n",
      "python-dateutil          2.9.0.post0          \n",
      "python-debian            0.1.36+ubuntu1.1     \n",
      "python-dotenv            1.0.1                \n",
      "python-magic             0.4.27               \n",
      "pytz                     2024.1               \n",
      "PyWavelets               1.4.1                \n",
      "pyxdg                    0.26                 \n",
      "PyYAML                   6.0.1                \n",
      "pyzmq                    18.1.1               \n",
      "ray                      2.9.3                \n",
      "reportlab                3.5.34               \n",
      "requests                 2.31.0               \n",
      "requests-oauthlib        2.0.0                \n",
      "requests-toolbelt        1.0.0                \n",
      "requests-unixsocket      0.2.0                \n",
      "roboflow                 1.1.23               \n",
      "rsa                      4.9                  \n",
      "scikit-image             0.21.0               \n",
      "scikit-learn             1.3.2                \n",
      "scipy                    1.10.1               \n",
      "screen-resolution-extra  0.0.0                \n",
      "seaborn                  0.13.2               \n",
      "SecretStorage            2.3.1                \n",
      "Send2Trash               1.5.0                \n",
      "setuptools               45.2.0               \n",
      "simplejson               3.16.0               \n",
      "six                      1.14.0               \n",
      "ssh-import-id            5.10                 \n",
      "sympy                    1.12                 \n",
      "systemd-python           234                  \n",
      "tensorboard              2.14.0               \n",
      "tensorboard-data-server  0.7.2                \n",
      "tensorboardX             2.6.2.2              \n",
      "terminado                0.8.2                \n",
      "testpath                 0.4.4                \n",
      "thop                     0.1.1.post2209072238 \n",
      "threadpoolctl            3.3.0                \n",
      "tifffile                 2023.7.10            \n",
      "torch                    2.2.1                \n",
      "torchinfo                1.8.0                \n",
      "torchvision              0.17.1               \n",
      "tornado                  5.1.1                \n",
      "tqdm                     4.66.2               \n",
      "traitlets                4.3.3                \n",
      "triton                   2.2.0                \n",
      "typing-extensions        4.10.0               \n",
      "tzdata                   2024.1               \n",
      "ubuntu-drivers-common    0.0.0                \n",
      "ubuntu-pro-client        8001                 \n",
      "ufw                      0.36                 \n",
      "ultralytics              8.2.70               /home/kamenan/Documents/Stage Dev Deep Learning/ultralytics\n",
      "ultralytics-thop         2.0.0                \n",
      "unattended-upgrades      0.1                  \n",
      "urllib3                  2.2.1                \n",
      "usb-creator              0.3.7                \n",
      "wadllib                  1.3.3                \n",
      "wcwidth                  0.1.8                \n",
      "webencodings             0.5.1                \n",
      "werkzeug                 3.0.3                \n",
      "wheel                    0.34.2               \n",
      "widgetsnbextension       2.0.0                \n",
      "xkit                     0.0.0                \n",
      "zipp                     3.17.0               \n"
     ]
    }
   ],
   "source": [
    "#!pip install -U ultralytics"
   ]
  },
  {
   "cell_type": "code",
   "execution_count": 19,
   "metadata": {},
   "outputs": [
    {
     "name": "stdout",
     "output_type": "stream",
     "text": [
      "(256, 256)\n"
     ]
    }
   ],
   "source": [
    "import numpy as np\n",
    "\n",
    "# Exemple de tableau de forme (10, 256, 256, 3)\n",
    "Y = np.random.random((10, 256, 256, 3))\n",
    "\n",
    "# Sélection de l'élément\n",
    "i = 0\n",
    "result = Y[i, ..., 2]\n",
    "\n",
    "print(result.shape)  # (256, 256)\n"
   ]
  },
  {
   "cell_type": "code",
   "execution_count": 14,
   "metadata": {},
   "outputs": [
    {
     "data": {
      "text/plain": [
       "(2,)"
      ]
     },
     "execution_count": 14,
     "metadata": {},
     "output_type": "execute_result"
    }
   ],
   "source": [
    "np.expand_dims(x, axis=0)\n",
    "x.shape"
   ]
  },
  {
   "cell_type": "code",
   "execution_count": 21,
   "metadata": {},
   "outputs": [
    {
     "data": {
      "text/plain": [
       "'/home/kamenan/Documents/Stage Dev Deep Learning/YOLOV8 evaluation/cellpose_data'"
      ]
     },
     "execution_count": 21,
     "metadata": {},
     "output_type": "execute_result"
    }
   ],
   "source": [
    "#!pip install opencv-python==4.8.0.74\n",
    "#?tune.uniform()\n",
    "HOME"
   ]
  },
  {
   "cell_type": "markdown",
   "metadata": {},
   "source": [
    "## Install YOLOv8"
   ]
  },
  {
   "cell_type": "code",
   "execution_count": null,
   "metadata": {},
   "outputs": [],
   "source": [
    "def get_image_mask_pairs(data_dir):\n",
    "    \"\"\"\n",
    "    retrieve image and mask from a given directory\n",
    "    \"\"\"\n",
    "    image_paths = []\n",
    "    mask_paths = []\n",
    "    \n",
    "    for root, _, files in os.walk(data_dir):\n",
    "        if 'images' in root:\n",
    "            for file in files:\n",
    "                if file.endswith('.png'):\n",
    "                    image_paths.append(os.path.join(root, file))\n",
    "                    #print(f'{root}\\n, {files}') \n",
    "                    mask_paths.append(os.path.join(root.replace('images', 'masks'), file.replace(\"img\", \"masks\")))\n",
    "                      \n",
    "    return image_paths, mask_paths\n",
    "\n",
    "def mask_to_polygons(mask):\n",
    "\n",
    "    \"\"\"\n",
    "        Draw contours arround the mask \n",
    "    \"\"\"\n",
    "\n",
    "    # Find the contour of an object precisely the coordonnates of the boundary shape\n",
    "    # Use RETR_TREE retrievial hierachy mode \n",
    "    contours, _ = cv2.findContours(mask, cv2.RETR_TREE, cv2.CHAIN_APPROX_SIMPLE)\n",
    "    polygons = []\n",
    "    for contour in contours:\n",
    "        if len(contour) > 2:\n",
    "            poly = contour.reshape(-1).tolist()\n",
    "            if len(poly) > 4:  # Ensure valid polygon\n",
    "                polygons.append(poly)\n",
    "    return polygons\n",
    "\n",
    "def process_data(image_paths, mask_paths, output_dir):\n",
    "\n",
    "    \"\"\"\n",
    "    \n",
    "    \"\"\"\n",
    "    annotations = []\n",
    "    images = []\n",
    "    image_id = 0\n",
    "    ann_id = 0\n",
    "    \n",
    "    for img_path, mask_path in zip(image_paths, mask_paths):\n",
    "        image_id += 1\n",
    "        img = cv2.imread(img_path)\n",
    "        mask = cv2.imread(mask_path, cv2.IMREAD_UNCHANGED) #return the loaded image as is (with alpha channel, otherwise it gets cropped).\n",
    "        \n",
    "        # Copy image to output directory\n",
    "        shutil.copy(img_path, os.path.join(output_dir, os.path.basename(img_path)))\n",
    "        \n",
    "        images.append({\n",
    "            \"id\": image_id,\n",
    "            \"file_name\": os.path.basename(img_path),\n",
    "            \"height\": img.shape[0],\n",
    "            \"width\": img.shape[1]\n",
    "        })\n",
    "        \n",
    "        unique_values = np.unique(mask)\n",
    "        for value in unique_values:\n",
    "            if value == 0:  # Ignore background\n",
    "                continue\n",
    "            \n",
    "            object_mask = (mask == value).astype(np.uint8) * 255\n",
    "            polygons = mask_to_polygons(object_mask)\n",
    "            \n",
    "            for poly in polygons:\n",
    "                ann_id += 1\n",
    "                annotations.append({\n",
    "                    \"id\": ann_id,\n",
    "                    \"image_id\": image_id,\n",
    "                    \"category_id\": 1,  # Only one category: Cellular\n",
    "                    \"segmentation\": [poly],\n",
    "                    \"area\": cv2.contourArea(np.array(poly).reshape(-1, 2)),\n",
    "                    \"bbox\": list(cv2.boundingRect(np.array(poly).reshape(-1, 2))),\n",
    "                    \"iscrowd\": 0\n",
    "                })\n",
    "    \n",
    "        coco_output = {\n",
    "            \"images\": images,\n",
    "            \"annotations\": annotations,\n",
    "            \"categories\": [{\"id\": 1, \"name\": \"Cellular\"}]\n",
    "        }\n",
    "        \n",
    "        with open(os.path.join(output_dir, 'coco_annotations.json'), 'w') as f:\n",
    "            json.dump(coco_output, f)\n"
   ]
  },
  {
   "cell_type": "code",
   "execution_count": null,
   "metadata": {},
   "outputs": [],
   "source": [
    "\n",
    "data_dir = HOME\n",
    "output_dir = 'COCO_output'\n",
    "train_dir = os.path.join(output_dir, 'train')\n",
    "val_dir = os.path.join(output_dir, 'val')\n",
    "\n",
    "# Create output directories\n",
    "os.makedirs(train_dir, exist_ok=True)\n",
    "os.makedirs(val_dir, exist_ok=True)\n",
    "\n",
    "image_paths, mask_paths = get_image_mask_pairs(data_dir)\n",
    "\n",
    "# Split data into train and val\n",
    "train_img_paths, val_img_paths, train_mask_paths, val_mask_paths = train_test_split(image_paths, mask_paths, test_size=0.2, random_state=42)\n",
    "\n",
    "# Process train and val data\n",
    "process_data(train_img_paths, train_mask_paths, train_dir)\n",
    "process_data(val_img_paths, val_mask_paths, val_dir)"
   ]
  },
  {
   "cell_type": "code",
   "execution_count": null,
   "metadata": {},
   "outputs": [],
   "source": [
    "def display_images_with_coco_annotations(image_paths:str, annotations:str, display_type='both'):\n",
    "    \"\"\"\n",
    "    Lay out the images with the COCO annotations\n",
    "    Params:\n",
    "    ------\n",
    "         Image_paths: the paths where the converted COCO.json has been stored\n",
    "         annotations: path to anotations files\n",
    "         display_both: Lay out annotated images along side the original image\n",
    "\n",
    "    \"\"\"\n",
    "    fig, axs = plt.subplots(2, 2, figsize=(10, 10))\n",
    "    \n",
    "    for ax, img_path in zip(axs.ravel(), image_paths):\n",
    "        # Load image using OpenCV and convert it from BGR to RGB color space\n",
    "        image = cv2.imread(img_path)\n",
    "        image = cv2.cvtColor(image, cv2.COLOR_BGR2RGB)\n",
    "        \n",
    "        ax.imshow(image)\n",
    "        ax.axis('off')  # Turn off the axes\n",
    "\n",
    "        # Get image filename to match with annotations\n",
    "        img_filename = os.path.basename(img_path)\n",
    "        img_id = next(item for item in annotations['images'] if item[\"file_name\"] == img_filename)['id']\n",
    "        \n",
    "        # Filter annotations for the current image\n",
    "        img_annotations = [ann for ann in annotations['annotations'] if ann['image_id'] == img_id]\n",
    "        \n",
    "        # Generate random colors for each annotation\n",
    "        colors = [tuple(np.random.rand(3)) for _ in img_annotations]\n",
    "\n",
    "        for ann, color in zip(img_annotations, colors):\n",
    "            # Display bounding box\n",
    "            if display_type in ['bbox', 'both']:\n",
    "                bbox = ann['bbox']\n",
    "                rect = patches.Rectangle((bbox[0], bbox[1]), bbox[2], bbox[3], \n",
    "                                         linewidth=1, edgecolor=color, \n",
    "                                         facecolor='none')\n",
    "                #ax.add_patch(rect)\n",
    "            \n",
    "            # Display segmentation polygon\n",
    "            if display_type in ['seg', 'both']:\n",
    "                for seg in ann['segmentation']:\n",
    "                    poly = [(seg[i], seg[i+1]) for i in range(0, len(seg), 2)]\n",
    "                    polygon = patches.Polygon(poly, closed=True, edgecolor=color, \n",
    "                                              fill=False)\n",
    "                    ax.add_patch(polygon)\n",
    "\n",
    "    plt.tight_layout()\n",
    "    plt.show()\n",
    "\n"
   ]
  },
  {
   "cell_type": "code",
   "execution_count": null,
   "metadata": {},
   "outputs": [],
   "source": [
    "# Load COCO annotations\n",
    "with open('COCO_output/train/coco_annotations.json', 'r') as f:\n",
    "    annotations = json.load(f)\n",
    "\n",
    "# Get all image files\n",
    "image_dir = \"COCO_output/train/\"\n",
    "all_image_files = [os.path.join(image_dir, img['file_name']) for img in annotations['images']]\n",
    "\n",
    "#Get some image at random\n",
    "random_image_files = random.sample(all_image_files, 4)\n",
    "\n",
    "# Choose between 'bbox', 'seg', or 'both'\n",
    "display_type = 'seg'\n",
    "display_images_with_coco_annotations(random_image_files, annotations, display_type)"
   ]
  },
  {
   "cell_type": "code",
   "execution_count": 2,
   "metadata": {},
   "outputs": [],
   "source": [
    "import yaml"
   ]
  },
  {
   "cell_type": "code",
   "execution_count": null,
   "metadata": {},
   "outputs": [],
   "source": [
    "\"\"\"\n",
    "This code transforms a dataset of images and annotations into a format suitable \n",
    "for training a YOLO (You Only Look Once) object detection model, and it also \n",
    "creates a YAML configuration file required for training the model.\n",
    "\n",
    "It reads coco style json annotations supplied as a single json file and also \n",
    "images as input. \n",
    "\n",
    "Here are the key steps in the code:\n",
    "\n",
    "1. Convert Images to YOLO Format: The convert_to_yolo function takes paths for \n",
    "input images and annotations (in JSON format), and directories to store the \n",
    "output images and labels. It then performs the following operations:\n",
    "\n",
    "- Reads the input JSON file containing annotations.\n",
    "- Copies all PNG images from the input directory to the output directory.\n",
    "- Normalizes the polygon segmentation data related to each image and writes \n",
    "them to text files, mapping them to the appropriate category .\n",
    "- The resulting text files contain information about the object category and the normalized coordinates of the polygons that describe the objects.\n",
    "\n",
    "2. Create YAML Configuration File: The create_yaml function takes paths to the input JSON file containing categories, training, validation, and optional test paths. It then:\n",
    "\n",
    "- Extracts the category names and the number of classes.\n",
    "- Constructs a dictionary containing information about class names, the number \n",
    "of classes, and paths to the training, validation, and test datasets.\n",
    "- Writes this dictionary to a YAML file, which can be used as a configuration \n",
    "file for training a model (e.g., a YOLO model).\n",
    "    \n",
    "\n",
    "\n",
    "The text annotation file consists of lines representing individual object \n",
    "annotations, with each line containing the class ID followed by the normalized \n",
    "coordinates of the polygon describing the object.\n",
    "\n",
    "Example structure of the YOLO annotation file:\n",
    "\n",
    "<class_id> <normalized_polygon_coordinate_1> <normalized_polygon_coordinate_2> ... <normalized_polygon_coordinate_n>\n",
    "0 0.123456 0.234567 0.345678 0.456789 ...\n",
    "\n",
    "\"\"\"\n",
    "\n",
    "\n",
    "\n",
    "# Function to convert images to YOLO format\n",
    "def convert_to_yolo(input_images_path, input_json_path, output_images_path, output_labels_path):\n",
    "    # Open JSON file containing image annotations\n",
    "    f = open(input_json_path)\n",
    "    data = json.load(f)\n",
    "    f.close()\n",
    "\n",
    "    # Create directories for output images and labels\n",
    "    os.makedirs(output_images_path, exist_ok=True)\n",
    "    os.makedirs(output_labels_path, exist_ok=True)\n",
    "\n",
    "    # List to store filenames\n",
    "    file_names = []\n",
    "    for filename in os.listdir(input_images_path):\n",
    "        if filename.endswith(\".png\"):\n",
    "            source = os.path.join(input_images_path, filename)\n",
    "            destination = os.path.join(output_images_path, filename)\n",
    "            shutil.copy(source, destination)\n",
    "            file_names.append(filename)\n",
    "\n",
    "    # Function to get image annotations\n",
    "    def get_img_ann(image_id):\n",
    "        return [ann for ann in data['annotations'] if ann['image_id'] == image_id]\n",
    "\n",
    "    # Function to get image data\n",
    "    def get_img(filename):\n",
    "        return next((img for img in data['images'] if img['file_name'] == filename), None)\n",
    "\n",
    "    # Iterate through filenames and process each image\n",
    "    for filename in file_names:\n",
    "        img = get_img(filename)\n",
    "        img_id = img['id']\n",
    "        img_w = img['width']\n",
    "        img_h = img['height']\n",
    "        img_ann = get_img_ann(img_id)\n",
    "\n",
    "        # Write normalized polygon data to a text file\n",
    "        if img_ann:\n",
    "            with open(os.path.join(output_labels_path, f\"{os.path.splitext(filename)[0]}.txt\"), \"a\") as file_object:\n",
    "                for ann in img_ann:\n",
    "                    current_category = ann['category_id'] - 1\n",
    "                    polygon = ann['segmentation'][0]\n",
    "                    normalized_polygon = [format(coord / img_w if i % 2 == 0 else coord / img_h, '.6f') for i, coord in enumerate(polygon)]\n",
    "                    file_object.write(f\"{current_category} \" + \" \".join(normalized_polygon) + \"\\n\")\n",
    "\n",
    "# Function to create a YAML file for the dataset\n",
    "def create_yaml(input_json_path, output_yaml_path, train_path, val_path, test_path=None):\n",
    "    with open(input_json_path) as f:\n",
    "        data = json.load(f)\n",
    "    \n",
    "    # Extract the category names\n",
    "    names = [category['name'] for category in data['categories']]\n",
    "    \n",
    "    # Number of classes\n",
    "    nc = len(names)\n",
    "\n",
    "    # Create a dictionary with the required content\n",
    "    yaml_data = {\n",
    "        'names': names,\n",
    "        'nc': nc,\n",
    "        'test': test_path if test_path else '',\n",
    "        'train': train_path,\n",
    "        'val': val_path\n",
    "    }\n",
    "\n",
    "    # Write the dictionary to a YAML file\n",
    "    with open(output_yaml_path, 'w') as file:\n",
    "        yaml.dump(yaml_data, file, default_flow_style=False)\n",
    "\n",
    "\n"
   ]
  },
  {
   "cell_type": "markdown",
   "metadata": {},
   "source": [
    "### Test"
   ]
  },
  {
   "cell_type": "code",
   "execution_count": null,
   "metadata": {},
   "outputs": [],
   "source": [
    "base_input_path = \"COCO_output/\"\n",
    "base_output_path = \"yolo_dataset/\""
   ]
  },
  {
   "cell_type": "code",
   "execution_count": null,
   "metadata": {},
   "outputs": [],
   "source": [
    "print(os.path.join(base_input_path, \"val1\"))"
   ]
  },
  {
   "cell_type": "code",
   "execution_count": null,
   "metadata": {},
   "outputs": [],
   "source": [
    "from ultralytics.data.converter import convert_coco\n",
    "\n",
    "#Processing validation dataert\n",
    "#convert_coco(labels_dir=os.path.join(base_input_path, \"val\"),\n",
    " #            save_dir=os.path.join(base_output_path, \"valid_yolo\"),\n",
    "  #           use_keypoints=True)"
   ]
  },
  {
   "cell_type": "code",
   "execution_count": null,
   "metadata": {},
   "outputs": [],
   "source": [
    "# Processing validation dataset (if needed)\n",
    "convert_to_yolo(\n",
    "    input_images_path=os.path.join(base_input_path, \"val\"),\n",
    "    input_json_path=os.path.join(base_input_path, \"val/coco_annotations.json\"),\n",
    "    output_images_path=os.path.join(base_output_path, \"valid/images\"),\n",
    "    output_labels_path=os.path.join(base_output_path, \"valid/labels\")\n",
    ")"
   ]
  },
  {
   "cell_type": "code",
   "execution_count": null,
   "metadata": {},
   "outputs": [],
   "source": [
    "# Processing training dataset \n",
    "convert_to_yolo(\n",
    "    input_images_path=os.path.join(base_input_path, \"train\"),\n",
    "    input_json_path=os.path.join(base_input_path, \"train/coco_annotations.json\"),\n",
    "    output_images_path=os.path.join(base_output_path, \"train/images\"),\n",
    "    output_labels_path=os.path.join(base_output_path, \"train/labels\")\n",
    ")"
   ]
  },
  {
   "cell_type": "code",
   "execution_count": null,
   "metadata": {},
   "outputs": [],
   "source": [
    "# Creating the YAML configuration file\n",
    "create_yaml(\n",
    "    input_json_path=os.path.join(base_input_path, \"train/coco_annotations.json\"),\n",
    "    output_yaml_path=os.path.join(base_output_path, \"data.yaml\"),\n",
    "    train_path=\"train/images\",\n",
    "    val_path=\"valid/images\",\n",
    "    test_path='../test/images'  # or None if not applicable\n",
    ")"
   ]
  },
  {
   "cell_type": "markdown",
   "metadata": {},
   "source": [
    "### Visualize YOLO labels"
   ]
  },
  {
   "cell_type": "code",
   "execution_count": null,
   "metadata": {},
   "outputs": [],
   "source": [
    "def display_images_with_annotations(image_paths, annotation_paths):\n",
    "    fig, axs = plt.subplots(2, 2, figsize=(10, 10))\n",
    "    \n",
    "    for ax, img_path, ann_path in zip(axs.ravel(), image_paths, annotation_paths):\n",
    "        # Load image using OpenCV and convert it from BGR to RGB color space\n",
    "        image = cv2.imread(img_path)\n",
    "        image = cv2.cvtColor(image, cv2.COLOR_BGR2RGB)\n",
    "        img_h, img_w, _ = image.shape\n",
    "        \n",
    "        ax.imshow(image)\n",
    "        ax.axis('off')  # Turn off the axes\n",
    "\n",
    "        # Open the annotation file and process each line\n",
    "        with open(ann_path, 'r') as file:\n",
    "            for line in file:\n",
    "                parts = line.strip().split()\n",
    "                category_id = int(parts[0])\n",
    "                color = tuple(np.random.rand(3))  # Generate a random RGB color\n",
    "                polygon = [float(coord) for coord in parts[1:]]\n",
    "                polygon = [coord * img_w if i % 2 == 0 else coord * img_h for i, coord in enumerate(polygon)]\n",
    "                polygon = [(polygon[i], polygon[i+1]) for i in range(0, len(polygon), 2)]\n",
    "                patch = patches.Polygon(polygon, closed=True, edgecolor=color, fill=False)\n",
    "                ax.add_patch(patch)\n",
    "\n",
    "    plt.tight_layout()\n",
    "    plt.show()\n",
    "\n",
    "# Get all image files\n",
    "image_dir = \"yolo_dataset/train/images/\"\n",
    "annotation_dir = \"yolo_dataset/train/labels/\"\n",
    "all_image_files = [f for f in os.listdir(image_dir) if f.endswith('.png')]\n",
    "random_image_files = random.sample(all_image_files, 4)\n",
    "\n",
    "# Get corresponding annotation files\n",
    "image_paths = [os.path.join(image_dir, f) for f in random_image_files]\n",
    "annotation_paths = [os.path.join(annotation_dir, f.replace(\".png\", \".txt\")) for f in random_image_files]\n",
    "\n",
    "display_images_with_annotations(image_paths, annotation_paths)"
   ]
  },
  {
   "cell_type": "code",
   "execution_count": 7,
   "metadata": {},
   "outputs": [
    {
     "name": "stdout",
     "output_type": "stream",
     "text": [
      "odict_keys(['encoder.patch_embed1.proj.weight', 'encoder.patch_embed1.proj.bias', 'encoder.patch_embed1.norm.weight', 'encoder.patch_embed1.norm.bias', 'encoder.patch_embed2.proj.weight', 'encoder.patch_embed2.proj.bias', 'encoder.patch_embed2.norm.weight', 'encoder.patch_embed2.norm.bias', 'encoder.patch_embed3.proj.weight', 'encoder.patch_embed3.proj.bias', 'encoder.patch_embed3.norm.weight', 'encoder.patch_embed3.norm.bias', 'encoder.patch_embed4.proj.weight', 'encoder.patch_embed4.proj.bias', 'encoder.patch_embed4.norm.weight', 'encoder.patch_embed4.norm.bias', 'encoder.block1.0.norm1.weight', 'encoder.block1.0.norm1.bias', 'encoder.block1.0.attn.q.weight', 'encoder.block1.0.attn.q.bias', 'encoder.block1.0.attn.kv.weight', 'encoder.block1.0.attn.kv.bias', 'encoder.block1.0.attn.proj.weight', 'encoder.block1.0.attn.proj.bias', 'encoder.block1.0.attn.sr.weight', 'encoder.block1.0.attn.sr.bias', 'encoder.block1.0.attn.norm.weight', 'encoder.block1.0.attn.norm.bias', 'encoder.block1.0.norm2.weight', 'encoder.block1.0.norm2.bias', 'encoder.block1.0.mlp.fc1.weight', 'encoder.block1.0.mlp.fc1.bias', 'encoder.block1.0.mlp.dwconv.dwconv.weight', 'encoder.block1.0.mlp.dwconv.dwconv.bias', 'encoder.block1.0.mlp.fc2.weight', 'encoder.block1.0.mlp.fc2.bias', 'encoder.block1.1.norm1.weight', 'encoder.block1.1.norm1.bias', 'encoder.block1.1.attn.q.weight', 'encoder.block1.1.attn.q.bias', 'encoder.block1.1.attn.kv.weight', 'encoder.block1.1.attn.kv.bias', 'encoder.block1.1.attn.proj.weight', 'encoder.block1.1.attn.proj.bias', 'encoder.block1.1.attn.sr.weight', 'encoder.block1.1.attn.sr.bias', 'encoder.block1.1.attn.norm.weight', 'encoder.block1.1.attn.norm.bias', 'encoder.block1.1.norm2.weight', 'encoder.block1.1.norm2.bias', 'encoder.block1.1.mlp.fc1.weight', 'encoder.block1.1.mlp.fc1.bias', 'encoder.block1.1.mlp.dwconv.dwconv.weight', 'encoder.block1.1.mlp.dwconv.dwconv.bias', 'encoder.block1.1.mlp.fc2.weight', 'encoder.block1.1.mlp.fc2.bias', 'encoder.block1.2.norm1.weight', 'encoder.block1.2.norm1.bias', 'encoder.block1.2.attn.q.weight', 'encoder.block1.2.attn.q.bias', 'encoder.block1.2.attn.kv.weight', 'encoder.block1.2.attn.kv.bias', 'encoder.block1.2.attn.proj.weight', 'encoder.block1.2.attn.proj.bias', 'encoder.block1.2.attn.sr.weight', 'encoder.block1.2.attn.sr.bias', 'encoder.block1.2.attn.norm.weight', 'encoder.block1.2.attn.norm.bias', 'encoder.block1.2.norm2.weight', 'encoder.block1.2.norm2.bias', 'encoder.block1.2.mlp.fc1.weight', 'encoder.block1.2.mlp.fc1.bias', 'encoder.block1.2.mlp.dwconv.dwconv.weight', 'encoder.block1.2.mlp.dwconv.dwconv.bias', 'encoder.block1.2.mlp.fc2.weight', 'encoder.block1.2.mlp.fc2.bias', 'encoder.norm1.weight', 'encoder.norm1.bias', 'encoder.block2.0.norm1.weight', 'encoder.block2.0.norm1.bias', 'encoder.block2.0.attn.q.weight', 'encoder.block2.0.attn.q.bias', 'encoder.block2.0.attn.kv.weight', 'encoder.block2.0.attn.kv.bias', 'encoder.block2.0.attn.proj.weight', 'encoder.block2.0.attn.proj.bias', 'encoder.block2.0.attn.sr.weight', 'encoder.block2.0.attn.sr.bias', 'encoder.block2.0.attn.norm.weight', 'encoder.block2.0.attn.norm.bias', 'encoder.block2.0.norm2.weight', 'encoder.block2.0.norm2.bias', 'encoder.block2.0.mlp.fc1.weight', 'encoder.block2.0.mlp.fc1.bias', 'encoder.block2.0.mlp.dwconv.dwconv.weight', 'encoder.block2.0.mlp.dwconv.dwconv.bias', 'encoder.block2.0.mlp.fc2.weight', 'encoder.block2.0.mlp.fc2.bias', 'encoder.block2.1.norm1.weight', 'encoder.block2.1.norm1.bias', 'encoder.block2.1.attn.q.weight', 'encoder.block2.1.attn.q.bias', 'encoder.block2.1.attn.kv.weight', 'encoder.block2.1.attn.kv.bias', 'encoder.block2.1.attn.proj.weight', 'encoder.block2.1.attn.proj.bias', 'encoder.block2.1.attn.sr.weight', 'encoder.block2.1.attn.sr.bias', 'encoder.block2.1.attn.norm.weight', 'encoder.block2.1.attn.norm.bias', 'encoder.block2.1.norm2.weight', 'encoder.block2.1.norm2.bias', 'encoder.block2.1.mlp.fc1.weight', 'encoder.block2.1.mlp.fc1.bias', 'encoder.block2.1.mlp.dwconv.dwconv.weight', 'encoder.block2.1.mlp.dwconv.dwconv.bias', 'encoder.block2.1.mlp.fc2.weight', 'encoder.block2.1.mlp.fc2.bias', 'encoder.block2.2.norm1.weight', 'encoder.block2.2.norm1.bias', 'encoder.block2.2.attn.q.weight', 'encoder.block2.2.attn.q.bias', 'encoder.block2.2.attn.kv.weight', 'encoder.block2.2.attn.kv.bias', 'encoder.block2.2.attn.proj.weight', 'encoder.block2.2.attn.proj.bias', 'encoder.block2.2.attn.sr.weight', 'encoder.block2.2.attn.sr.bias', 'encoder.block2.2.attn.norm.weight', 'encoder.block2.2.attn.norm.bias', 'encoder.block2.2.norm2.weight', 'encoder.block2.2.norm2.bias', 'encoder.block2.2.mlp.fc1.weight', 'encoder.block2.2.mlp.fc1.bias', 'encoder.block2.2.mlp.dwconv.dwconv.weight', 'encoder.block2.2.mlp.dwconv.dwconv.bias', 'encoder.block2.2.mlp.fc2.weight', 'encoder.block2.2.mlp.fc2.bias', 'encoder.block2.3.norm1.weight', 'encoder.block2.3.norm1.bias', 'encoder.block2.3.attn.q.weight', 'encoder.block2.3.attn.q.bias', 'encoder.block2.3.attn.kv.weight', 'encoder.block2.3.attn.kv.bias', 'encoder.block2.3.attn.proj.weight', 'encoder.block2.3.attn.proj.bias', 'encoder.block2.3.attn.sr.weight', 'encoder.block2.3.attn.sr.bias', 'encoder.block2.3.attn.norm.weight', 'encoder.block2.3.attn.norm.bias', 'encoder.block2.3.norm2.weight', 'encoder.block2.3.norm2.bias', 'encoder.block2.3.mlp.fc1.weight', 'encoder.block2.3.mlp.fc1.bias', 'encoder.block2.3.mlp.dwconv.dwconv.weight', 'encoder.block2.3.mlp.dwconv.dwconv.bias', 'encoder.block2.3.mlp.fc2.weight', 'encoder.block2.3.mlp.fc2.bias', 'encoder.block2.4.norm1.weight', 'encoder.block2.4.norm1.bias', 'encoder.block2.4.attn.q.weight', 'encoder.block2.4.attn.q.bias', 'encoder.block2.4.attn.kv.weight', 'encoder.block2.4.attn.kv.bias', 'encoder.block2.4.attn.proj.weight', 'encoder.block2.4.attn.proj.bias', 'encoder.block2.4.attn.sr.weight', 'encoder.block2.4.attn.sr.bias', 'encoder.block2.4.attn.norm.weight', 'encoder.block2.4.attn.norm.bias', 'encoder.block2.4.norm2.weight', 'encoder.block2.4.norm2.bias', 'encoder.block2.4.mlp.fc1.weight', 'encoder.block2.4.mlp.fc1.bias', 'encoder.block2.4.mlp.dwconv.dwconv.weight', 'encoder.block2.4.mlp.dwconv.dwconv.bias', 'encoder.block2.4.mlp.fc2.weight', 'encoder.block2.4.mlp.fc2.bias', 'encoder.block2.5.norm1.weight', 'encoder.block2.5.norm1.bias', 'encoder.block2.5.attn.q.weight', 'encoder.block2.5.attn.q.bias', 'encoder.block2.5.attn.kv.weight', 'encoder.block2.5.attn.kv.bias', 'encoder.block2.5.attn.proj.weight', 'encoder.block2.5.attn.proj.bias', 'encoder.block2.5.attn.sr.weight', 'encoder.block2.5.attn.sr.bias', 'encoder.block2.5.attn.norm.weight', 'encoder.block2.5.attn.norm.bias', 'encoder.block2.5.norm2.weight', 'encoder.block2.5.norm2.bias', 'encoder.block2.5.mlp.fc1.weight', 'encoder.block2.5.mlp.fc1.bias', 'encoder.block2.5.mlp.dwconv.dwconv.weight', 'encoder.block2.5.mlp.dwconv.dwconv.bias', 'encoder.block2.5.mlp.fc2.weight', 'encoder.block2.5.mlp.fc2.bias', 'encoder.norm2.weight', 'encoder.norm2.bias', 'encoder.block3.0.norm1.weight', 'encoder.block3.0.norm1.bias', 'encoder.block3.0.attn.q.weight', 'encoder.block3.0.attn.q.bias', 'encoder.block3.0.attn.kv.weight', 'encoder.block3.0.attn.kv.bias', 'encoder.block3.0.attn.proj.weight', 'encoder.block3.0.attn.proj.bias', 'encoder.block3.0.attn.sr.weight', 'encoder.block3.0.attn.sr.bias', 'encoder.block3.0.attn.norm.weight', 'encoder.block3.0.attn.norm.bias', 'encoder.block3.0.norm2.weight', 'encoder.block3.0.norm2.bias', 'encoder.block3.0.mlp.fc1.weight', 'encoder.block3.0.mlp.fc1.bias', 'encoder.block3.0.mlp.dwconv.dwconv.weight', 'encoder.block3.0.mlp.dwconv.dwconv.bias', 'encoder.block3.0.mlp.fc2.weight', 'encoder.block3.0.mlp.fc2.bias', 'encoder.block3.1.norm1.weight', 'encoder.block3.1.norm1.bias', 'encoder.block3.1.attn.q.weight', 'encoder.block3.1.attn.q.bias', 'encoder.block3.1.attn.kv.weight', 'encoder.block3.1.attn.kv.bias', 'encoder.block3.1.attn.proj.weight', 'encoder.block3.1.attn.proj.bias', 'encoder.block3.1.attn.sr.weight', 'encoder.block3.1.attn.sr.bias', 'encoder.block3.1.attn.norm.weight', 'encoder.block3.1.attn.norm.bias', 'encoder.block3.1.norm2.weight', 'encoder.block3.1.norm2.bias', 'encoder.block3.1.mlp.fc1.weight', 'encoder.block3.1.mlp.fc1.bias', 'encoder.block3.1.mlp.dwconv.dwconv.weight', 'encoder.block3.1.mlp.dwconv.dwconv.bias', 'encoder.block3.1.mlp.fc2.weight', 'encoder.block3.1.mlp.fc2.bias', 'encoder.block3.2.norm1.weight', 'encoder.block3.2.norm1.bias', 'encoder.block3.2.attn.q.weight', 'encoder.block3.2.attn.q.bias', 'encoder.block3.2.attn.kv.weight', 'encoder.block3.2.attn.kv.bias', 'encoder.block3.2.attn.proj.weight', 'encoder.block3.2.attn.proj.bias', 'encoder.block3.2.attn.sr.weight', 'encoder.block3.2.attn.sr.bias', 'encoder.block3.2.attn.norm.weight', 'encoder.block3.2.attn.norm.bias', 'encoder.block3.2.norm2.weight', 'encoder.block3.2.norm2.bias', 'encoder.block3.2.mlp.fc1.weight', 'encoder.block3.2.mlp.fc1.bias', 'encoder.block3.2.mlp.dwconv.dwconv.weight', 'encoder.block3.2.mlp.dwconv.dwconv.bias', 'encoder.block3.2.mlp.fc2.weight', 'encoder.block3.2.mlp.fc2.bias', 'encoder.block3.3.norm1.weight', 'encoder.block3.3.norm1.bias', 'encoder.block3.3.attn.q.weight', 'encoder.block3.3.attn.q.bias', 'encoder.block3.3.attn.kv.weight', 'encoder.block3.3.attn.kv.bias', 'encoder.block3.3.attn.proj.weight', 'encoder.block3.3.attn.proj.bias', 'encoder.block3.3.attn.sr.weight', 'encoder.block3.3.attn.sr.bias', 'encoder.block3.3.attn.norm.weight', 'encoder.block3.3.attn.norm.bias', 'encoder.block3.3.norm2.weight', 'encoder.block3.3.norm2.bias', 'encoder.block3.3.mlp.fc1.weight', 'encoder.block3.3.mlp.fc1.bias', 'encoder.block3.3.mlp.dwconv.dwconv.weight', 'encoder.block3.3.mlp.dwconv.dwconv.bias', 'encoder.block3.3.mlp.fc2.weight', 'encoder.block3.3.mlp.fc2.bias', 'encoder.block3.4.norm1.weight', 'encoder.block3.4.norm1.bias', 'encoder.block3.4.attn.q.weight', 'encoder.block3.4.attn.q.bias', 'encoder.block3.4.attn.kv.weight', 'encoder.block3.4.attn.kv.bias', 'encoder.block3.4.attn.proj.weight', 'encoder.block3.4.attn.proj.bias', 'encoder.block3.4.attn.sr.weight', 'encoder.block3.4.attn.sr.bias', 'encoder.block3.4.attn.norm.weight', 'encoder.block3.4.attn.norm.bias', 'encoder.block3.4.norm2.weight', 'encoder.block3.4.norm2.bias', 'encoder.block3.4.mlp.fc1.weight', 'encoder.block3.4.mlp.fc1.bias', 'encoder.block3.4.mlp.dwconv.dwconv.weight', 'encoder.block3.4.mlp.dwconv.dwconv.bias', 'encoder.block3.4.mlp.fc2.weight', 'encoder.block3.4.mlp.fc2.bias', 'encoder.block3.5.norm1.weight', 'encoder.block3.5.norm1.bias', 'encoder.block3.5.attn.q.weight', 'encoder.block3.5.attn.q.bias', 'encoder.block3.5.attn.kv.weight', 'encoder.block3.5.attn.kv.bias', 'encoder.block3.5.attn.proj.weight', 'encoder.block3.5.attn.proj.bias', 'encoder.block3.5.attn.sr.weight', 'encoder.block3.5.attn.sr.bias', 'encoder.block3.5.attn.norm.weight', 'encoder.block3.5.attn.norm.bias', 'encoder.block3.5.norm2.weight', 'encoder.block3.5.norm2.bias', 'encoder.block3.5.mlp.fc1.weight', 'encoder.block3.5.mlp.fc1.bias', 'encoder.block3.5.mlp.dwconv.dwconv.weight', 'encoder.block3.5.mlp.dwconv.dwconv.bias', 'encoder.block3.5.mlp.fc2.weight', 'encoder.block3.5.mlp.fc2.bias', 'encoder.block3.6.norm1.weight', 'encoder.block3.6.norm1.bias', 'encoder.block3.6.attn.q.weight', 'encoder.block3.6.attn.q.bias', 'encoder.block3.6.attn.kv.weight', 'encoder.block3.6.attn.kv.bias', 'encoder.block3.6.attn.proj.weight', 'encoder.block3.6.attn.proj.bias', 'encoder.block3.6.attn.sr.weight', 'encoder.block3.6.attn.sr.bias', 'encoder.block3.6.attn.norm.weight', 'encoder.block3.6.attn.norm.bias', 'encoder.block3.6.norm2.weight', 'encoder.block3.6.norm2.bias', 'encoder.block3.6.mlp.fc1.weight', 'encoder.block3.6.mlp.fc1.bias', 'encoder.block3.6.mlp.dwconv.dwconv.weight', 'encoder.block3.6.mlp.dwconv.dwconv.bias', 'encoder.block3.6.mlp.fc2.weight', 'encoder.block3.6.mlp.fc2.bias', 'encoder.block3.7.norm1.weight', 'encoder.block3.7.norm1.bias', 'encoder.block3.7.attn.q.weight', 'encoder.block3.7.attn.q.bias', 'encoder.block3.7.attn.kv.weight', 'encoder.block3.7.attn.kv.bias', 'encoder.block3.7.attn.proj.weight', 'encoder.block3.7.attn.proj.bias', 'encoder.block3.7.attn.sr.weight', 'encoder.block3.7.attn.sr.bias', 'encoder.block3.7.attn.norm.weight', 'encoder.block3.7.attn.norm.bias', 'encoder.block3.7.norm2.weight', 'encoder.block3.7.norm2.bias', 'encoder.block3.7.mlp.fc1.weight', 'encoder.block3.7.mlp.fc1.bias', 'encoder.block3.7.mlp.dwconv.dwconv.weight', 'encoder.block3.7.mlp.dwconv.dwconv.bias', 'encoder.block3.7.mlp.fc2.weight', 'encoder.block3.7.mlp.fc2.bias', 'encoder.block3.8.norm1.weight', 'encoder.block3.8.norm1.bias', 'encoder.block3.8.attn.q.weight', 'encoder.block3.8.attn.q.bias', 'encoder.block3.8.attn.kv.weight', 'encoder.block3.8.attn.kv.bias', 'encoder.block3.8.attn.proj.weight', 'encoder.block3.8.attn.proj.bias', 'encoder.block3.8.attn.sr.weight', 'encoder.block3.8.attn.sr.bias', 'encoder.block3.8.attn.norm.weight', 'encoder.block3.8.attn.norm.bias', 'encoder.block3.8.norm2.weight', 'encoder.block3.8.norm2.bias', 'encoder.block3.8.mlp.fc1.weight', 'encoder.block3.8.mlp.fc1.bias', 'encoder.block3.8.mlp.dwconv.dwconv.weight', 'encoder.block3.8.mlp.dwconv.dwconv.bias', 'encoder.block3.8.mlp.fc2.weight', 'encoder.block3.8.mlp.fc2.bias', 'encoder.block3.9.norm1.weight', 'encoder.block3.9.norm1.bias', 'encoder.block3.9.attn.q.weight', 'encoder.block3.9.attn.q.bias', 'encoder.block3.9.attn.kv.weight', 'encoder.block3.9.attn.kv.bias', 'encoder.block3.9.attn.proj.weight', 'encoder.block3.9.attn.proj.bias', 'encoder.block3.9.attn.sr.weight', 'encoder.block3.9.attn.sr.bias', 'encoder.block3.9.attn.norm.weight', 'encoder.block3.9.attn.norm.bias', 'encoder.block3.9.norm2.weight', 'encoder.block3.9.norm2.bias', 'encoder.block3.9.mlp.fc1.weight', 'encoder.block3.9.mlp.fc1.bias', 'encoder.block3.9.mlp.dwconv.dwconv.weight', 'encoder.block3.9.mlp.dwconv.dwconv.bias', 'encoder.block3.9.mlp.fc2.weight', 'encoder.block3.9.mlp.fc2.bias', 'encoder.block3.10.norm1.weight', 'encoder.block3.10.norm1.bias', 'encoder.block3.10.attn.q.weight', 'encoder.block3.10.attn.q.bias', 'encoder.block3.10.attn.kv.weight', 'encoder.block3.10.attn.kv.bias', 'encoder.block3.10.attn.proj.weight', 'encoder.block3.10.attn.proj.bias', 'encoder.block3.10.attn.sr.weight', 'encoder.block3.10.attn.sr.bias', 'encoder.block3.10.attn.norm.weight', 'encoder.block3.10.attn.norm.bias', 'encoder.block3.10.norm2.weight', 'encoder.block3.10.norm2.bias', 'encoder.block3.10.mlp.fc1.weight', 'encoder.block3.10.mlp.fc1.bias', 'encoder.block3.10.mlp.dwconv.dwconv.weight', 'encoder.block3.10.mlp.dwconv.dwconv.bias', 'encoder.block3.10.mlp.fc2.weight', 'encoder.block3.10.mlp.fc2.bias', 'encoder.block3.11.norm1.weight', 'encoder.block3.11.norm1.bias', 'encoder.block3.11.attn.q.weight', 'encoder.block3.11.attn.q.bias', 'encoder.block3.11.attn.kv.weight', 'encoder.block3.11.attn.kv.bias', 'encoder.block3.11.attn.proj.weight', 'encoder.block3.11.attn.proj.bias', 'encoder.block3.11.attn.sr.weight', 'encoder.block3.11.attn.sr.bias', 'encoder.block3.11.attn.norm.weight', 'encoder.block3.11.attn.norm.bias', 'encoder.block3.11.norm2.weight', 'encoder.block3.11.norm2.bias', 'encoder.block3.11.mlp.fc1.weight', 'encoder.block3.11.mlp.fc1.bias', 'encoder.block3.11.mlp.dwconv.dwconv.weight', 'encoder.block3.11.mlp.dwconv.dwconv.bias', 'encoder.block3.11.mlp.fc2.weight', 'encoder.block3.11.mlp.fc2.bias', 'encoder.block3.12.norm1.weight', 'encoder.block3.12.norm1.bias', 'encoder.block3.12.attn.q.weight', 'encoder.block3.12.attn.q.bias', 'encoder.block3.12.attn.kv.weight', 'encoder.block3.12.attn.kv.bias', 'encoder.block3.12.attn.proj.weight', 'encoder.block3.12.attn.proj.bias', 'encoder.block3.12.attn.sr.weight', 'encoder.block3.12.attn.sr.bias', 'encoder.block3.12.attn.norm.weight', 'encoder.block3.12.attn.norm.bias', 'encoder.block3.12.norm2.weight', 'encoder.block3.12.norm2.bias', 'encoder.block3.12.mlp.fc1.weight', 'encoder.block3.12.mlp.fc1.bias', 'encoder.block3.12.mlp.dwconv.dwconv.weight', 'encoder.block3.12.mlp.dwconv.dwconv.bias', 'encoder.block3.12.mlp.fc2.weight', 'encoder.block3.12.mlp.fc2.bias', 'encoder.block3.13.norm1.weight', 'encoder.block3.13.norm1.bias', 'encoder.block3.13.attn.q.weight', 'encoder.block3.13.attn.q.bias', 'encoder.block3.13.attn.kv.weight', 'encoder.block3.13.attn.kv.bias', 'encoder.block3.13.attn.proj.weight', 'encoder.block3.13.attn.proj.bias', 'encoder.block3.13.attn.sr.weight', 'encoder.block3.13.attn.sr.bias', 'encoder.block3.13.attn.norm.weight', 'encoder.block3.13.attn.norm.bias', 'encoder.block3.13.norm2.weight', 'encoder.block3.13.norm2.bias', 'encoder.block3.13.mlp.fc1.weight', 'encoder.block3.13.mlp.fc1.bias', 'encoder.block3.13.mlp.dwconv.dwconv.weight', 'encoder.block3.13.mlp.dwconv.dwconv.bias', 'encoder.block3.13.mlp.fc2.weight', 'encoder.block3.13.mlp.fc2.bias', 'encoder.block3.14.norm1.weight', 'encoder.block3.14.norm1.bias', 'encoder.block3.14.attn.q.weight', 'encoder.block3.14.attn.q.bias', 'encoder.block3.14.attn.kv.weight', 'encoder.block3.14.attn.kv.bias', 'encoder.block3.14.attn.proj.weight', 'encoder.block3.14.attn.proj.bias', 'encoder.block3.14.attn.sr.weight', 'encoder.block3.14.attn.sr.bias', 'encoder.block3.14.attn.norm.weight', 'encoder.block3.14.attn.norm.bias', 'encoder.block3.14.norm2.weight', 'encoder.block3.14.norm2.bias', 'encoder.block3.14.mlp.fc1.weight', 'encoder.block3.14.mlp.fc1.bias', 'encoder.block3.14.mlp.dwconv.dwconv.weight', 'encoder.block3.14.mlp.dwconv.dwconv.bias', 'encoder.block3.14.mlp.fc2.weight', 'encoder.block3.14.mlp.fc2.bias', 'encoder.block3.15.norm1.weight', 'encoder.block3.15.norm1.bias', 'encoder.block3.15.attn.q.weight', 'encoder.block3.15.attn.q.bias', 'encoder.block3.15.attn.kv.weight', 'encoder.block3.15.attn.kv.bias', 'encoder.block3.15.attn.proj.weight', 'encoder.block3.15.attn.proj.bias', 'encoder.block3.15.attn.sr.weight', 'encoder.block3.15.attn.sr.bias', 'encoder.block3.15.attn.norm.weight', 'encoder.block3.15.attn.norm.bias', 'encoder.block3.15.norm2.weight', 'encoder.block3.15.norm2.bias', 'encoder.block3.15.mlp.fc1.weight', 'encoder.block3.15.mlp.fc1.bias', 'encoder.block3.15.mlp.dwconv.dwconv.weight', 'encoder.block3.15.mlp.dwconv.dwconv.bias', 'encoder.block3.15.mlp.fc2.weight', 'encoder.block3.15.mlp.fc2.bias', 'encoder.block3.16.norm1.weight', 'encoder.block3.16.norm1.bias', 'encoder.block3.16.attn.q.weight', 'encoder.block3.16.attn.q.bias', 'encoder.block3.16.attn.kv.weight', 'encoder.block3.16.attn.kv.bias', 'encoder.block3.16.attn.proj.weight', 'encoder.block3.16.attn.proj.bias', 'encoder.block3.16.attn.sr.weight', 'encoder.block3.16.attn.sr.bias', 'encoder.block3.16.attn.norm.weight', 'encoder.block3.16.attn.norm.bias', 'encoder.block3.16.norm2.weight', 'encoder.block3.16.norm2.bias', 'encoder.block3.16.mlp.fc1.weight', 'encoder.block3.16.mlp.fc1.bias', 'encoder.block3.16.mlp.dwconv.dwconv.weight', 'encoder.block3.16.mlp.dwconv.dwconv.bias', 'encoder.block3.16.mlp.fc2.weight', 'encoder.block3.16.mlp.fc2.bias', 'encoder.block3.17.norm1.weight', 'encoder.block3.17.norm1.bias', 'encoder.block3.17.attn.q.weight', 'encoder.block3.17.attn.q.bias', 'encoder.block3.17.attn.kv.weight', 'encoder.block3.17.attn.kv.bias', 'encoder.block3.17.attn.proj.weight', 'encoder.block3.17.attn.proj.bias', 'encoder.block3.17.attn.sr.weight', 'encoder.block3.17.attn.sr.bias', 'encoder.block3.17.attn.norm.weight', 'encoder.block3.17.attn.norm.bias', 'encoder.block3.17.norm2.weight', 'encoder.block3.17.norm2.bias', 'encoder.block3.17.mlp.fc1.weight', 'encoder.block3.17.mlp.fc1.bias', 'encoder.block3.17.mlp.dwconv.dwconv.weight', 'encoder.block3.17.mlp.dwconv.dwconv.bias', 'encoder.block3.17.mlp.fc2.weight', 'encoder.block3.17.mlp.fc2.bias', 'encoder.block3.18.norm1.weight', 'encoder.block3.18.norm1.bias', 'encoder.block3.18.attn.q.weight', 'encoder.block3.18.attn.q.bias', 'encoder.block3.18.attn.kv.weight', 'encoder.block3.18.attn.kv.bias', 'encoder.block3.18.attn.proj.weight', 'encoder.block3.18.attn.proj.bias', 'encoder.block3.18.attn.sr.weight', 'encoder.block3.18.attn.sr.bias', 'encoder.block3.18.attn.norm.weight', 'encoder.block3.18.attn.norm.bias', 'encoder.block3.18.norm2.weight', 'encoder.block3.18.norm2.bias', 'encoder.block3.18.mlp.fc1.weight', 'encoder.block3.18.mlp.fc1.bias', 'encoder.block3.18.mlp.dwconv.dwconv.weight', 'encoder.block3.18.mlp.dwconv.dwconv.bias', 'encoder.block3.18.mlp.fc2.weight', 'encoder.block3.18.mlp.fc2.bias', 'encoder.block3.19.norm1.weight', 'encoder.block3.19.norm1.bias', 'encoder.block3.19.attn.q.weight', 'encoder.block3.19.attn.q.bias', 'encoder.block3.19.attn.kv.weight', 'encoder.block3.19.attn.kv.bias', 'encoder.block3.19.attn.proj.weight', 'encoder.block3.19.attn.proj.bias', 'encoder.block3.19.attn.sr.weight', 'encoder.block3.19.attn.sr.bias', 'encoder.block3.19.attn.norm.weight', 'encoder.block3.19.attn.norm.bias', 'encoder.block3.19.norm2.weight', 'encoder.block3.19.norm2.bias', 'encoder.block3.19.mlp.fc1.weight', 'encoder.block3.19.mlp.fc1.bias', 'encoder.block3.19.mlp.dwconv.dwconv.weight', 'encoder.block3.19.mlp.dwconv.dwconv.bias', 'encoder.block3.19.mlp.fc2.weight', 'encoder.block3.19.mlp.fc2.bias', 'encoder.block3.20.norm1.weight', 'encoder.block3.20.norm1.bias', 'encoder.block3.20.attn.q.weight', 'encoder.block3.20.attn.q.bias', 'encoder.block3.20.attn.kv.weight', 'encoder.block3.20.attn.kv.bias', 'encoder.block3.20.attn.proj.weight', 'encoder.block3.20.attn.proj.bias', 'encoder.block3.20.attn.sr.weight', 'encoder.block3.20.attn.sr.bias', 'encoder.block3.20.attn.norm.weight', 'encoder.block3.20.attn.norm.bias', 'encoder.block3.20.norm2.weight', 'encoder.block3.20.norm2.bias', 'encoder.block3.20.mlp.fc1.weight', 'encoder.block3.20.mlp.fc1.bias', 'encoder.block3.20.mlp.dwconv.dwconv.weight', 'encoder.block3.20.mlp.dwconv.dwconv.bias', 'encoder.block3.20.mlp.fc2.weight', 'encoder.block3.20.mlp.fc2.bias', 'encoder.block3.21.norm1.weight', 'encoder.block3.21.norm1.bias', 'encoder.block3.21.attn.q.weight', 'encoder.block3.21.attn.q.bias', 'encoder.block3.21.attn.kv.weight', 'encoder.block3.21.attn.kv.bias', 'encoder.block3.21.attn.proj.weight', 'encoder.block3.21.attn.proj.bias', 'encoder.block3.21.attn.sr.weight', 'encoder.block3.21.attn.sr.bias', 'encoder.block3.21.attn.norm.weight', 'encoder.block3.21.attn.norm.bias', 'encoder.block3.21.norm2.weight', 'encoder.block3.21.norm2.bias', 'encoder.block3.21.mlp.fc1.weight', 'encoder.block3.21.mlp.fc1.bias', 'encoder.block3.21.mlp.dwconv.dwconv.weight', 'encoder.block3.21.mlp.dwconv.dwconv.bias', 'encoder.block3.21.mlp.fc2.weight', 'encoder.block3.21.mlp.fc2.bias', 'encoder.block3.22.norm1.weight', 'encoder.block3.22.norm1.bias', 'encoder.block3.22.attn.q.weight', 'encoder.block3.22.attn.q.bias', 'encoder.block3.22.attn.kv.weight', 'encoder.block3.22.attn.kv.bias', 'encoder.block3.22.attn.proj.weight', 'encoder.block3.22.attn.proj.bias', 'encoder.block3.22.attn.sr.weight', 'encoder.block3.22.attn.sr.bias', 'encoder.block3.22.attn.norm.weight', 'encoder.block3.22.attn.norm.bias', 'encoder.block3.22.norm2.weight', 'encoder.block3.22.norm2.bias', 'encoder.block3.22.mlp.fc1.weight', 'encoder.block3.22.mlp.fc1.bias', 'encoder.block3.22.mlp.dwconv.dwconv.weight', 'encoder.block3.22.mlp.dwconv.dwconv.bias', 'encoder.block3.22.mlp.fc2.weight', 'encoder.block3.22.mlp.fc2.bias', 'encoder.block3.23.norm1.weight', 'encoder.block3.23.norm1.bias', 'encoder.block3.23.attn.q.weight', 'encoder.block3.23.attn.q.bias', 'encoder.block3.23.attn.kv.weight', 'encoder.block3.23.attn.kv.bias', 'encoder.block3.23.attn.proj.weight', 'encoder.block3.23.attn.proj.bias', 'encoder.block3.23.attn.sr.weight', 'encoder.block3.23.attn.sr.bias', 'encoder.block3.23.attn.norm.weight', 'encoder.block3.23.attn.norm.bias', 'encoder.block3.23.norm2.weight', 'encoder.block3.23.norm2.bias', 'encoder.block3.23.mlp.fc1.weight', 'encoder.block3.23.mlp.fc1.bias', 'encoder.block3.23.mlp.dwconv.dwconv.weight', 'encoder.block3.23.mlp.dwconv.dwconv.bias', 'encoder.block3.23.mlp.fc2.weight', 'encoder.block3.23.mlp.fc2.bias', 'encoder.block3.24.norm1.weight', 'encoder.block3.24.norm1.bias', 'encoder.block3.24.attn.q.weight', 'encoder.block3.24.attn.q.bias', 'encoder.block3.24.attn.kv.weight', 'encoder.block3.24.attn.kv.bias', 'encoder.block3.24.attn.proj.weight', 'encoder.block3.24.attn.proj.bias', 'encoder.block3.24.attn.sr.weight', 'encoder.block3.24.attn.sr.bias', 'encoder.block3.24.attn.norm.weight', 'encoder.block3.24.attn.norm.bias', 'encoder.block3.24.norm2.weight', 'encoder.block3.24.norm2.bias', 'encoder.block3.24.mlp.fc1.weight', 'encoder.block3.24.mlp.fc1.bias', 'encoder.block3.24.mlp.dwconv.dwconv.weight', 'encoder.block3.24.mlp.dwconv.dwconv.bias', 'encoder.block3.24.mlp.fc2.weight', 'encoder.block3.24.mlp.fc2.bias', 'encoder.block3.25.norm1.weight', 'encoder.block3.25.norm1.bias', 'encoder.block3.25.attn.q.weight', 'encoder.block3.25.attn.q.bias', 'encoder.block3.25.attn.kv.weight', 'encoder.block3.25.attn.kv.bias', 'encoder.block3.25.attn.proj.weight', 'encoder.block3.25.attn.proj.bias', 'encoder.block3.25.attn.sr.weight', 'encoder.block3.25.attn.sr.bias', 'encoder.block3.25.attn.norm.weight', 'encoder.block3.25.attn.norm.bias', 'encoder.block3.25.norm2.weight', 'encoder.block3.25.norm2.bias', 'encoder.block3.25.mlp.fc1.weight', 'encoder.block3.25.mlp.fc1.bias', 'encoder.block3.25.mlp.dwconv.dwconv.weight', 'encoder.block3.25.mlp.dwconv.dwconv.bias', 'encoder.block3.25.mlp.fc2.weight', 'encoder.block3.25.mlp.fc2.bias', 'encoder.block3.26.norm1.weight', 'encoder.block3.26.norm1.bias', 'encoder.block3.26.attn.q.weight', 'encoder.block3.26.attn.q.bias', 'encoder.block3.26.attn.kv.weight', 'encoder.block3.26.attn.kv.bias', 'encoder.block3.26.attn.proj.weight', 'encoder.block3.26.attn.proj.bias', 'encoder.block3.26.attn.sr.weight', 'encoder.block3.26.attn.sr.bias', 'encoder.block3.26.attn.norm.weight', 'encoder.block3.26.attn.norm.bias', 'encoder.block3.26.norm2.weight', 'encoder.block3.26.norm2.bias', 'encoder.block3.26.mlp.fc1.weight', 'encoder.block3.26.mlp.fc1.bias', 'encoder.block3.26.mlp.dwconv.dwconv.weight', 'encoder.block3.26.mlp.dwconv.dwconv.bias', 'encoder.block3.26.mlp.fc2.weight', 'encoder.block3.26.mlp.fc2.bias', 'encoder.block3.27.norm1.weight', 'encoder.block3.27.norm1.bias', 'encoder.block3.27.attn.q.weight', 'encoder.block3.27.attn.q.bias', 'encoder.block3.27.attn.kv.weight', 'encoder.block3.27.attn.kv.bias', 'encoder.block3.27.attn.proj.weight', 'encoder.block3.27.attn.proj.bias', 'encoder.block3.27.attn.sr.weight', 'encoder.block3.27.attn.sr.bias', 'encoder.block3.27.attn.norm.weight', 'encoder.block3.27.attn.norm.bias', 'encoder.block3.27.norm2.weight', 'encoder.block3.27.norm2.bias', 'encoder.block3.27.mlp.fc1.weight', 'encoder.block3.27.mlp.fc1.bias', 'encoder.block3.27.mlp.dwconv.dwconv.weight', 'encoder.block3.27.mlp.dwconv.dwconv.bias', 'encoder.block3.27.mlp.fc2.weight', 'encoder.block3.27.mlp.fc2.bias', 'encoder.block3.28.norm1.weight', 'encoder.block3.28.norm1.bias', 'encoder.block3.28.attn.q.weight', 'encoder.block3.28.attn.q.bias', 'encoder.block3.28.attn.kv.weight', 'encoder.block3.28.attn.kv.bias', 'encoder.block3.28.attn.proj.weight', 'encoder.block3.28.attn.proj.bias', 'encoder.block3.28.attn.sr.weight', 'encoder.block3.28.attn.sr.bias', 'encoder.block3.28.attn.norm.weight', 'encoder.block3.28.attn.norm.bias', 'encoder.block3.28.norm2.weight', 'encoder.block3.28.norm2.bias', 'encoder.block3.28.mlp.fc1.weight', 'encoder.block3.28.mlp.fc1.bias', 'encoder.block3.28.mlp.dwconv.dwconv.weight', 'encoder.block3.28.mlp.dwconv.dwconv.bias', 'encoder.block3.28.mlp.fc2.weight', 'encoder.block3.28.mlp.fc2.bias', 'encoder.block3.29.norm1.weight', 'encoder.block3.29.norm1.bias', 'encoder.block3.29.attn.q.weight', 'encoder.block3.29.attn.q.bias', 'encoder.block3.29.attn.kv.weight', 'encoder.block3.29.attn.kv.bias', 'encoder.block3.29.attn.proj.weight', 'encoder.block3.29.attn.proj.bias', 'encoder.block3.29.attn.sr.weight', 'encoder.block3.29.attn.sr.bias', 'encoder.block3.29.attn.norm.weight', 'encoder.block3.29.attn.norm.bias', 'encoder.block3.29.norm2.weight', 'encoder.block3.29.norm2.bias', 'encoder.block3.29.mlp.fc1.weight', 'encoder.block3.29.mlp.fc1.bias', 'encoder.block3.29.mlp.dwconv.dwconv.weight', 'encoder.block3.29.mlp.dwconv.dwconv.bias', 'encoder.block3.29.mlp.fc2.weight', 'encoder.block3.29.mlp.fc2.bias', 'encoder.block3.30.norm1.weight', 'encoder.block3.30.norm1.bias', 'encoder.block3.30.attn.q.weight', 'encoder.block3.30.attn.q.bias', 'encoder.block3.30.attn.kv.weight', 'encoder.block3.30.attn.kv.bias', 'encoder.block3.30.attn.proj.weight', 'encoder.block3.30.attn.proj.bias', 'encoder.block3.30.attn.sr.weight', 'encoder.block3.30.attn.sr.bias', 'encoder.block3.30.attn.norm.weight', 'encoder.block3.30.attn.norm.bias', 'encoder.block3.30.norm2.weight', 'encoder.block3.30.norm2.bias', 'encoder.block3.30.mlp.fc1.weight', 'encoder.block3.30.mlp.fc1.bias', 'encoder.block3.30.mlp.dwconv.dwconv.weight', 'encoder.block3.30.mlp.dwconv.dwconv.bias', 'encoder.block3.30.mlp.fc2.weight', 'encoder.block3.30.mlp.fc2.bias', 'encoder.block3.31.norm1.weight', 'encoder.block3.31.norm1.bias', 'encoder.block3.31.attn.q.weight', 'encoder.block3.31.attn.q.bias', 'encoder.block3.31.attn.kv.weight', 'encoder.block3.31.attn.kv.bias', 'encoder.block3.31.attn.proj.weight', 'encoder.block3.31.attn.proj.bias', 'encoder.block3.31.attn.sr.weight', 'encoder.block3.31.attn.sr.bias', 'encoder.block3.31.attn.norm.weight', 'encoder.block3.31.attn.norm.bias', 'encoder.block3.31.norm2.weight', 'encoder.block3.31.norm2.bias', 'encoder.block3.31.mlp.fc1.weight', 'encoder.block3.31.mlp.fc1.bias', 'encoder.block3.31.mlp.dwconv.dwconv.weight', 'encoder.block3.31.mlp.dwconv.dwconv.bias', 'encoder.block3.31.mlp.fc2.weight', 'encoder.block3.31.mlp.fc2.bias', 'encoder.block3.32.norm1.weight', 'encoder.block3.32.norm1.bias', 'encoder.block3.32.attn.q.weight', 'encoder.block3.32.attn.q.bias', 'encoder.block3.32.attn.kv.weight', 'encoder.block3.32.attn.kv.bias', 'encoder.block3.32.attn.proj.weight', 'encoder.block3.32.attn.proj.bias', 'encoder.block3.32.attn.sr.weight', 'encoder.block3.32.attn.sr.bias', 'encoder.block3.32.attn.norm.weight', 'encoder.block3.32.attn.norm.bias', 'encoder.block3.32.norm2.weight', 'encoder.block3.32.norm2.bias', 'encoder.block3.32.mlp.fc1.weight', 'encoder.block3.32.mlp.fc1.bias', 'encoder.block3.32.mlp.dwconv.dwconv.weight', 'encoder.block3.32.mlp.dwconv.dwconv.bias', 'encoder.block3.32.mlp.fc2.weight', 'encoder.block3.32.mlp.fc2.bias', 'encoder.block3.33.norm1.weight', 'encoder.block3.33.norm1.bias', 'encoder.block3.33.attn.q.weight', 'encoder.block3.33.attn.q.bias', 'encoder.block3.33.attn.kv.weight', 'encoder.block3.33.attn.kv.bias', 'encoder.block3.33.attn.proj.weight', 'encoder.block3.33.attn.proj.bias', 'encoder.block3.33.attn.sr.weight', 'encoder.block3.33.attn.sr.bias', 'encoder.block3.33.attn.norm.weight', 'encoder.block3.33.attn.norm.bias', 'encoder.block3.33.norm2.weight', 'encoder.block3.33.norm2.bias', 'encoder.block3.33.mlp.fc1.weight', 'encoder.block3.33.mlp.fc1.bias', 'encoder.block3.33.mlp.dwconv.dwconv.weight', 'encoder.block3.33.mlp.dwconv.dwconv.bias', 'encoder.block3.33.mlp.fc2.weight', 'encoder.block3.33.mlp.fc2.bias', 'encoder.block3.34.norm1.weight', 'encoder.block3.34.norm1.bias', 'encoder.block3.34.attn.q.weight', 'encoder.block3.34.attn.q.bias', 'encoder.block3.34.attn.kv.weight', 'encoder.block3.34.attn.kv.bias', 'encoder.block3.34.attn.proj.weight', 'encoder.block3.34.attn.proj.bias', 'encoder.block3.34.attn.sr.weight', 'encoder.block3.34.attn.sr.bias', 'encoder.block3.34.attn.norm.weight', 'encoder.block3.34.attn.norm.bias', 'encoder.block3.34.norm2.weight', 'encoder.block3.34.norm2.bias', 'encoder.block3.34.mlp.fc1.weight', 'encoder.block3.34.mlp.fc1.bias', 'encoder.block3.34.mlp.dwconv.dwconv.weight', 'encoder.block3.34.mlp.dwconv.dwconv.bias', 'encoder.block3.34.mlp.fc2.weight', 'encoder.block3.34.mlp.fc2.bias', 'encoder.block3.35.norm1.weight', 'encoder.block3.35.norm1.bias', 'encoder.block3.35.attn.q.weight', 'encoder.block3.35.attn.q.bias', 'encoder.block3.35.attn.kv.weight', 'encoder.block3.35.attn.kv.bias', 'encoder.block3.35.attn.proj.weight', 'encoder.block3.35.attn.proj.bias', 'encoder.block3.35.attn.sr.weight', 'encoder.block3.35.attn.sr.bias', 'encoder.block3.35.attn.norm.weight', 'encoder.block3.35.attn.norm.bias', 'encoder.block3.35.norm2.weight', 'encoder.block3.35.norm2.bias', 'encoder.block3.35.mlp.fc1.weight', 'encoder.block3.35.mlp.fc1.bias', 'encoder.block3.35.mlp.dwconv.dwconv.weight', 'encoder.block3.35.mlp.dwconv.dwconv.bias', 'encoder.block3.35.mlp.fc2.weight', 'encoder.block3.35.mlp.fc2.bias', 'encoder.block3.36.norm1.weight', 'encoder.block3.36.norm1.bias', 'encoder.block3.36.attn.q.weight', 'encoder.block3.36.attn.q.bias', 'encoder.block3.36.attn.kv.weight', 'encoder.block3.36.attn.kv.bias', 'encoder.block3.36.attn.proj.weight', 'encoder.block3.36.attn.proj.bias', 'encoder.block3.36.attn.sr.weight', 'encoder.block3.36.attn.sr.bias', 'encoder.block3.36.attn.norm.weight', 'encoder.block3.36.attn.norm.bias', 'encoder.block3.36.norm2.weight', 'encoder.block3.36.norm2.bias', 'encoder.block3.36.mlp.fc1.weight', 'encoder.block3.36.mlp.fc1.bias', 'encoder.block3.36.mlp.dwconv.dwconv.weight', 'encoder.block3.36.mlp.dwconv.dwconv.bias', 'encoder.block3.36.mlp.fc2.weight', 'encoder.block3.36.mlp.fc2.bias', 'encoder.block3.37.norm1.weight', 'encoder.block3.37.norm1.bias', 'encoder.block3.37.attn.q.weight', 'encoder.block3.37.attn.q.bias', 'encoder.block3.37.attn.kv.weight', 'encoder.block3.37.attn.kv.bias', 'encoder.block3.37.attn.proj.weight', 'encoder.block3.37.attn.proj.bias', 'encoder.block3.37.attn.sr.weight', 'encoder.block3.37.attn.sr.bias', 'encoder.block3.37.attn.norm.weight', 'encoder.block3.37.attn.norm.bias', 'encoder.block3.37.norm2.weight', 'encoder.block3.37.norm2.bias', 'encoder.block3.37.mlp.fc1.weight', 'encoder.block3.37.mlp.fc1.bias', 'encoder.block3.37.mlp.dwconv.dwconv.weight', 'encoder.block3.37.mlp.dwconv.dwconv.bias', 'encoder.block3.37.mlp.fc2.weight', 'encoder.block3.37.mlp.fc2.bias', 'encoder.block3.38.norm1.weight', 'encoder.block3.38.norm1.bias', 'encoder.block3.38.attn.q.weight', 'encoder.block3.38.attn.q.bias', 'encoder.block3.38.attn.kv.weight', 'encoder.block3.38.attn.kv.bias', 'encoder.block3.38.attn.proj.weight', 'encoder.block3.38.attn.proj.bias', 'encoder.block3.38.attn.sr.weight', 'encoder.block3.38.attn.sr.bias', 'encoder.block3.38.attn.norm.weight', 'encoder.block3.38.attn.norm.bias', 'encoder.block3.38.norm2.weight', 'encoder.block3.38.norm2.bias', 'encoder.block3.38.mlp.fc1.weight', 'encoder.block3.38.mlp.fc1.bias', 'encoder.block3.38.mlp.dwconv.dwconv.weight', 'encoder.block3.38.mlp.dwconv.dwconv.bias', 'encoder.block3.38.mlp.fc2.weight', 'encoder.block3.38.mlp.fc2.bias', 'encoder.block3.39.norm1.weight', 'encoder.block3.39.norm1.bias', 'encoder.block3.39.attn.q.weight', 'encoder.block3.39.attn.q.bias', 'encoder.block3.39.attn.kv.weight', 'encoder.block3.39.attn.kv.bias', 'encoder.block3.39.attn.proj.weight', 'encoder.block3.39.attn.proj.bias', 'encoder.block3.39.attn.sr.weight', 'encoder.block3.39.attn.sr.bias', 'encoder.block3.39.attn.norm.weight', 'encoder.block3.39.attn.norm.bias', 'encoder.block3.39.norm2.weight', 'encoder.block3.39.norm2.bias', 'encoder.block3.39.mlp.fc1.weight', 'encoder.block3.39.mlp.fc1.bias', 'encoder.block3.39.mlp.dwconv.dwconv.weight', 'encoder.block3.39.mlp.dwconv.dwconv.bias', 'encoder.block3.39.mlp.fc2.weight', 'encoder.block3.39.mlp.fc2.bias', 'encoder.norm3.weight', 'encoder.norm3.bias', 'encoder.block4.0.norm1.weight', 'encoder.block4.0.norm1.bias', 'encoder.block4.0.attn.q.weight', 'encoder.block4.0.attn.q.bias', 'encoder.block4.0.attn.kv.weight', 'encoder.block4.0.attn.kv.bias', 'encoder.block4.0.attn.proj.weight', 'encoder.block4.0.attn.proj.bias', 'encoder.block4.0.norm2.weight', 'encoder.block4.0.norm2.bias', 'encoder.block4.0.mlp.fc1.weight', 'encoder.block4.0.mlp.fc1.bias', 'encoder.block4.0.mlp.dwconv.dwconv.weight', 'encoder.block4.0.mlp.dwconv.dwconv.bias', 'encoder.block4.0.mlp.fc2.weight', 'encoder.block4.0.mlp.fc2.bias', 'encoder.block4.1.norm1.weight', 'encoder.block4.1.norm1.bias', 'encoder.block4.1.attn.q.weight', 'encoder.block4.1.attn.q.bias', 'encoder.block4.1.attn.kv.weight', 'encoder.block4.1.attn.kv.bias', 'encoder.block4.1.attn.proj.weight', 'encoder.block4.1.attn.proj.bias', 'encoder.block4.1.norm2.weight', 'encoder.block4.1.norm2.bias', 'encoder.block4.1.mlp.fc1.weight', 'encoder.block4.1.mlp.fc1.bias', 'encoder.block4.1.mlp.dwconv.dwconv.weight', 'encoder.block4.1.mlp.dwconv.dwconv.bias', 'encoder.block4.1.mlp.fc2.weight', 'encoder.block4.1.mlp.fc2.bias', 'encoder.block4.2.norm1.weight', 'encoder.block4.2.norm1.bias', 'encoder.block4.2.attn.q.weight', 'encoder.block4.2.attn.q.bias', 'encoder.block4.2.attn.kv.weight', 'encoder.block4.2.attn.kv.bias', 'encoder.block4.2.attn.proj.weight', 'encoder.block4.2.attn.proj.bias', 'encoder.block4.2.norm2.weight', 'encoder.block4.2.norm2.bias', 'encoder.block4.2.mlp.fc1.weight', 'encoder.block4.2.mlp.fc1.bias', 'encoder.block4.2.mlp.dwconv.dwconv.weight', 'encoder.block4.2.mlp.dwconv.dwconv.bias', 'encoder.block4.2.mlp.fc2.weight', 'encoder.block4.2.mlp.fc2.bias', 'encoder.norm4.weight', 'encoder.norm4.bias', 'decoder.center.top_conv.weight', 'decoder.center.top_conv.bias', 'decoder.center.center_conv.weight', 'decoder.center.center_conv.bias', 'decoder.center.bottom_conv.weight', 'decoder.center.bottom_conv.bias', 'decoder.center.out_conv.weight', 'decoder.center.out_conv.bias', 'decoder.blocks.0.hl_conv.0.0.weight', 'decoder.blocks.0.hl_conv.0.1.weight', 'decoder.blocks.0.hl_conv.0.1.bias', 'decoder.blocks.0.hl_conv.0.1.running_mean', 'decoder.blocks.0.hl_conv.0.1.running_var', 'decoder.blocks.0.hl_conv.0.1.num_batches_tracked', 'decoder.blocks.0.hl_conv.1.0.weight', 'decoder.blocks.0.hl_conv.1.1.weight', 'decoder.blocks.0.hl_conv.1.1.bias', 'decoder.blocks.0.hl_conv.1.1.running_mean', 'decoder.blocks.0.hl_conv.1.1.running_var', 'decoder.blocks.0.hl_conv.1.1.num_batches_tracked', 'decoder.blocks.0.SE_ll.1.weight', 'decoder.blocks.0.SE_ll.1.bias', 'decoder.blocks.0.SE_ll.3.weight', 'decoder.blocks.0.SE_ll.3.bias', 'decoder.blocks.0.SE_hl.1.weight', 'decoder.blocks.0.SE_hl.1.bias', 'decoder.blocks.0.SE_hl.3.weight', 'decoder.blocks.0.SE_hl.3.bias', 'decoder.blocks.0.conv1.0.weight', 'decoder.blocks.0.conv1.1.weight', 'decoder.blocks.0.conv1.1.bias', 'decoder.blocks.0.conv1.1.running_mean', 'decoder.blocks.0.conv1.1.running_var', 'decoder.blocks.0.conv1.1.num_batches_tracked', 'decoder.blocks.0.conv2.0.weight', 'decoder.blocks.0.conv2.1.weight', 'decoder.blocks.0.conv2.1.bias', 'decoder.blocks.0.conv2.1.running_mean', 'decoder.blocks.0.conv2.1.running_var', 'decoder.blocks.0.conv2.1.num_batches_tracked', 'decoder.blocks.1.hl_conv.0.0.weight', 'decoder.blocks.1.hl_conv.0.1.weight', 'decoder.blocks.1.hl_conv.0.1.bias', 'decoder.blocks.1.hl_conv.0.1.running_mean', 'decoder.blocks.1.hl_conv.0.1.running_var', 'decoder.blocks.1.hl_conv.0.1.num_batches_tracked', 'decoder.blocks.1.hl_conv.1.0.weight', 'decoder.blocks.1.hl_conv.1.1.weight', 'decoder.blocks.1.hl_conv.1.1.bias', 'decoder.blocks.1.hl_conv.1.1.running_mean', 'decoder.blocks.1.hl_conv.1.1.running_var', 'decoder.blocks.1.hl_conv.1.1.num_batches_tracked', 'decoder.blocks.1.SE_ll.1.weight', 'decoder.blocks.1.SE_ll.1.bias', 'decoder.blocks.1.SE_ll.3.weight', 'decoder.blocks.1.SE_ll.3.bias', 'decoder.blocks.1.SE_hl.1.weight', 'decoder.blocks.1.SE_hl.1.bias', 'decoder.blocks.1.SE_hl.3.weight', 'decoder.blocks.1.SE_hl.3.bias', 'decoder.blocks.1.conv1.0.weight', 'decoder.blocks.1.conv1.1.weight', 'decoder.blocks.1.conv1.1.bias', 'decoder.blocks.1.conv1.1.running_mean', 'decoder.blocks.1.conv1.1.running_var', 'decoder.blocks.1.conv1.1.num_batches_tracked', 'decoder.blocks.1.conv2.0.weight', 'decoder.blocks.1.conv2.1.weight', 'decoder.blocks.1.conv2.1.bias', 'decoder.blocks.1.conv2.1.running_mean', 'decoder.blocks.1.conv2.1.running_var', 'decoder.blocks.1.conv2.1.num_batches_tracked', 'decoder.blocks.2.hl_conv.0.0.weight', 'decoder.blocks.2.hl_conv.0.1.weight', 'decoder.blocks.2.hl_conv.0.1.bias', 'decoder.blocks.2.hl_conv.0.1.running_mean', 'decoder.blocks.2.hl_conv.0.1.running_var', 'decoder.blocks.2.hl_conv.0.1.num_batches_tracked', 'decoder.blocks.2.hl_conv.1.0.weight', 'decoder.blocks.2.hl_conv.1.1.weight', 'decoder.blocks.2.hl_conv.1.1.bias', 'decoder.blocks.2.hl_conv.1.1.running_mean', 'decoder.blocks.2.hl_conv.1.1.running_var', 'decoder.blocks.2.hl_conv.1.1.num_batches_tracked', 'decoder.blocks.2.SE_ll.1.weight', 'decoder.blocks.2.SE_ll.1.bias', 'decoder.blocks.2.SE_ll.3.weight', 'decoder.blocks.2.SE_ll.3.bias', 'decoder.blocks.2.SE_hl.1.weight', 'decoder.blocks.2.SE_hl.1.bias', 'decoder.blocks.2.SE_hl.3.weight', 'decoder.blocks.2.SE_hl.3.bias', 'decoder.blocks.2.conv1.0.weight', 'decoder.blocks.2.conv1.1.weight', 'decoder.blocks.2.conv1.1.bias', 'decoder.blocks.2.conv1.1.running_mean', 'decoder.blocks.2.conv1.1.running_var', 'decoder.blocks.2.conv1.1.num_batches_tracked', 'decoder.blocks.2.conv2.0.weight', 'decoder.blocks.2.conv2.1.weight', 'decoder.blocks.2.conv2.1.bias', 'decoder.blocks.2.conv2.1.running_mean', 'decoder.blocks.2.conv2.1.running_var', 'decoder.blocks.2.conv2.1.num_batches_tracked', 'decoder.blocks.3.conv1.0.weight', 'decoder.blocks.3.conv1.1.weight', 'decoder.blocks.3.conv1.1.bias', 'decoder.blocks.3.conv1.1.running_mean', 'decoder.blocks.3.conv1.1.running_var', 'decoder.blocks.3.conv1.1.num_batches_tracked', 'decoder.blocks.3.conv2.0.weight', 'decoder.blocks.3.conv2.1.weight', 'decoder.blocks.3.conv2.1.bias', 'decoder.blocks.3.conv2.1.running_mean', 'decoder.blocks.3.conv2.1.running_var', 'decoder.blocks.3.conv2.1.num_batches_tracked', 'decoder.blocks.4.conv1.0.weight', 'decoder.blocks.4.conv1.1.weight', 'decoder.blocks.4.conv1.1.bias', 'decoder.blocks.4.conv1.1.running_mean', 'decoder.blocks.4.conv1.1.running_var', 'decoder.blocks.4.conv1.1.num_batches_tracked', 'decoder.blocks.4.conv2.0.weight', 'decoder.blocks.4.conv2.1.weight', 'decoder.blocks.4.conv2.1.bias', 'decoder.blocks.4.conv2.1.running_mean', 'decoder.blocks.4.conv2.1.running_var', 'decoder.blocks.4.conv2.1.num_batches_tracked', 'segmentation_head.0.weight', 'segmentation_head.0.bias', 'cellprob_head.0.weight', 'cellprob_head.0.bias', 'cellprob_head.2.weight', 'cellprob_head.2.bias', 'cellprob_head.2.running_mean', 'cellprob_head.2.running_var', 'cellprob_head.2.num_batches_tracked', 'cellprob_head.3.weight', 'cellprob_head.3.bias', 'gradflow_head.0.weight', 'gradflow_head.0.bias', 'gradflow_head.2.weight', 'gradflow_head.2.bias', 'gradflow_head.2.running_mean', 'gradflow_head.2.running_var', 'gradflow_head.2.num_batches_tracked', 'gradflow_head.3.weight', 'gradflow_head.3.bias'])\n"
     ]
    }
   ],
   "source": [
    "import torch\n",
    "\n",
    "state_dict = torch.load(\"from_phase2.pt\", map_location='cuda:0')\n",
    "print(state_dict.keys())\n"
   ]
  },
  {
   "cell_type": "code",
   "execution_count": 20,
   "metadata": {},
   "outputs": [
    {
     "name": "stdout",
     "output_type": "stream",
     "text": [
      "dict_keys(['epoch', 'best_fitness', 'model', 'ema', 'updates', 'optimizer', 'train_args', 'date', 'version'])\n"
     ]
    }
   ],
   "source": [
    "state_dict = torch.load(\"yolov8l-seg.pt\", map_location='cuda:0')\n",
    "print(state_dict.keys())"
   ]
  },
  {
   "cell_type": "markdown",
   "metadata": {},
   "source": [
    "### Training a model"
   ]
  },
  {
   "cell_type": "code",
   "execution_count": 1,
   "metadata": {},
   "outputs": [
    {
     "ename": "AttributeError",
     "evalue": "'collections.OrderedDict' object has no attribute 'to'",
     "output_type": "error",
     "traceback": [
      "\u001b[0;31m---------------------------------------------------------------------------\u001b[0m",
      "\u001b[0;31mAttributeError\u001b[0m                            Traceback (most recent call last)",
      "\u001b[0;32m<ipython-input-1-11a1b009af50>\u001b[0m in \u001b[0;36m<module>\u001b[0;34m\u001b[0m\n\u001b[1;32m     34\u001b[0m \u001b[0;31m# Load the adapted weights into YOLOv8\u001b[0m\u001b[0;34m\u001b[0m\u001b[0;34m\u001b[0m\u001b[0;34m\u001b[0m\u001b[0m\n\u001b[1;32m     35\u001b[0m \u001b[0mmodel\u001b[0m \u001b[0;34m=\u001b[0m \u001b[0mYOLO\u001b[0m\u001b[0;34m(\u001b[0m\u001b[0;34m\"yolov8l-seg.yaml\"\u001b[0m\u001b[0;34m,\u001b[0m \u001b[0mtask\u001b[0m\u001b[0;34m=\u001b[0m\u001b[0;34m\"segment\"\u001b[0m\u001b[0;34m)\u001b[0m\u001b[0;34m\u001b[0m\u001b[0;34m\u001b[0m\u001b[0m\n\u001b[0;32m---> 36\u001b[0;31m \u001b[0mmodel\u001b[0m \u001b[0;34m=\u001b[0m \u001b[0mYOLO\u001b[0m\u001b[0;34m(\u001b[0m\u001b[0;34m\"adapted_weights.pt\"\u001b[0m\u001b[0;34m,\u001b[0m \u001b[0mtask\u001b[0m\u001b[0;34m=\u001b[0m\u001b[0;34m\"segment\"\u001b[0m\u001b[0;34m)\u001b[0m\u001b[0;34m\u001b[0m\u001b[0;34m\u001b[0m\u001b[0m\n\u001b[0m",
      "\u001b[0;32m~/.local/lib/python3.8/site-packages/ultralytics/models/yolo/model.py\u001b[0m in \u001b[0;36m__init__\u001b[0;34m(self, model, task, verbose)\u001b[0m\n\u001b[1;32m     21\u001b[0m         \u001b[0;32melse\u001b[0m\u001b[0;34m:\u001b[0m\u001b[0;34m\u001b[0m\u001b[0;34m\u001b[0m\u001b[0m\n\u001b[1;32m     22\u001b[0m             \u001b[0;31m# Continue with default YOLO initialization\u001b[0m\u001b[0;34m\u001b[0m\u001b[0;34m\u001b[0m\u001b[0;34m\u001b[0m\u001b[0m\n\u001b[0;32m---> 23\u001b[0;31m             \u001b[0msuper\u001b[0m\u001b[0;34m(\u001b[0m\u001b[0;34m)\u001b[0m\u001b[0;34m.\u001b[0m\u001b[0m__init__\u001b[0m\u001b[0;34m(\u001b[0m\u001b[0mmodel\u001b[0m\u001b[0;34m=\u001b[0m\u001b[0mmodel\u001b[0m\u001b[0;34m,\u001b[0m \u001b[0mtask\u001b[0m\u001b[0;34m=\u001b[0m\u001b[0mtask\u001b[0m\u001b[0;34m,\u001b[0m \u001b[0mverbose\u001b[0m\u001b[0;34m=\u001b[0m\u001b[0mverbose\u001b[0m\u001b[0;34m)\u001b[0m\u001b[0;34m\u001b[0m\u001b[0;34m\u001b[0m\u001b[0m\n\u001b[0m\u001b[1;32m     24\u001b[0m \u001b[0;34m\u001b[0m\u001b[0m\n\u001b[1;32m     25\u001b[0m     \u001b[0;34m@\u001b[0m\u001b[0mproperty\u001b[0m\u001b[0;34m\u001b[0m\u001b[0;34m\u001b[0m\u001b[0m\n",
      "\u001b[0;32m~/.local/lib/python3.8/site-packages/ultralytics/engine/model.py\u001b[0m in \u001b[0;36m__init__\u001b[0;34m(self, model, task, verbose)\u001b[0m\n\u001b[1;32m    147\u001b[0m             \u001b[0mself\u001b[0m\u001b[0;34m.\u001b[0m\u001b[0m_new\u001b[0m\u001b[0;34m(\u001b[0m\u001b[0mmodel\u001b[0m\u001b[0;34m,\u001b[0m \u001b[0mtask\u001b[0m\u001b[0;34m=\u001b[0m\u001b[0mtask\u001b[0m\u001b[0;34m,\u001b[0m \u001b[0mverbose\u001b[0m\u001b[0;34m=\u001b[0m\u001b[0mverbose\u001b[0m\u001b[0;34m)\u001b[0m\u001b[0;34m\u001b[0m\u001b[0;34m\u001b[0m\u001b[0m\n\u001b[1;32m    148\u001b[0m         \u001b[0;32melse\u001b[0m\u001b[0;34m:\u001b[0m\u001b[0;34m\u001b[0m\u001b[0;34m\u001b[0m\u001b[0m\n\u001b[0;32m--> 149\u001b[0;31m             \u001b[0mself\u001b[0m\u001b[0;34m.\u001b[0m\u001b[0m_load\u001b[0m\u001b[0;34m(\u001b[0m\u001b[0mmodel\u001b[0m\u001b[0;34m,\u001b[0m \u001b[0mtask\u001b[0m\u001b[0;34m=\u001b[0m\u001b[0mtask\u001b[0m\u001b[0;34m)\u001b[0m\u001b[0;34m\u001b[0m\u001b[0;34m\u001b[0m\u001b[0m\n\u001b[0m\u001b[1;32m    150\u001b[0m \u001b[0;34m\u001b[0m\u001b[0m\n\u001b[1;32m    151\u001b[0m     def __call__(\n",
      "\u001b[0;32m~/.local/lib/python3.8/site-packages/ultralytics/engine/model.py\u001b[0m in \u001b[0;36m_load\u001b[0;34m(self, weights, task)\u001b[0m\n\u001b[1;32m    228\u001b[0m \u001b[0;34m\u001b[0m\u001b[0m\n\u001b[1;32m    229\u001b[0m         \u001b[0;32mif\u001b[0m \u001b[0mPath\u001b[0m\u001b[0;34m(\u001b[0m\u001b[0mweights\u001b[0m\u001b[0;34m)\u001b[0m\u001b[0;34m.\u001b[0m\u001b[0msuffix\u001b[0m \u001b[0;34m==\u001b[0m \u001b[0;34m\".pt\"\u001b[0m\u001b[0;34m:\u001b[0m\u001b[0;34m\u001b[0m\u001b[0;34m\u001b[0m\u001b[0m\n\u001b[0;32m--> 230\u001b[0;31m             \u001b[0mself\u001b[0m\u001b[0;34m.\u001b[0m\u001b[0mmodel\u001b[0m\u001b[0;34m,\u001b[0m \u001b[0mself\u001b[0m\u001b[0;34m.\u001b[0m\u001b[0mckpt\u001b[0m \u001b[0;34m=\u001b[0m \u001b[0mattempt_load_one_weight\u001b[0m\u001b[0;34m(\u001b[0m\u001b[0mweights\u001b[0m\u001b[0;34m)\u001b[0m\u001b[0;34m\u001b[0m\u001b[0;34m\u001b[0m\u001b[0m\n\u001b[0m\u001b[1;32m    231\u001b[0m             \u001b[0mself\u001b[0m\u001b[0;34m.\u001b[0m\u001b[0mtask\u001b[0m \u001b[0;34m=\u001b[0m \u001b[0mself\u001b[0m\u001b[0;34m.\u001b[0m\u001b[0mmodel\u001b[0m\u001b[0;34m.\u001b[0m\u001b[0margs\u001b[0m\u001b[0;34m[\u001b[0m\u001b[0;34m\"task\"\u001b[0m\u001b[0;34m]\u001b[0m\u001b[0;34m\u001b[0m\u001b[0;34m\u001b[0m\u001b[0m\n\u001b[1;32m    232\u001b[0m             \u001b[0mself\u001b[0m\u001b[0;34m.\u001b[0m\u001b[0moverrides\u001b[0m \u001b[0;34m=\u001b[0m \u001b[0mself\u001b[0m\u001b[0;34m.\u001b[0m\u001b[0mmodel\u001b[0m\u001b[0;34m.\u001b[0m\u001b[0margs\u001b[0m \u001b[0;34m=\u001b[0m \u001b[0mself\u001b[0m\u001b[0;34m.\u001b[0m\u001b[0m_reset_ckpt_args\u001b[0m\u001b[0;34m(\u001b[0m\u001b[0mself\u001b[0m\u001b[0;34m.\u001b[0m\u001b[0mmodel\u001b[0m\u001b[0;34m.\u001b[0m\u001b[0margs\u001b[0m\u001b[0;34m)\u001b[0m\u001b[0;34m\u001b[0m\u001b[0;34m\u001b[0m\u001b[0m\n",
      "\u001b[0;32m~/.local/lib/python3.8/site-packages/ultralytics/nn/tasks.py\u001b[0m in \u001b[0;36mattempt_load_one_weight\u001b[0;34m(weight, device, inplace, fuse)\u001b[0m\n\u001b[1;32m    849\u001b[0m     \u001b[0mckpt\u001b[0m\u001b[0;34m,\u001b[0m \u001b[0mweight\u001b[0m \u001b[0;34m=\u001b[0m \u001b[0mtorch_safe_load\u001b[0m\u001b[0;34m(\u001b[0m\u001b[0mweight\u001b[0m\u001b[0;34m)\u001b[0m  \u001b[0;31m# load ckpt\u001b[0m\u001b[0;34m\u001b[0m\u001b[0;34m\u001b[0m\u001b[0m\n\u001b[1;32m    850\u001b[0m     \u001b[0margs\u001b[0m \u001b[0;34m=\u001b[0m \u001b[0;34m{\u001b[0m\u001b[0;34m**\u001b[0m\u001b[0mDEFAULT_CFG_DICT\u001b[0m\u001b[0;34m,\u001b[0m \u001b[0;34m**\u001b[0m\u001b[0;34m(\u001b[0m\u001b[0mckpt\u001b[0m\u001b[0;34m.\u001b[0m\u001b[0mget\u001b[0m\u001b[0;34m(\u001b[0m\u001b[0;34m\"train_args\"\u001b[0m\u001b[0;34m,\u001b[0m \u001b[0;34m{\u001b[0m\u001b[0;34m}\u001b[0m\u001b[0;34m)\u001b[0m\u001b[0;34m)\u001b[0m\u001b[0;34m}\u001b[0m  \u001b[0;31m# combine model and default args, preferring model args\u001b[0m\u001b[0;34m\u001b[0m\u001b[0;34m\u001b[0m\u001b[0m\n\u001b[0;32m--> 851\u001b[0;31m     \u001b[0mmodel\u001b[0m \u001b[0;34m=\u001b[0m \u001b[0;34m(\u001b[0m\u001b[0mckpt\u001b[0m\u001b[0;34m.\u001b[0m\u001b[0mget\u001b[0m\u001b[0;34m(\u001b[0m\u001b[0;34m\"ema\"\u001b[0m\u001b[0;34m)\u001b[0m \u001b[0;32mor\u001b[0m \u001b[0mckpt\u001b[0m\u001b[0;34m[\u001b[0m\u001b[0;34m\"model\"\u001b[0m\u001b[0;34m]\u001b[0m\u001b[0;34m)\u001b[0m\u001b[0;34m.\u001b[0m\u001b[0mto\u001b[0m\u001b[0;34m(\u001b[0m\u001b[0mdevice\u001b[0m\u001b[0;34m)\u001b[0m\u001b[0;34m.\u001b[0m\u001b[0mfloat\u001b[0m\u001b[0;34m(\u001b[0m\u001b[0;34m)\u001b[0m  \u001b[0;31m# FP32 model\u001b[0m\u001b[0;34m\u001b[0m\u001b[0;34m\u001b[0m\u001b[0m\n\u001b[0m\u001b[1;32m    852\u001b[0m \u001b[0;34m\u001b[0m\u001b[0m\n\u001b[1;32m    853\u001b[0m     \u001b[0;31m# Model compatibility updates\u001b[0m\u001b[0;34m\u001b[0m\u001b[0;34m\u001b[0m\u001b[0;34m\u001b[0m\u001b[0m\n",
      "\u001b[0;31mAttributeError\u001b[0m: 'collections.OrderedDict' object has no attribute 'to'"
     ]
    }
   ],
   "source": [
    "import torch\n",
    "import collections\n",
    "from ultralytics import YOLO\n",
    "\n",
    "# Load the YOLOv8 model architecture\n",
    "model = YOLO(\"yolov8l-seg.yaml\", task=\"segment\")\n",
    "\n",
    "# Load your custom weights\n",
    "custom_weights = torch.load(\"from_phase2.pt\", map_location='cuda:0')\n",
    "\n",
    "# Convert OrderedDict to regular dict (if necessary)\n",
    "if isinstance(custom_weights, collections.OrderedDict):\n",
    "    custom_weights = dict(custom_weights)\n",
    "\n",
    "# Load the custom weights into the model\n",
    "model.model.load_state_dict(custom_weights, strict=False)\n",
    "\n",
    "# Create a new checkpoint dictionary with the expected structure\n",
    "new_checkpoint = {\n",
    "    'model': model.model.state_dict(),  # Save the model state dictionary\n",
    "    'epoch': 0,\n",
    "    'best_fitness': None,\n",
    "    'ema': None,\n",
    "    'updates': None,\n",
    "    'optimizer': None,\n",
    "    'train_args': {},\n",
    "    'date': None,\n",
    "    'version': None\n",
    "}\n",
    "\n",
    "# Save the new checkpoint\n",
    "torch.save(new_checkpoint, \"adapted_weights.pt\")\n",
    "\n",
    "# Load the adapted weights into YOLOv8\n",
    "model = YOLO(\"yolov8l-seg.yaml\", task=\"segment\")\n",
    "model = YOLO(\"adapted_weights.pt\", task=\"segment\")"
   ]
  },
  {
   "cell_type": "code",
   "execution_count": 10,
   "metadata": {},
   "outputs": [
    {
     "ename": "AttributeError",
     "evalue": "'dict' object has no attribute 'to'",
     "output_type": "error",
     "traceback": [
      "\u001b[0;31m---------------------------------------------------------------------------\u001b[0m",
      "\u001b[0;31mAttributeError\u001b[0m                            Traceback (most recent call last)",
      "\u001b[0;32m<ipython-input-10-711daf1aba78>\u001b[0m in \u001b[0;36m<module>\u001b[0;34m\u001b[0m\n\u001b[1;32m     27\u001b[0m \u001b[0;31m# Load the adapted weights into YOLOv8\u001b[0m\u001b[0;34m\u001b[0m\u001b[0;34m\u001b[0m\u001b[0;34m\u001b[0m\u001b[0m\n\u001b[1;32m     28\u001b[0m \u001b[0mmodel\u001b[0m \u001b[0;34m=\u001b[0m \u001b[0mYOLO\u001b[0m\u001b[0;34m(\u001b[0m\u001b[0;34m\"yolov8l-seg.yaml\"\u001b[0m\u001b[0;34m,\u001b[0m \u001b[0mtask\u001b[0m\u001b[0;34m=\u001b[0m\u001b[0;34m\"segment\"\u001b[0m\u001b[0;34m)\u001b[0m\u001b[0;34m\u001b[0m\u001b[0;34m\u001b[0m\u001b[0m\n\u001b[0;32m---> 29\u001b[0;31m \u001b[0mmodel\u001b[0m \u001b[0;34m=\u001b[0m \u001b[0mYOLO\u001b[0m\u001b[0;34m(\u001b[0m\u001b[0;34m\"adapted_weights.pt\"\u001b[0m\u001b[0;34m,\u001b[0m \u001b[0mtask\u001b[0m\u001b[0;34m=\u001b[0m\u001b[0;34m\"segment\"\u001b[0m\u001b[0;34m)\u001b[0m\u001b[0;34m\u001b[0m\u001b[0;34m\u001b[0m\u001b[0m\n\u001b[0m",
      "\u001b[0;32m~/.local/lib/python3.8/site-packages/ultralytics/models/yolo/model.py\u001b[0m in \u001b[0;36m__init__\u001b[0;34m(self, model, task, verbose)\u001b[0m\n\u001b[1;32m     21\u001b[0m         \u001b[0;32melse\u001b[0m\u001b[0;34m:\u001b[0m\u001b[0;34m\u001b[0m\u001b[0;34m\u001b[0m\u001b[0m\n\u001b[1;32m     22\u001b[0m             \u001b[0;31m# Continue with default YOLO initialization\u001b[0m\u001b[0;34m\u001b[0m\u001b[0;34m\u001b[0m\u001b[0;34m\u001b[0m\u001b[0m\n\u001b[0;32m---> 23\u001b[0;31m             \u001b[0msuper\u001b[0m\u001b[0;34m(\u001b[0m\u001b[0;34m)\u001b[0m\u001b[0;34m.\u001b[0m\u001b[0m__init__\u001b[0m\u001b[0;34m(\u001b[0m\u001b[0mmodel\u001b[0m\u001b[0;34m=\u001b[0m\u001b[0mmodel\u001b[0m\u001b[0;34m,\u001b[0m \u001b[0mtask\u001b[0m\u001b[0;34m=\u001b[0m\u001b[0mtask\u001b[0m\u001b[0;34m,\u001b[0m \u001b[0mverbose\u001b[0m\u001b[0;34m=\u001b[0m\u001b[0mverbose\u001b[0m\u001b[0;34m)\u001b[0m\u001b[0;34m\u001b[0m\u001b[0;34m\u001b[0m\u001b[0m\n\u001b[0m\u001b[1;32m     24\u001b[0m \u001b[0;34m\u001b[0m\u001b[0m\n\u001b[1;32m     25\u001b[0m     \u001b[0;34m@\u001b[0m\u001b[0mproperty\u001b[0m\u001b[0;34m\u001b[0m\u001b[0;34m\u001b[0m\u001b[0m\n",
      "\u001b[0;32m~/.local/lib/python3.8/site-packages/ultralytics/engine/model.py\u001b[0m in \u001b[0;36m__init__\u001b[0;34m(self, model, task, verbose)\u001b[0m\n\u001b[1;32m    147\u001b[0m             \u001b[0mself\u001b[0m\u001b[0;34m.\u001b[0m\u001b[0m_new\u001b[0m\u001b[0;34m(\u001b[0m\u001b[0mmodel\u001b[0m\u001b[0;34m,\u001b[0m \u001b[0mtask\u001b[0m\u001b[0;34m=\u001b[0m\u001b[0mtask\u001b[0m\u001b[0;34m,\u001b[0m \u001b[0mverbose\u001b[0m\u001b[0;34m=\u001b[0m\u001b[0mverbose\u001b[0m\u001b[0;34m)\u001b[0m\u001b[0;34m\u001b[0m\u001b[0;34m\u001b[0m\u001b[0m\n\u001b[1;32m    148\u001b[0m         \u001b[0;32melse\u001b[0m\u001b[0;34m:\u001b[0m\u001b[0;34m\u001b[0m\u001b[0;34m\u001b[0m\u001b[0m\n\u001b[0;32m--> 149\u001b[0;31m             \u001b[0mself\u001b[0m\u001b[0;34m.\u001b[0m\u001b[0m_load\u001b[0m\u001b[0;34m(\u001b[0m\u001b[0mmodel\u001b[0m\u001b[0;34m,\u001b[0m \u001b[0mtask\u001b[0m\u001b[0;34m=\u001b[0m\u001b[0mtask\u001b[0m\u001b[0;34m)\u001b[0m\u001b[0;34m\u001b[0m\u001b[0;34m\u001b[0m\u001b[0m\n\u001b[0m\u001b[1;32m    150\u001b[0m \u001b[0;34m\u001b[0m\u001b[0m\n\u001b[1;32m    151\u001b[0m     def __call__(\n",
      "\u001b[0;32m~/.local/lib/python3.8/site-packages/ultralytics/engine/model.py\u001b[0m in \u001b[0;36m_load\u001b[0;34m(self, weights, task)\u001b[0m\n\u001b[1;32m    228\u001b[0m \u001b[0;34m\u001b[0m\u001b[0m\n\u001b[1;32m    229\u001b[0m         \u001b[0;32mif\u001b[0m \u001b[0mPath\u001b[0m\u001b[0;34m(\u001b[0m\u001b[0mweights\u001b[0m\u001b[0;34m)\u001b[0m\u001b[0;34m.\u001b[0m\u001b[0msuffix\u001b[0m \u001b[0;34m==\u001b[0m \u001b[0;34m\".pt\"\u001b[0m\u001b[0;34m:\u001b[0m\u001b[0;34m\u001b[0m\u001b[0;34m\u001b[0m\u001b[0m\n\u001b[0;32m--> 230\u001b[0;31m             \u001b[0mself\u001b[0m\u001b[0;34m.\u001b[0m\u001b[0mmodel\u001b[0m\u001b[0;34m,\u001b[0m \u001b[0mself\u001b[0m\u001b[0;34m.\u001b[0m\u001b[0mckpt\u001b[0m \u001b[0;34m=\u001b[0m \u001b[0mattempt_load_one_weight\u001b[0m\u001b[0;34m(\u001b[0m\u001b[0mweights\u001b[0m\u001b[0;34m)\u001b[0m\u001b[0;34m\u001b[0m\u001b[0;34m\u001b[0m\u001b[0m\n\u001b[0m\u001b[1;32m    231\u001b[0m             \u001b[0mself\u001b[0m\u001b[0;34m.\u001b[0m\u001b[0mtask\u001b[0m \u001b[0;34m=\u001b[0m \u001b[0mself\u001b[0m\u001b[0;34m.\u001b[0m\u001b[0mmodel\u001b[0m\u001b[0;34m.\u001b[0m\u001b[0margs\u001b[0m\u001b[0;34m[\u001b[0m\u001b[0;34m\"task\"\u001b[0m\u001b[0;34m]\u001b[0m\u001b[0;34m\u001b[0m\u001b[0;34m\u001b[0m\u001b[0m\n\u001b[1;32m    232\u001b[0m             \u001b[0mself\u001b[0m\u001b[0;34m.\u001b[0m\u001b[0moverrides\u001b[0m \u001b[0;34m=\u001b[0m \u001b[0mself\u001b[0m\u001b[0;34m.\u001b[0m\u001b[0mmodel\u001b[0m\u001b[0;34m.\u001b[0m\u001b[0margs\u001b[0m \u001b[0;34m=\u001b[0m \u001b[0mself\u001b[0m\u001b[0;34m.\u001b[0m\u001b[0m_reset_ckpt_args\u001b[0m\u001b[0;34m(\u001b[0m\u001b[0mself\u001b[0m\u001b[0;34m.\u001b[0m\u001b[0mmodel\u001b[0m\u001b[0;34m.\u001b[0m\u001b[0margs\u001b[0m\u001b[0;34m)\u001b[0m\u001b[0;34m\u001b[0m\u001b[0;34m\u001b[0m\u001b[0m\n",
      "\u001b[0;32m~/.local/lib/python3.8/site-packages/ultralytics/nn/tasks.py\u001b[0m in \u001b[0;36mattempt_load_one_weight\u001b[0;34m(weight, device, inplace, fuse)\u001b[0m\n\u001b[1;32m    849\u001b[0m     \u001b[0mckpt\u001b[0m\u001b[0;34m,\u001b[0m \u001b[0mweight\u001b[0m \u001b[0;34m=\u001b[0m \u001b[0mtorch_safe_load\u001b[0m\u001b[0;34m(\u001b[0m\u001b[0mweight\u001b[0m\u001b[0;34m)\u001b[0m  \u001b[0;31m# load ckpt\u001b[0m\u001b[0;34m\u001b[0m\u001b[0;34m\u001b[0m\u001b[0m\n\u001b[1;32m    850\u001b[0m     \u001b[0margs\u001b[0m \u001b[0;34m=\u001b[0m \u001b[0;34m{\u001b[0m\u001b[0;34m**\u001b[0m\u001b[0mDEFAULT_CFG_DICT\u001b[0m\u001b[0;34m,\u001b[0m \u001b[0;34m**\u001b[0m\u001b[0;34m(\u001b[0m\u001b[0mckpt\u001b[0m\u001b[0;34m.\u001b[0m\u001b[0mget\u001b[0m\u001b[0;34m(\u001b[0m\u001b[0;34m\"train_args\"\u001b[0m\u001b[0;34m,\u001b[0m \u001b[0;34m{\u001b[0m\u001b[0;34m}\u001b[0m\u001b[0;34m)\u001b[0m\u001b[0;34m)\u001b[0m\u001b[0;34m}\u001b[0m  \u001b[0;31m# combine model and default args, preferring model args\u001b[0m\u001b[0;34m\u001b[0m\u001b[0;34m\u001b[0m\u001b[0m\n\u001b[0;32m--> 851\u001b[0;31m     \u001b[0mmodel\u001b[0m \u001b[0;34m=\u001b[0m \u001b[0;34m(\u001b[0m\u001b[0mckpt\u001b[0m\u001b[0;34m.\u001b[0m\u001b[0mget\u001b[0m\u001b[0;34m(\u001b[0m\u001b[0;34m\"ema\"\u001b[0m\u001b[0;34m)\u001b[0m \u001b[0;32mor\u001b[0m \u001b[0mckpt\u001b[0m\u001b[0;34m[\u001b[0m\u001b[0;34m\"model\"\u001b[0m\u001b[0;34m]\u001b[0m\u001b[0;34m)\u001b[0m\u001b[0;34m.\u001b[0m\u001b[0mto\u001b[0m\u001b[0;34m(\u001b[0m\u001b[0mdevice\u001b[0m\u001b[0;34m)\u001b[0m\u001b[0;34m.\u001b[0m\u001b[0mfloat\u001b[0m\u001b[0;34m(\u001b[0m\u001b[0;34m)\u001b[0m  \u001b[0;31m# FP32 model\u001b[0m\u001b[0;34m\u001b[0m\u001b[0;34m\u001b[0m\u001b[0m\n\u001b[0m\u001b[1;32m    852\u001b[0m \u001b[0;34m\u001b[0m\u001b[0m\n\u001b[1;32m    853\u001b[0m     \u001b[0;31m# Model compatibility updates\u001b[0m\u001b[0;34m\u001b[0m\u001b[0;34m\u001b[0m\u001b[0;34m\u001b[0m\u001b[0m\n",
      "\u001b[0;31mAttributeError\u001b[0m: 'dict' object has no attribute 'to'"
     ]
    }
   ],
   "source": [
    "import torch\n",
    "import collections\n",
    "\n",
    "# Load your custom weights\n",
    "custom_weights = torch.load(\"from_phase2.pt\", map_location='cuda:0')\n",
    "\n",
    "# Convert OrderedDict to regular dict (if necessary)\n",
    "if isinstance(custom_weights, collections.OrderedDict):\n",
    "    custom_weights = dict(custom_weights)\n",
    "\n",
    "# Create a new dictionary with the expected structure\n",
    "new_checkpoint = {\n",
    "    'model': custom_weights,  # Assuming your custom weights contain the model parameters\n",
    "    'epoch': 0,\n",
    "    'best_fitness': None,\n",
    "    'ema': None,\n",
    "    'updates': None,\n",
    "    'optimizer': None,\n",
    "    'train_args': {},\n",
    "    'date': None,\n",
    "    'version': None\n",
    "}\n",
    "\n",
    "# Save the new checkpoint\n",
    "torch.save(new_checkpoint, \"adapted_weights.pt\")\n",
    "\n",
    "# Load the adapted weights into YOLOv8\n",
    "model = YOLO(\"yolov8l-seg.yaml\", task=\"segment\")\n",
    "model = YOLO(\"adapted_weights.pt\", task=\"segment\")"
   ]
  },
  {
   "cell_type": "code",
   "execution_count": 2,
   "metadata": {},
   "outputs": [
    {
     "data": {
      "text/plain": [
       "'/home/kamenan/Documents/Stage Dev Deep Learning/YOLOV8 evaluation/cellpose_data'"
      ]
     },
     "execution_count": 2,
     "metadata": {},
     "output_type": "execute_result"
    }
   ],
   "source": [
    "HOME"
   ]
  },
  {
   "cell_type": "code",
   "execution_count": 3,
   "metadata": {},
   "outputs": [],
   "source": [
    "model = YOLO(\"yolov8l-seg.yaml\", task=\"segment\") # build a new model from yaml\n",
    "model = YOLO(\"yolo_dataset/results/125m_epochs/weights/best.pt\", task=\"segment\") # MEDIAR fintuned_hase2 pre-trained weights"
   ]
  },
  {
   "cell_type": "code",
   "execution_count": 4,
   "metadata": {},
   "outputs": [],
   "source": [
    "with open('yolo_dataset/data.yaml', 'r') as stream:\n",
    "    num_classes = str(yaml.safe_load(stream)['nc'])"
   ]
  },
  {
   "cell_type": "markdown",
   "metadata": {},
   "source": [
    "#### 100 epochs training"
   ]
  },
  {
   "cell_type": "code",
   "execution_count": 5,
   "metadata": {},
   "outputs": [],
   "source": [
    "cellpose_projct = \"yolo_dataset/results\"\n",
    "name = \"125l_epochs_FocalLpsse\"\n",
    "#name = \"small_200_size640_epochs\""
   ]
  },
  {
   "cell_type": "code",
   "execution_count": 7,
   "metadata": {},
   "outputs": [],
   "source": [
    "# Tune hyperparameters on COCO8 for 30 epochs\n",
    "#model.tune(data='yolo_dataset/data.yaml', epochs=100, iterations=300, optimizer='AdamW', plots=False, save=False, val=False)"
   ]
  },
  {
   "cell_type": "code",
   "execution_count": 6,
   "metadata": {},
   "outputs": [
    {
     "name": "stdout",
     "output_type": "stream",
     "text": [
      "New https://pypi.org/project/ultralytics/8.2.86 available 😃 Update with 'pip install -U ultralytics'\n",
      "Ultralytics YOLOv8.2.70 🚀 Python-3.8.10 torch-2.2.1+cu121 CUDA:0 (Quadro RTX 8000, 48585MiB)\n",
      "\u001b[34m\u001b[1mengine/trainer: \u001b[0mtask=segment, mode=train, model=yolo_dataset/results/125m_epochs/weights/best.pt, data=yolo_dataset/data.yaml, epochs=125, time=None, patience=100, batch=16, imgsz=640, save=True, save_period=-1, cache=False, device=None, workers=8, project=yolo_dataset/results, name=125l_epochs_FocalLpsse, exist_ok=False, pretrained=True, optimizer=auto, verbose=True, seed=0, deterministic=True, single_cls=False, rect=False, cos_lr=False, close_mosaic=10, resume=False, amp=True, fraction=1.0, profile=False, freeze=None, multi_scale=False, overlap_mask=True, mask_ratio=4, dropout=0.0, val=True, split=val, save_json=False, save_hybrid=False, conf=None, iou=0.7, max_det=300, half=False, dnn=False, plots=True, source=None, vid_stride=1, stream_buffer=False, visualize=False, augment=False, agnostic_nms=False, classes=None, retina_masks=False, embed=None, show=False, save_frames=False, save_txt=False, save_conf=False, save_crop=False, show_labels=True, show_conf=True, show_boxes=True, line_width=None, format=torchscript, keras=False, optimize=False, int8=False, dynamic=False, simplify=False, opset=None, workspace=4, nms=False, lr0=0.01, lrf=0.01, momentum=0.937, weight_decay=0.0005, warmup_epochs=3.0, warmup_momentum=0.8, warmup_bias_lr=0.1, box=7.5, cls=0.5, dfl=1.5, pose=12.0, kobj=1.0, label_smoothing=0.0, nbs=64, hsv_h=0.015, hsv_s=0.7, hsv_v=0.4, degrees=0.0, translate=0.1, scale=0.5, shear=0.0, perspective=0.0, flipud=0.0, fliplr=0.5, bgr=0.0, mosaic=1.0, mixup=0.0, copy_paste=0.0, auto_augment=randaugment, erasing=0.4, crop_fraction=1.0, cfg=None, loss=FocalLoss, tracker=botsort.yaml, save_dir=yolo_dataset/results/125l_epochs_FocalLpsse\n"
     ]
    },
    {
     "name": "stderr",
     "output_type": "stream",
     "text": [
      "2024-09-02 10:33:02,771\tINFO util.py:154 -- Outdated packages:\n",
      "  ipywidgets==6.0.0 found, needs ipywidgets>=8\n",
      "Run `pip install -U ipywidgets`, then restart the notebook server for rich notebook output.\n",
      "2024-09-02 10:33:03,127\tINFO util.py:154 -- Outdated packages:\n",
      "  ipywidgets==6.0.0 found, needs ipywidgets>=8\n",
      "Run `pip install -U ipywidgets`, then restart the notebook server for rich notebook output.\n"
     ]
    },
    {
     "name": "stdout",
     "output_type": "stream",
     "text": [
      "\n",
      "                   from  n    params  module                                       arguments                     \n",
      "  0                  -1  1      1392  ultralytics.nn.modules.conv.Conv             [3, 48, 3, 2]                 \n",
      "  1                  -1  1     41664  ultralytics.nn.modules.conv.Conv             [48, 96, 3, 2]                \n",
      "  2                  -1  2    111360  ultralytics.nn.modules.block.C2f             [96, 96, 2, True]             \n",
      "  3                  -1  1    166272  ultralytics.nn.modules.conv.Conv             [96, 192, 3, 2]               \n",
      "  4                  -1  4    813312  ultralytics.nn.modules.block.C2f             [192, 192, 4, True]           \n",
      "  5                  -1  1    664320  ultralytics.nn.modules.conv.Conv             [192, 384, 3, 2]              \n",
      "  6                  -1  4   3248640  ultralytics.nn.modules.block.C2f             [384, 384, 4, True]           \n",
      "  7                  -1  1   1991808  ultralytics.nn.modules.conv.Conv             [384, 576, 3, 2]              \n",
      "  8                  -1  2   3985920  ultralytics.nn.modules.block.C2f             [576, 576, 2, True]           \n",
      "  9                  -1  1    831168  ultralytics.nn.modules.block.SPPF            [576, 576, 5]                 \n",
      " 10                  -1  1         0  torch.nn.modules.upsampling.Upsample         [None, 2, 'nearest']          \n",
      " 11             [-1, 6]  1         0  ultralytics.nn.modules.conv.Concat           [1]                           \n",
      " 12                  -1  2   1993728  ultralytics.nn.modules.block.C2f             [960, 384, 2]                 \n",
      " 13                  -1  1         0  torch.nn.modules.upsampling.Upsample         [None, 2, 'nearest']          \n",
      " 14             [-1, 4]  1         0  ultralytics.nn.modules.conv.Concat           [1]                           \n",
      " 15                  -1  2    517632  ultralytics.nn.modules.block.C2f             [576, 192, 2]                 \n",
      " 16                  -1  1    332160  ultralytics.nn.modules.conv.Conv             [192, 192, 3, 2]              \n",
      " 17            [-1, 12]  1         0  ultralytics.nn.modules.conv.Concat           [1]                           \n",
      " 18                  -1  2   1846272  ultralytics.nn.modules.block.C2f             [576, 384, 2]                 \n",
      " 19                  -1  1   1327872  ultralytics.nn.modules.conv.Conv             [384, 384, 3, 2]              \n",
      " 20             [-1, 9]  1         0  ultralytics.nn.modules.conv.Concat           [1]                           \n",
      " 21                  -1  2   4207104  ultralytics.nn.modules.block.C2f             [960, 576, 2]                 \n",
      " 22        [15, 18, 21]  1   5159603  ultralytics.nn.modules.head.Segment          [1, 32, 192, [192, 384, 576]] \n",
      "YOLOv8m-seg summary: 331 layers, 27,240,227 parameters, 27,240,211 gradients, 110.4 GFLOPs\n",
      "\n",
      "Transferred 537/537 items from pretrained weights\n",
      "\u001b[34m\u001b[1mTensorBoard: \u001b[0mStart with 'tensorboard --logdir yolo_dataset/results/125l_epochs_FocalLpsse', view at http://localhost:6006/\n",
      "Freezing layer 'model.22.dfl.conv.weight'\n",
      "\u001b[34m\u001b[1mAMP: \u001b[0mrunning Automatic Mixed Precision (AMP) checks with YOLOv8n...\n",
      "\u001b[34m\u001b[1mAMP: \u001b[0mchecks passed ✅\n"
     ]
    },
    {
     "name": "stderr",
     "output_type": "stream",
     "text": [
      "\u001b[34m\u001b[1mtrain: \u001b[0mScanning /home/kamenan/Documents/Stage Dev Deep Learning/YOLOV8 evaluation/cellpose_data/yolo_dataset/train/labels.cache... 432 images, 0 backgrounds, 0 corrupt: 100%|██████████| 432/432 [00:00<?, ?it/s]\n",
      "\u001b[34m\u001b[1mval: \u001b[0mScanning /home/kamenan/Documents/Stage Dev Deep Learning/YOLOV8 evaluation/cellpose_data/yolo_dataset/valid/labels.cache... 108 images, 0 backgrounds, 0 corrupt: 100%|██████████| 108/108 [00:00<?, ?it/s]\n"
     ]
    },
    {
     "name": "stdout",
     "output_type": "stream",
     "text": [
      "Plotting labels to yolo_dataset/results/125l_epochs_FocalLpsse/labels.jpg... \n",
      "\u001b[34m\u001b[1moptimizer:\u001b[0m 'optimizer=auto' found, ignoring 'lr0=0.01' and 'momentum=0.937' and determining best 'optimizer', 'lr0' and 'momentum' automatically... \n",
      "\u001b[34m\u001b[1moptimizer:\u001b[0m AdamW(lr=0.002, momentum=0.9) with parameter groups 86 weight(decay=0.0), 97 weight(decay=0.0005), 96 bias(decay=0.0)\n",
      "\u001b[34m\u001b[1mTensorBoard: \u001b[0mmodel graph visualization added ✅\n",
      "Image sizes 640 train, 640 val\n",
      "Using 8 dataloader workers\n",
      "Logging results to \u001b[1myolo_dataset/results/125l_epochs_FocalLpsse\u001b[0m\n",
      "Starting training for 125 epochs...\n",
      "\n",
      "      Epoch    GPU_mem   box_loss   seg_loss   cls_loss   dfl_loss  Instances       Size\n"
     ]
    },
    {
     "name": "stderr",
     "output_type": "stream",
     "text": [
      "      1/125      26.1G      1.253      1.802     0.5553      1.052       2150        640: 100%|██████████| 27/27 [00:38<00:00,  1.44s/it]\n",
      "                 Class     Images  Instances      Box(P          R      mAP50  mAP50-95)     Mask(P          R      mAP50  mAP50-95): 100%|██████████| 4/4 [00:04<00:00,  1.07s/it]"
     ]
    },
    {
     "name": "stdout",
     "output_type": "stream",
     "text": [
      "                   all        108      12091      0.872      0.771      0.831       0.51      0.869      0.752      0.815      0.453\n"
     ]
    },
    {
     "name": "stderr",
     "output_type": "stream",
     "text": [
      "\n"
     ]
    },
    {
     "name": "stdout",
     "output_type": "stream",
     "text": [
      "\n",
      "      Epoch    GPU_mem   box_loss   seg_loss   cls_loss   dfl_loss  Instances       Size\n"
     ]
    },
    {
     "name": "stderr",
     "output_type": "stream",
     "text": [
      "      2/125      21.2G      1.246      1.789     0.5728      1.055       3580        640: 100%|██████████| 27/27 [00:23<00:00,  1.16it/s]\n",
      "                 Class     Images  Instances      Box(P          R      mAP50  mAP50-95)     Mask(P          R      mAP50  mAP50-95): 100%|██████████| 4/4 [00:03<00:00,  1.18it/s]"
     ]
    },
    {
     "name": "stdout",
     "output_type": "stream",
     "text": [
      "                   all        108      12091      0.869      0.771      0.826      0.503      0.863      0.759       0.81      0.455\n"
     ]
    },
    {
     "name": "stderr",
     "output_type": "stream",
     "text": [
      "\n"
     ]
    },
    {
     "name": "stdout",
     "output_type": "stream",
     "text": [
      "\n",
      "      Epoch    GPU_mem   box_loss   seg_loss   cls_loss   dfl_loss  Instances       Size\n"
     ]
    },
    {
     "name": "stderr",
     "output_type": "stream",
     "text": [
      "      3/125      27.7G      1.287      1.839     0.5889      1.061       3378        640: 100%|██████████| 27/27 [00:23<00:00,  1.15it/s]\n",
      "                 Class     Images  Instances      Box(P          R      mAP50  mAP50-95)     Mask(P          R      mAP50  mAP50-95): 100%|██████████| 4/4 [00:03<00:00,  1.07it/s]"
     ]
    },
    {
     "name": "stdout",
     "output_type": "stream",
     "text": [
      "                   all        108      12091      0.864      0.771      0.826      0.489      0.867      0.753      0.813      0.449\n"
     ]
    },
    {
     "name": "stderr",
     "output_type": "stream",
     "text": [
      "\n"
     ]
    },
    {
     "name": "stdout",
     "output_type": "stream",
     "text": [
      "\n",
      "      Epoch    GPU_mem   box_loss   seg_loss   cls_loss   dfl_loss  Instances       Size\n"
     ]
    },
    {
     "name": "stderr",
     "output_type": "stream",
     "text": [
      "      4/125      22.8G      1.292      1.851     0.6024      1.064       2976        640: 100%|██████████| 27/27 [00:23<00:00,  1.15it/s]\n",
      "                 Class     Images  Instances      Box(P          R      mAP50  mAP50-95)     Mask(P          R      mAP50  mAP50-95): 100%|██████████| 4/4 [00:03<00:00,  1.16it/s]"
     ]
    },
    {
     "name": "stdout",
     "output_type": "stream",
     "text": [
      "                   all        108      12091      0.857      0.745      0.805      0.484       0.85      0.736       0.79      0.436\n"
     ]
    },
    {
     "name": "stderr",
     "output_type": "stream",
     "text": [
      "\n"
     ]
    },
    {
     "name": "stdout",
     "output_type": "stream",
     "text": [
      "\n",
      "      Epoch    GPU_mem   box_loss   seg_loss   cls_loss   dfl_loss  Instances       Size\n"
     ]
    },
    {
     "name": "stderr",
     "output_type": "stream",
     "text": [
      "      5/125      25.6G      1.261      1.845     0.6069      1.064       2921        640: 100%|██████████| 27/27 [00:23<00:00,  1.14it/s]\n",
      "                 Class     Images  Instances      Box(P          R      mAP50  mAP50-95)     Mask(P          R      mAP50  mAP50-95): 100%|██████████| 4/4 [00:03<00:00,  1.14it/s]"
     ]
    },
    {
     "name": "stdout",
     "output_type": "stream",
     "text": [
      "                   all        108      12091      0.851       0.75      0.807      0.475      0.848      0.727      0.786      0.418\n"
     ]
    },
    {
     "name": "stderr",
     "output_type": "stream",
     "text": [
      "\n"
     ]
    },
    {
     "name": "stdout",
     "output_type": "stream",
     "text": [
      "\n",
      "      Epoch    GPU_mem   box_loss   seg_loss   cls_loss   dfl_loss  Instances       Size\n"
     ]
    },
    {
     "name": "stderr",
     "output_type": "stream",
     "text": [
      "      6/125      24.5G       1.32      1.917     0.6299      1.073       3250        640: 100%|██████████| 27/27 [00:23<00:00,  1.14it/s]\n",
      "                 Class     Images  Instances      Box(P          R      mAP50  mAP50-95)     Mask(P          R      mAP50  mAP50-95): 100%|██████████| 4/4 [00:03<00:00,  1.18it/s]"
     ]
    },
    {
     "name": "stdout",
     "output_type": "stream",
     "text": [
      "                   all        108      12091      0.859      0.754      0.807      0.475      0.846      0.737      0.789      0.422\n"
     ]
    },
    {
     "name": "stderr",
     "output_type": "stream",
     "text": [
      "\n"
     ]
    },
    {
     "name": "stdout",
     "output_type": "stream",
     "text": [
      "\n",
      "      Epoch    GPU_mem   box_loss   seg_loss   cls_loss   dfl_loss  Instances       Size\n"
     ]
    },
    {
     "name": "stderr",
     "output_type": "stream",
     "text": [
      "      7/125      23.7G      1.286       1.87     0.6156      1.073       3253        640: 100%|██████████| 27/27 [00:24<00:00,  1.12it/s]\n",
      "                 Class     Images  Instances      Box(P          R      mAP50  mAP50-95)     Mask(P          R      mAP50  mAP50-95): 100%|██████████| 4/4 [00:03<00:00,  1.15it/s]"
     ]
    },
    {
     "name": "stdout",
     "output_type": "stream",
     "text": [
      "                   all        108      12091      0.869      0.757      0.818      0.503      0.865      0.749      0.808       0.46\n"
     ]
    },
    {
     "name": "stderr",
     "output_type": "stream",
     "text": [
      "\n"
     ]
    },
    {
     "name": "stdout",
     "output_type": "stream",
     "text": [
      "\n",
      "      Epoch    GPU_mem   box_loss   seg_loss   cls_loss   dfl_loss  Instances       Size\n"
     ]
    },
    {
     "name": "stderr",
     "output_type": "stream",
     "text": [
      "      8/125      18.9G      1.285      1.865     0.6166      1.079       3110        640: 100%|██████████| 27/27 [00:23<00:00,  1.15it/s]\n",
      "                 Class     Images  Instances      Box(P          R      mAP50  mAP50-95)     Mask(P          R      mAP50  mAP50-95): 100%|██████████| 4/4 [00:03<00:00,  1.14it/s]"
     ]
    },
    {
     "name": "stdout",
     "output_type": "stream",
     "text": [
      "                   all        108      12091      0.857      0.767      0.822      0.505      0.856      0.761      0.814      0.468\n"
     ]
    },
    {
     "name": "stderr",
     "output_type": "stream",
     "text": [
      "\n"
     ]
    },
    {
     "name": "stdout",
     "output_type": "stream",
     "text": [
      "\n",
      "      Epoch    GPU_mem   box_loss   seg_loss   cls_loss   dfl_loss  Instances       Size\n"
     ]
    },
    {
     "name": "stderr",
     "output_type": "stream",
     "text": [
      "      9/125      22.6G      1.317      1.893     0.6175      1.078       4003        640: 100%|██████████| 27/27 [00:23<00:00,  1.15it/s]\n",
      "                 Class     Images  Instances      Box(P          R      mAP50  mAP50-95)     Mask(P          R      mAP50  mAP50-95): 100%|██████████| 4/4 [00:03<00:00,  1.31it/s]"
     ]
    },
    {
     "name": "stdout",
     "output_type": "stream",
     "text": [
      "                   all        108      12091      0.863      0.756      0.821      0.492      0.862      0.743      0.807      0.449\n"
     ]
    },
    {
     "name": "stderr",
     "output_type": "stream",
     "text": [
      "\n"
     ]
    },
    {
     "name": "stdout",
     "output_type": "stream",
     "text": [
      "\n",
      "      Epoch    GPU_mem   box_loss   seg_loss   cls_loss   dfl_loss  Instances       Size\n"
     ]
    },
    {
     "name": "stderr",
     "output_type": "stream",
     "text": [
      "     10/125      23.8G      1.329      1.876      0.622      1.074       4008        640: 100%|██████████| 27/27 [00:23<00:00,  1.16it/s]\n",
      "                 Class     Images  Instances      Box(P          R      mAP50  mAP50-95)     Mask(P          R      mAP50  mAP50-95): 100%|██████████| 4/4 [00:03<00:00,  1.20it/s]"
     ]
    },
    {
     "name": "stdout",
     "output_type": "stream",
     "text": [
      "                   all        108      12091      0.862      0.751      0.809      0.493       0.86      0.734      0.793      0.441\n"
     ]
    },
    {
     "name": "stderr",
     "output_type": "stream",
     "text": [
      "\n"
     ]
    },
    {
     "name": "stdout",
     "output_type": "stream",
     "text": [
      "\n",
      "      Epoch    GPU_mem   box_loss   seg_loss   cls_loss   dfl_loss  Instances       Size\n"
     ]
    },
    {
     "name": "stderr",
     "output_type": "stream",
     "text": [
      "     11/125      26.3G      1.301      1.823     0.6072      1.069       2417        640: 100%|██████████| 27/27 [00:23<00:00,  1.14it/s]\n",
      "                 Class     Images  Instances      Box(P          R      mAP50  mAP50-95)     Mask(P          R      mAP50  mAP50-95): 100%|██████████| 4/4 [00:03<00:00,  1.17it/s]"
     ]
    },
    {
     "name": "stdout",
     "output_type": "stream",
     "text": [
      "                   all        108      12091      0.878       0.75      0.822      0.504      0.877      0.736      0.809      0.455\n"
     ]
    },
    {
     "name": "stderr",
     "output_type": "stream",
     "text": [
      "\n"
     ]
    },
    {
     "name": "stdout",
     "output_type": "stream",
     "text": [
      "\n",
      "      Epoch    GPU_mem   box_loss   seg_loss   cls_loss   dfl_loss  Instances       Size\n"
     ]
    },
    {
     "name": "stderr",
     "output_type": "stream",
     "text": [
      "     12/125      25.5G      1.276      1.816     0.5991      1.062       3307        640: 100%|██████████| 27/27 [00:23<00:00,  1.16it/s]\n",
      "                 Class     Images  Instances      Box(P          R      mAP50  mAP50-95)     Mask(P          R      mAP50  mAP50-95): 100%|██████████| 4/4 [00:03<00:00,  1.09it/s]"
     ]
    },
    {
     "name": "stdout",
     "output_type": "stream",
     "text": [
      "                   all        108      12091      0.868       0.76      0.821      0.495      0.867      0.741      0.805      0.443\n"
     ]
    },
    {
     "name": "stderr",
     "output_type": "stream",
     "text": [
      "\n"
     ]
    },
    {
     "name": "stdout",
     "output_type": "stream",
     "text": [
      "\n",
      "      Epoch    GPU_mem   box_loss   seg_loss   cls_loss   dfl_loss  Instances       Size\n"
     ]
    },
    {
     "name": "stderr",
     "output_type": "stream",
     "text": [
      "     13/125      24.4G      1.272      1.833     0.5997      1.068       2726        640: 100%|██████████| 27/27 [00:22<00:00,  1.18it/s]\n",
      "                 Class     Images  Instances      Box(P          R      mAP50  mAP50-95)     Mask(P          R      mAP50  mAP50-95): 100%|██████████| 4/4 [00:03<00:00,  1.28it/s]"
     ]
    },
    {
     "name": "stdout",
     "output_type": "stream",
     "text": [
      "                   all        108      12091      0.873      0.755      0.817      0.488      0.869       0.74      0.802      0.444\n"
     ]
    },
    {
     "name": "stderr",
     "output_type": "stream",
     "text": [
      "\n"
     ]
    },
    {
     "name": "stdout",
     "output_type": "stream",
     "text": [
      "\n",
      "      Epoch    GPU_mem   box_loss   seg_loss   cls_loss   dfl_loss  Instances       Size\n"
     ]
    },
    {
     "name": "stderr",
     "output_type": "stream",
     "text": [
      "     14/125      22.3G      1.301      1.862     0.6035      1.071       1997        640: 100%|██████████| 27/27 [00:23<00:00,  1.16it/s]\n",
      "                 Class     Images  Instances      Box(P          R      mAP50  mAP50-95)     Mask(P          R      mAP50  mAP50-95): 100%|██████████| 4/4 [00:03<00:00,  1.24it/s]"
     ]
    },
    {
     "name": "stdout",
     "output_type": "stream",
     "text": [
      "                   all        108      12091      0.866      0.761      0.818      0.505      0.866      0.755      0.811      0.462\n"
     ]
    },
    {
     "name": "stderr",
     "output_type": "stream",
     "text": [
      "\n"
     ]
    },
    {
     "name": "stdout",
     "output_type": "stream",
     "text": [
      "\n",
      "      Epoch    GPU_mem   box_loss   seg_loss   cls_loss   dfl_loss  Instances       Size\n"
     ]
    },
    {
     "name": "stderr",
     "output_type": "stream",
     "text": [
      "     15/125      20.7G      1.308      1.865     0.6066      1.069       2861        640: 100%|██████████| 27/27 [00:23<00:00,  1.15it/s]\n",
      "                 Class     Images  Instances      Box(P          R      mAP50  mAP50-95)     Mask(P          R      mAP50  mAP50-95): 100%|██████████| 4/4 [00:03<00:00,  1.27it/s]"
     ]
    },
    {
     "name": "stdout",
     "output_type": "stream",
     "text": [
      "                   all        108      12091      0.867      0.769      0.832      0.512      0.866      0.757      0.819      0.468\n"
     ]
    },
    {
     "name": "stderr",
     "output_type": "stream",
     "text": [
      "\n"
     ]
    },
    {
     "name": "stdout",
     "output_type": "stream",
     "text": [
      "\n",
      "      Epoch    GPU_mem   box_loss   seg_loss   cls_loss   dfl_loss  Instances       Size\n"
     ]
    },
    {
     "name": "stderr",
     "output_type": "stream",
     "text": [
      "     16/125      27.6G      1.294      1.852     0.5982      1.062       3090        640: 100%|██████████| 27/27 [00:24<00:00,  1.12it/s]\n",
      "                 Class     Images  Instances      Box(P          R      mAP50  mAP50-95)     Mask(P          R      mAP50  mAP50-95): 100%|██████████| 4/4 [00:03<00:00,  1.23it/s]"
     ]
    },
    {
     "name": "stdout",
     "output_type": "stream",
     "text": [
      "                   all        108      12091      0.869      0.754       0.82      0.491      0.856       0.74      0.802      0.431\n"
     ]
    },
    {
     "name": "stderr",
     "output_type": "stream",
     "text": [
      "\n"
     ]
    },
    {
     "name": "stdout",
     "output_type": "stream",
     "text": [
      "\n",
      "      Epoch    GPU_mem   box_loss   seg_loss   cls_loss   dfl_loss  Instances       Size\n"
     ]
    },
    {
     "name": "stderr",
     "output_type": "stream",
     "text": [
      "     17/125      27.3G      1.252       1.79     0.5807      1.054       2332        640: 100%|██████████| 27/27 [00:23<00:00,  1.15it/s]\n",
      "                 Class     Images  Instances      Box(P          R      mAP50  mAP50-95)     Mask(P          R      mAP50  mAP50-95): 100%|██████████| 4/4 [00:03<00:00,  1.22it/s]"
     ]
    },
    {
     "name": "stdout",
     "output_type": "stream",
     "text": [
      "                   all        108      12091      0.865       0.75      0.815      0.484      0.863      0.728      0.798      0.429\n"
     ]
    },
    {
     "name": "stderr",
     "output_type": "stream",
     "text": [
      "\n"
     ]
    },
    {
     "name": "stdout",
     "output_type": "stream",
     "text": [
      "\n",
      "      Epoch    GPU_mem   box_loss   seg_loss   cls_loss   dfl_loss  Instances       Size\n"
     ]
    },
    {
     "name": "stderr",
     "output_type": "stream",
     "text": [
      "     18/125      26.9G      1.285      1.811     0.5976      1.058       2597        640: 100%|██████████| 27/27 [00:22<00:00,  1.18it/s]\n",
      "                 Class     Images  Instances      Box(P          R      mAP50  mAP50-95)     Mask(P          R      mAP50  mAP50-95): 100%|██████████| 4/4 [00:03<00:00,  1.19it/s]"
     ]
    },
    {
     "name": "stdout",
     "output_type": "stream",
     "text": [
      "                   all        108      12091       0.87      0.754      0.819      0.499      0.864      0.734      0.801      0.441\n"
     ]
    },
    {
     "name": "stderr",
     "output_type": "stream",
     "text": [
      "\n"
     ]
    },
    {
     "name": "stdout",
     "output_type": "stream",
     "text": [
      "\n",
      "      Epoch    GPU_mem   box_loss   seg_loss   cls_loss   dfl_loss  Instances       Size\n"
     ]
    },
    {
     "name": "stderr",
     "output_type": "stream",
     "text": [
      "     19/125      19.4G      1.289      1.807     0.5923      1.061       2764        640: 100%|██████████| 27/27 [00:23<00:00,  1.15it/s]\n",
      "                 Class     Images  Instances      Box(P          R      mAP50  mAP50-95)     Mask(P          R      mAP50  mAP50-95): 100%|██████████| 4/4 [00:03<00:00,  1.25it/s]"
     ]
    },
    {
     "name": "stdout",
     "output_type": "stream",
     "text": [
      "                   all        108      12091      0.866       0.76      0.821      0.502      0.864      0.738      0.803      0.453\n"
     ]
    },
    {
     "name": "stderr",
     "output_type": "stream",
     "text": [
      "\n"
     ]
    },
    {
     "name": "stdout",
     "output_type": "stream",
     "text": [
      "\n",
      "      Epoch    GPU_mem   box_loss   seg_loss   cls_loss   dfl_loss  Instances       Size\n"
     ]
    },
    {
     "name": "stderr",
     "output_type": "stream",
     "text": [
      "     20/125      18.3G      1.263      1.798     0.5854      1.063       2465        640: 100%|██████████| 27/27 [00:23<00:00,  1.15it/s]\n",
      "                 Class     Images  Instances      Box(P          R      mAP50  mAP50-95)     Mask(P          R      mAP50  mAP50-95): 100%|██████████| 4/4 [00:03<00:00,  1.23it/s]"
     ]
    },
    {
     "name": "stdout",
     "output_type": "stream",
     "text": [
      "                   all        108      12091      0.875      0.766      0.832      0.514      0.867      0.752      0.815      0.468\n"
     ]
    },
    {
     "name": "stderr",
     "output_type": "stream",
     "text": [
      "\n"
     ]
    },
    {
     "name": "stdout",
     "output_type": "stream",
     "text": [
      "\n",
      "      Epoch    GPU_mem   box_loss   seg_loss   cls_loss   dfl_loss  Instances       Size\n"
     ]
    },
    {
     "name": "stderr",
     "output_type": "stream",
     "text": [
      "     21/125      15.9G      1.261      1.801     0.5806      1.058       3462        640: 100%|██████████| 27/27 [00:22<00:00,  1.20it/s]\n",
      "                 Class     Images  Instances      Box(P          R      mAP50  mAP50-95)     Mask(P          R      mAP50  mAP50-95): 100%|██████████| 4/4 [00:03<00:00,  1.20it/s]"
     ]
    },
    {
     "name": "stdout",
     "output_type": "stream",
     "text": [
      "                   all        108      12091      0.869      0.758      0.817      0.497      0.864      0.742      0.799      0.452\n"
     ]
    },
    {
     "name": "stderr",
     "output_type": "stream",
     "text": [
      "\n"
     ]
    },
    {
     "name": "stdout",
     "output_type": "stream",
     "text": [
      "\n",
      "      Epoch    GPU_mem   box_loss   seg_loss   cls_loss   dfl_loss  Instances       Size\n"
     ]
    },
    {
     "name": "stderr",
     "output_type": "stream",
     "text": [
      "     22/125      21.4G      1.265      1.809     0.5825      1.056       3673        640: 100%|██████████| 27/27 [00:23<00:00,  1.16it/s]\n",
      "                 Class     Images  Instances      Box(P          R      mAP50  mAP50-95)     Mask(P          R      mAP50  mAP50-95): 100%|██████████| 4/4 [00:03<00:00,  1.24it/s]"
     ]
    },
    {
     "name": "stdout",
     "output_type": "stream",
     "text": [
      "                   all        108      12091      0.862      0.761      0.819      0.504      0.857      0.739      0.799      0.451\n"
     ]
    },
    {
     "name": "stderr",
     "output_type": "stream",
     "text": [
      "\n"
     ]
    },
    {
     "name": "stdout",
     "output_type": "stream",
     "text": [
      "\n",
      "      Epoch    GPU_mem   box_loss   seg_loss   cls_loss   dfl_loss  Instances       Size\n"
     ]
    },
    {
     "name": "stderr",
     "output_type": "stream",
     "text": [
      "     23/125      23.4G      1.269      1.799     0.5846      1.057       3168        640: 100%|██████████| 27/27 [00:22<00:00,  1.19it/s]\n",
      "                 Class     Images  Instances      Box(P          R      mAP50  mAP50-95)     Mask(P          R      mAP50  mAP50-95): 100%|██████████| 4/4 [00:03<00:00,  1.27it/s]"
     ]
    },
    {
     "name": "stdout",
     "output_type": "stream",
     "text": [
      "                   all        108      12091      0.868      0.758      0.821      0.501      0.864      0.739      0.803       0.45\n"
     ]
    },
    {
     "name": "stderr",
     "output_type": "stream",
     "text": [
      "\n"
     ]
    },
    {
     "name": "stdout",
     "output_type": "stream",
     "text": [
      "\n",
      "      Epoch    GPU_mem   box_loss   seg_loss   cls_loss   dfl_loss  Instances       Size\n"
     ]
    },
    {
     "name": "stderr",
     "output_type": "stream",
     "text": [
      "     24/125        24G      1.288      1.814     0.5887       1.07       3731        640: 100%|██████████| 27/27 [00:23<00:00,  1.17it/s]\n",
      "                 Class     Images  Instances      Box(P          R      mAP50  mAP50-95)     Mask(P          R      mAP50  mAP50-95): 100%|██████████| 4/4 [00:03<00:00,  1.24it/s]"
     ]
    },
    {
     "name": "stdout",
     "output_type": "stream",
     "text": [
      "                   all        108      12091      0.873      0.767      0.826      0.502      0.864      0.746      0.808      0.449\n"
     ]
    },
    {
     "name": "stderr",
     "output_type": "stream",
     "text": [
      "\n"
     ]
    },
    {
     "name": "stdout",
     "output_type": "stream",
     "text": [
      "\n",
      "      Epoch    GPU_mem   box_loss   seg_loss   cls_loss   dfl_loss  Instances       Size\n"
     ]
    },
    {
     "name": "stderr",
     "output_type": "stream",
     "text": [
      "     25/125      24.2G       1.26      1.791     0.5794      1.055       3592        640: 100%|██████████| 27/27 [00:23<00:00,  1.15it/s]\n",
      "                 Class     Images  Instances      Box(P          R      mAP50  mAP50-95)     Mask(P          R      mAP50  mAP50-95): 100%|██████████| 4/4 [00:03<00:00,  1.24it/s]"
     ]
    },
    {
     "name": "stdout",
     "output_type": "stream",
     "text": [
      "                   all        108      12091      0.873       0.77      0.833      0.503      0.873      0.755      0.821      0.459\n"
     ]
    },
    {
     "name": "stderr",
     "output_type": "stream",
     "text": [
      "\n"
     ]
    },
    {
     "name": "stdout",
     "output_type": "stream",
     "text": [
      "\n",
      "      Epoch    GPU_mem   box_loss   seg_loss   cls_loss   dfl_loss  Instances       Size\n"
     ]
    },
    {
     "name": "stderr",
     "output_type": "stream",
     "text": [
      "     26/125      21.3G      1.265      1.802     0.5816      1.052       3353        640: 100%|██████████| 27/27 [00:23<00:00,  1.14it/s]\n",
      "                 Class     Images  Instances      Box(P          R      mAP50  mAP50-95)     Mask(P          R      mAP50  mAP50-95): 100%|██████████| 4/4 [00:03<00:00,  1.21it/s]"
     ]
    },
    {
     "name": "stdout",
     "output_type": "stream",
     "text": [
      "                   all        108      12091      0.862       0.75      0.811      0.484      0.858      0.731      0.797      0.438\n"
     ]
    },
    {
     "name": "stderr",
     "output_type": "stream",
     "text": [
      "\n"
     ]
    },
    {
     "name": "stdout",
     "output_type": "stream",
     "text": [
      "\n",
      "      Epoch    GPU_mem   box_loss   seg_loss   cls_loss   dfl_loss  Instances       Size\n"
     ]
    },
    {
     "name": "stderr",
     "output_type": "stream",
     "text": [
      "     27/125      23.8G      1.251      1.776     0.5755      1.049       3321        640: 100%|██████████| 27/27 [00:23<00:00,  1.14it/s]\n",
      "                 Class     Images  Instances      Box(P          R      mAP50  mAP50-95)     Mask(P          R      mAP50  mAP50-95): 100%|██████████| 4/4 [00:03<00:00,  1.29it/s]"
     ]
    },
    {
     "name": "stdout",
     "output_type": "stream",
     "text": [
      "                   all        108      12091      0.862      0.753      0.814        0.5      0.856      0.736      0.798      0.448\n"
     ]
    },
    {
     "name": "stderr",
     "output_type": "stream",
     "text": [
      "\n"
     ]
    },
    {
     "name": "stdout",
     "output_type": "stream",
     "text": [
      "\n",
      "      Epoch    GPU_mem   box_loss   seg_loss   cls_loss   dfl_loss  Instances       Size\n"
     ]
    },
    {
     "name": "stderr",
     "output_type": "stream",
     "text": [
      "     28/125      25.4G      1.243      1.768     0.5789      1.044       3157        640: 100%|██████████| 27/27 [00:23<00:00,  1.16it/s]\n",
      "                 Class     Images  Instances      Box(P          R      mAP50  mAP50-95)     Mask(P          R      mAP50  mAP50-95): 100%|██████████| 4/4 [00:03<00:00,  1.13it/s]"
     ]
    },
    {
     "name": "stdout",
     "output_type": "stream",
     "text": [
      "                   all        108      12091      0.858      0.768      0.819      0.499      0.855      0.756      0.808      0.457\n"
     ]
    },
    {
     "name": "stderr",
     "output_type": "stream",
     "text": [
      "\n"
     ]
    },
    {
     "name": "stdout",
     "output_type": "stream",
     "text": [
      "\n",
      "      Epoch    GPU_mem   box_loss   seg_loss   cls_loss   dfl_loss  Instances       Size\n"
     ]
    },
    {
     "name": "stderr",
     "output_type": "stream",
     "text": [
      "     29/125      22.8G      1.259      1.773     0.5816      1.054       2814        640: 100%|██████████| 27/27 [00:23<00:00,  1.16it/s]\n",
      "                 Class     Images  Instances      Box(P          R      mAP50  mAP50-95)     Mask(P          R      mAP50  mAP50-95): 100%|██████████| 4/4 [00:03<00:00,  1.10it/s]"
     ]
    },
    {
     "name": "stdout",
     "output_type": "stream",
     "text": [
      "                   all        108      12091      0.867      0.759      0.824      0.497      0.866      0.742      0.807      0.451\n"
     ]
    },
    {
     "name": "stderr",
     "output_type": "stream",
     "text": [
      "\n"
     ]
    },
    {
     "name": "stdout",
     "output_type": "stream",
     "text": [
      "\n",
      "      Epoch    GPU_mem   box_loss   seg_loss   cls_loss   dfl_loss  Instances       Size\n"
     ]
    },
    {
     "name": "stderr",
     "output_type": "stream",
     "text": [
      "     30/125      28.8G      1.257      1.794     0.5769      1.058       3980        640: 100%|██████████| 27/27 [00:23<00:00,  1.16it/s]\n",
      "                 Class     Images  Instances      Box(P          R      mAP50  mAP50-95)     Mask(P          R      mAP50  mAP50-95): 100%|██████████| 4/4 [00:03<00:00,  1.17it/s]"
     ]
    },
    {
     "name": "stdout",
     "output_type": "stream",
     "text": [
      "                   all        108      12091      0.875      0.756      0.825      0.511       0.87      0.746      0.814      0.471\n"
     ]
    },
    {
     "name": "stderr",
     "output_type": "stream",
     "text": [
      "\n"
     ]
    },
    {
     "name": "stdout",
     "output_type": "stream",
     "text": [
      "\n",
      "      Epoch    GPU_mem   box_loss   seg_loss   cls_loss   dfl_loss  Instances       Size\n"
     ]
    },
    {
     "name": "stderr",
     "output_type": "stream",
     "text": [
      "     31/125        21G      1.247       1.79     0.5703      1.053       3453        640: 100%|██████████| 27/27 [00:23<00:00,  1.17it/s]\n",
      "                 Class     Images  Instances      Box(P          R      mAP50  mAP50-95)     Mask(P          R      mAP50  mAP50-95): 100%|██████████| 4/4 [00:03<00:00,  1.22it/s]"
     ]
    },
    {
     "name": "stdout",
     "output_type": "stream",
     "text": [
      "                   all        108      12091      0.872      0.767      0.828      0.501      0.864      0.749      0.813      0.459\n"
     ]
    },
    {
     "name": "stderr",
     "output_type": "stream",
     "text": [
      "\n"
     ]
    },
    {
     "name": "stdout",
     "output_type": "stream",
     "text": [
      "\n",
      "      Epoch    GPU_mem   box_loss   seg_loss   cls_loss   dfl_loss  Instances       Size\n"
     ]
    },
    {
     "name": "stderr",
     "output_type": "stream",
     "text": [
      "     32/125      20.6G      1.238      1.757     0.5663      1.048       3261        640: 100%|██████████| 27/27 [00:23<00:00,  1.14it/s]\n",
      "                 Class     Images  Instances      Box(P          R      mAP50  mAP50-95)     Mask(P          R      mAP50  mAP50-95): 100%|██████████| 4/4 [00:03<00:00,  1.25it/s]"
     ]
    },
    {
     "name": "stdout",
     "output_type": "stream",
     "text": [
      "                   all        108      12091      0.869      0.758      0.816      0.512      0.869      0.743      0.803      0.464\n"
     ]
    },
    {
     "name": "stderr",
     "output_type": "stream",
     "text": [
      "\n"
     ]
    },
    {
     "name": "stdout",
     "output_type": "stream",
     "text": [
      "\n",
      "      Epoch    GPU_mem   box_loss   seg_loss   cls_loss   dfl_loss  Instances       Size\n"
     ]
    },
    {
     "name": "stderr",
     "output_type": "stream",
     "text": [
      "     33/125      24.9G      1.256      1.768     0.5755      1.052       2001        640: 100%|██████████| 27/27 [00:23<00:00,  1.15it/s]\n",
      "                 Class     Images  Instances      Box(P          R      mAP50  mAP50-95)     Mask(P          R      mAP50  mAP50-95): 100%|██████████| 4/4 [00:03<00:00,  1.16it/s]"
     ]
    },
    {
     "name": "stdout",
     "output_type": "stream",
     "text": [
      "                   all        108      12091      0.866       0.77      0.826      0.508      0.862      0.754      0.812       0.47\n"
     ]
    },
    {
     "name": "stderr",
     "output_type": "stream",
     "text": [
      "\n"
     ]
    },
    {
     "name": "stdout",
     "output_type": "stream",
     "text": [
      "\n",
      "      Epoch    GPU_mem   box_loss   seg_loss   cls_loss   dfl_loss  Instances       Size\n"
     ]
    },
    {
     "name": "stderr",
     "output_type": "stream",
     "text": [
      "     34/125      26.4G      1.246      1.765     0.5693      1.055       3292        640: 100%|██████████| 27/27 [00:23<00:00,  1.14it/s]\n",
      "                 Class     Images  Instances      Box(P          R      mAP50  mAP50-95)     Mask(P          R      mAP50  mAP50-95): 100%|██████████| 4/4 [00:03<00:00,  1.16it/s]"
     ]
    },
    {
     "name": "stdout",
     "output_type": "stream",
     "text": [
      "                   all        108      12091      0.874      0.769      0.821      0.501      0.873      0.757       0.81      0.458\n"
     ]
    },
    {
     "name": "stderr",
     "output_type": "stream",
     "text": [
      "\n"
     ]
    },
    {
     "name": "stdout",
     "output_type": "stream",
     "text": [
      "\n",
      "      Epoch    GPU_mem   box_loss   seg_loss   cls_loss   dfl_loss  Instances       Size\n"
     ]
    },
    {
     "name": "stderr",
     "output_type": "stream",
     "text": [
      "     35/125      22.3G      1.251      1.767     0.5621      1.042       3362        640: 100%|██████████| 27/27 [00:23<00:00,  1.16it/s]\n",
      "                 Class     Images  Instances      Box(P          R      mAP50  mAP50-95)     Mask(P          R      mAP50  mAP50-95): 100%|██████████| 4/4 [00:03<00:00,  1.28it/s]"
     ]
    },
    {
     "name": "stdout",
     "output_type": "stream",
     "text": [
      "                   all        108      12091      0.871      0.772      0.834      0.528      0.874      0.758      0.822      0.482\n"
     ]
    },
    {
     "name": "stderr",
     "output_type": "stream",
     "text": [
      "\n"
     ]
    },
    {
     "name": "stdout",
     "output_type": "stream",
     "text": [
      "\n",
      "      Epoch    GPU_mem   box_loss   seg_loss   cls_loss   dfl_loss  Instances       Size\n"
     ]
    },
    {
     "name": "stderr",
     "output_type": "stream",
     "text": [
      "     36/125        25G      1.237      1.751     0.5595      1.046       3779        640: 100%|██████████| 27/27 [00:23<00:00,  1.13it/s]\n",
      "                 Class     Images  Instances      Box(P          R      mAP50  mAP50-95)     Mask(P          R      mAP50  mAP50-95): 100%|██████████| 4/4 [00:03<00:00,  1.15it/s]"
     ]
    },
    {
     "name": "stdout",
     "output_type": "stream",
     "text": [
      "                   all        108      12091      0.872      0.774       0.83       0.51      0.864      0.764      0.816       0.46\n"
     ]
    },
    {
     "name": "stderr",
     "output_type": "stream",
     "text": [
      "\n"
     ]
    },
    {
     "name": "stdout",
     "output_type": "stream",
     "text": [
      "\n",
      "      Epoch    GPU_mem   box_loss   seg_loss   cls_loss   dfl_loss  Instances       Size\n"
     ]
    },
    {
     "name": "stderr",
     "output_type": "stream",
     "text": [
      "     37/125      23.9G      1.232       1.74     0.5569      1.041       3204        640: 100%|██████████| 27/27 [00:22<00:00,  1.18it/s]\n",
      "                 Class     Images  Instances      Box(P          R      mAP50  mAP50-95)     Mask(P          R      mAP50  mAP50-95): 100%|██████████| 4/4 [00:03<00:00,  1.17it/s]"
     ]
    },
    {
     "name": "stdout",
     "output_type": "stream",
     "text": [
      "                   all        108      12091      0.881      0.758      0.828      0.497      0.872      0.738      0.807      0.444\n"
     ]
    },
    {
     "name": "stderr",
     "output_type": "stream",
     "text": [
      "\n"
     ]
    },
    {
     "name": "stdout",
     "output_type": "stream",
     "text": [
      "\n",
      "      Epoch    GPU_mem   box_loss   seg_loss   cls_loss   dfl_loss  Instances       Size\n"
     ]
    },
    {
     "name": "stderr",
     "output_type": "stream",
     "text": [
      "     38/125      26.9G      1.239      1.748     0.5579      1.041       2920        640: 100%|██████████| 27/27 [00:23<00:00,  1.15it/s]\n",
      "                 Class     Images  Instances      Box(P          R      mAP50  mAP50-95)     Mask(P          R      mAP50  mAP50-95): 100%|██████████| 4/4 [00:03<00:00,  1.18it/s]"
     ]
    },
    {
     "name": "stdout",
     "output_type": "stream",
     "text": [
      "                   all        108      12091      0.864      0.773      0.826      0.501      0.859      0.754      0.809      0.446\n"
     ]
    },
    {
     "name": "stderr",
     "output_type": "stream",
     "text": [
      "\n"
     ]
    },
    {
     "name": "stdout",
     "output_type": "stream",
     "text": [
      "\n",
      "      Epoch    GPU_mem   box_loss   seg_loss   cls_loss   dfl_loss  Instances       Size\n"
     ]
    },
    {
     "name": "stderr",
     "output_type": "stream",
     "text": [
      "     39/125      19.8G      1.247      1.765     0.5692      1.048       3007        640: 100%|██████████| 27/27 [00:23<00:00,  1.15it/s]\n",
      "                 Class     Images  Instances      Box(P          R      mAP50  mAP50-95)     Mask(P          R      mAP50  mAP50-95): 100%|██████████| 4/4 [00:03<00:00,  1.21it/s]"
     ]
    },
    {
     "name": "stdout",
     "output_type": "stream",
     "text": [
      "                   all        108      12091      0.881      0.753       0.82      0.487      0.872      0.734        0.8      0.437\n"
     ]
    },
    {
     "name": "stderr",
     "output_type": "stream",
     "text": [
      "\n"
     ]
    },
    {
     "name": "stdout",
     "output_type": "stream",
     "text": [
      "\n",
      "      Epoch    GPU_mem   box_loss   seg_loss   cls_loss   dfl_loss  Instances       Size\n"
     ]
    },
    {
     "name": "stderr",
     "output_type": "stream",
     "text": [
      "     40/125      26.8G      1.214      1.718     0.5559      1.038       3759        640: 100%|██████████| 27/27 [00:23<00:00,  1.14it/s]\n",
      "                 Class     Images  Instances      Box(P          R      mAP50  mAP50-95)     Mask(P          R      mAP50  mAP50-95): 100%|██████████| 4/4 [00:03<00:00,  1.14it/s]"
     ]
    },
    {
     "name": "stdout",
     "output_type": "stream",
     "text": [
      "                   all        108      12091      0.874      0.773      0.834      0.504      0.869      0.757      0.818      0.451\n"
     ]
    },
    {
     "name": "stderr",
     "output_type": "stream",
     "text": [
      "\n"
     ]
    },
    {
     "name": "stdout",
     "output_type": "stream",
     "text": [
      "\n",
      "      Epoch    GPU_mem   box_loss   seg_loss   cls_loss   dfl_loss  Instances       Size\n"
     ]
    },
    {
     "name": "stderr",
     "output_type": "stream",
     "text": [
      "     41/125      24.4G      1.221      1.718     0.5549      1.046       2248        640: 100%|██████████| 27/27 [00:22<00:00,  1.19it/s]\n",
      "                 Class     Images  Instances      Box(P          R      mAP50  mAP50-95)     Mask(P          R      mAP50  mAP50-95): 100%|██████████| 4/4 [00:03<00:00,  1.11it/s]"
     ]
    },
    {
     "name": "stdout",
     "output_type": "stream",
     "text": [
      "                   all        108      12091      0.864      0.767      0.824      0.486      0.862      0.745      0.807      0.424\n"
     ]
    },
    {
     "name": "stderr",
     "output_type": "stream",
     "text": [
      "\n"
     ]
    },
    {
     "name": "stdout",
     "output_type": "stream",
     "text": [
      "\n",
      "      Epoch    GPU_mem   box_loss   seg_loss   cls_loss   dfl_loss  Instances       Size\n"
     ]
    },
    {
     "name": "stderr",
     "output_type": "stream",
     "text": [
      "     42/125      24.9G       1.26      1.793     0.5687      1.042       3113        640: 100%|██████████| 27/27 [00:23<00:00,  1.14it/s]\n",
      "                 Class     Images  Instances      Box(P          R      mAP50  mAP50-95)     Mask(P          R      mAP50  mAP50-95): 100%|██████████| 4/4 [00:03<00:00,  1.25it/s]"
     ]
    },
    {
     "name": "stdout",
     "output_type": "stream",
     "text": [
      "                   all        108      12091      0.879      0.765      0.824      0.504      0.877       0.75      0.814      0.459\n"
     ]
    },
    {
     "name": "stderr",
     "output_type": "stream",
     "text": [
      "\n"
     ]
    },
    {
     "name": "stdout",
     "output_type": "stream",
     "text": [
      "\n",
      "      Epoch    GPU_mem   box_loss   seg_loss   cls_loss   dfl_loss  Instances       Size\n"
     ]
    },
    {
     "name": "stderr",
     "output_type": "stream",
     "text": [
      "     43/125      23.6G      1.224      1.736     0.5603       1.04       2611        640: 100%|██████████| 27/27 [00:24<00:00,  1.11it/s]\n",
      "                 Class     Images  Instances      Box(P          R      mAP50  mAP50-95)     Mask(P          R      mAP50  mAP50-95): 100%|██████████| 4/4 [00:03<00:00,  1.19it/s]"
     ]
    },
    {
     "name": "stdout",
     "output_type": "stream",
     "text": [
      "                   all        108      12091      0.878      0.755      0.824      0.498      0.868      0.739      0.808      0.448\n"
     ]
    },
    {
     "name": "stderr",
     "output_type": "stream",
     "text": [
      "\n"
     ]
    },
    {
     "name": "stdout",
     "output_type": "stream",
     "text": [
      "\n",
      "      Epoch    GPU_mem   box_loss   seg_loss   cls_loss   dfl_loss  Instances       Size\n"
     ]
    },
    {
     "name": "stderr",
     "output_type": "stream",
     "text": [
      "     44/125        22G      1.209       1.71     0.5492      1.035       2838        640: 100%|██████████| 27/27 [00:23<00:00,  1.14it/s]\n",
      "                 Class     Images  Instances      Box(P          R      mAP50  mAP50-95)     Mask(P          R      mAP50  mAP50-95): 100%|██████████| 4/4 [00:03<00:00,  1.18it/s]"
     ]
    },
    {
     "name": "stdout",
     "output_type": "stream",
     "text": [
      "                   all        108      12091      0.876      0.756      0.821        0.5      0.869      0.746       0.81      0.459\n"
     ]
    },
    {
     "name": "stderr",
     "output_type": "stream",
     "text": [
      "\n"
     ]
    },
    {
     "name": "stdout",
     "output_type": "stream",
     "text": [
      "\n",
      "      Epoch    GPU_mem   box_loss   seg_loss   cls_loss   dfl_loss  Instances       Size\n"
     ]
    },
    {
     "name": "stderr",
     "output_type": "stream",
     "text": [
      "     45/125      25.5G      1.198       1.69     0.5417      1.035       2726        640: 100%|██████████| 27/27 [00:23<00:00,  1.16it/s]\n",
      "                 Class     Images  Instances      Box(P          R      mAP50  mAP50-95)     Mask(P          R      mAP50  mAP50-95): 100%|██████████| 4/4 [00:03<00:00,  1.06it/s]"
     ]
    },
    {
     "name": "stdout",
     "output_type": "stream",
     "text": [
      "                   all        108      12091      0.875      0.773      0.831       0.51      0.869       0.76      0.818      0.458\n"
     ]
    },
    {
     "name": "stderr",
     "output_type": "stream",
     "text": [
      "\n"
     ]
    },
    {
     "name": "stdout",
     "output_type": "stream",
     "text": [
      "\n",
      "      Epoch    GPU_mem   box_loss   seg_loss   cls_loss   dfl_loss  Instances       Size\n"
     ]
    },
    {
     "name": "stderr",
     "output_type": "stream",
     "text": [
      "     46/125      23.2G      1.193      1.683     0.5427       1.03       2640        640: 100%|██████████| 27/27 [00:23<00:00,  1.14it/s]\n",
      "                 Class     Images  Instances      Box(P          R      mAP50  mAP50-95)     Mask(P          R      mAP50  mAP50-95): 100%|██████████| 4/4 [00:03<00:00,  1.18it/s]"
     ]
    },
    {
     "name": "stdout",
     "output_type": "stream",
     "text": [
      "                   all        108      12091      0.872      0.765      0.827      0.509       0.86      0.757      0.816      0.463\n"
     ]
    },
    {
     "name": "stderr",
     "output_type": "stream",
     "text": [
      "\n"
     ]
    },
    {
     "name": "stdout",
     "output_type": "stream",
     "text": [
      "\n",
      "      Epoch    GPU_mem   box_loss   seg_loss   cls_loss   dfl_loss  Instances       Size\n"
     ]
    },
    {
     "name": "stderr",
     "output_type": "stream",
     "text": [
      "     47/125      23.6G      1.221      1.719     0.5504      1.031       2968        640: 100%|██████████| 27/27 [00:23<00:00,  1.14it/s]\n",
      "                 Class     Images  Instances      Box(P          R      mAP50  mAP50-95)     Mask(P          R      mAP50  mAP50-95): 100%|██████████| 4/4 [00:03<00:00,  1.22it/s]"
     ]
    },
    {
     "name": "stdout",
     "output_type": "stream",
     "text": [
      "                   all        108      12091      0.865      0.772      0.823      0.513      0.859      0.759       0.81      0.472\n"
     ]
    },
    {
     "name": "stderr",
     "output_type": "stream",
     "text": [
      "\n"
     ]
    },
    {
     "name": "stdout",
     "output_type": "stream",
     "text": [
      "\n",
      "      Epoch    GPU_mem   box_loss   seg_loss   cls_loss   dfl_loss  Instances       Size\n"
     ]
    },
    {
     "name": "stderr",
     "output_type": "stream",
     "text": [
      "     48/125      25.7G       1.23      1.741      0.559       1.05       2575        640: 100%|██████████| 27/27 [00:23<00:00,  1.16it/s]\n",
      "                 Class     Images  Instances      Box(P          R      mAP50  mAP50-95)     Mask(P          R      mAP50  mAP50-95): 100%|██████████| 4/4 [00:03<00:00,  1.21it/s]"
     ]
    },
    {
     "name": "stdout",
     "output_type": "stream",
     "text": [
      "                   all        108      12091      0.875      0.767      0.827      0.518      0.871      0.752      0.815      0.479\n"
     ]
    },
    {
     "name": "stderr",
     "output_type": "stream",
     "text": [
      "\n"
     ]
    },
    {
     "name": "stdout",
     "output_type": "stream",
     "text": [
      "\n",
      "      Epoch    GPU_mem   box_loss   seg_loss   cls_loss   dfl_loss  Instances       Size\n"
     ]
    },
    {
     "name": "stderr",
     "output_type": "stream",
     "text": [
      "     49/125      19.8G      1.226      1.718     0.5484      1.034       3429        640: 100%|██████████| 27/27 [00:24<00:00,  1.12it/s]\n",
      "                 Class     Images  Instances      Box(P          R      mAP50  mAP50-95)     Mask(P          R      mAP50  mAP50-95): 100%|██████████| 4/4 [00:03<00:00,  1.23it/s]"
     ]
    },
    {
     "name": "stdout",
     "output_type": "stream",
     "text": [
      "                   all        108      12091       0.88      0.765      0.834      0.509      0.871      0.755      0.823      0.463\n"
     ]
    },
    {
     "name": "stderr",
     "output_type": "stream",
     "text": [
      "\n"
     ]
    },
    {
     "name": "stdout",
     "output_type": "stream",
     "text": [
      "\n",
      "      Epoch    GPU_mem   box_loss   seg_loss   cls_loss   dfl_loss  Instances       Size\n"
     ]
    },
    {
     "name": "stderr",
     "output_type": "stream",
     "text": [
      "     50/125      21.7G      1.201      1.699     0.5395       1.03       3313        640: 100%|██████████| 27/27 [00:24<00:00,  1.09it/s]\n",
      "                 Class     Images  Instances      Box(P          R      mAP50  mAP50-95)     Mask(P          R      mAP50  mAP50-95): 100%|██████████| 4/4 [00:03<00:00,  1.18it/s]"
     ]
    },
    {
     "name": "stdout",
     "output_type": "stream",
     "text": [
      "                   all        108      12091      0.869      0.778      0.829      0.519      0.869       0.77      0.823      0.475\n"
     ]
    },
    {
     "name": "stderr",
     "output_type": "stream",
     "text": [
      "\n"
     ]
    },
    {
     "name": "stdout",
     "output_type": "stream",
     "text": [
      "\n",
      "      Epoch    GPU_mem   box_loss   seg_loss   cls_loss   dfl_loss  Instances       Size\n"
     ]
    },
    {
     "name": "stderr",
     "output_type": "stream",
     "text": [
      "     51/125      24.9G      1.188      1.684     0.5355      1.023       3066        640: 100%|██████████| 27/27 [00:24<00:00,  1.11it/s]\n",
      "                 Class     Images  Instances      Box(P          R      mAP50  mAP50-95)     Mask(P          R      mAP50  mAP50-95): 100%|██████████| 4/4 [00:03<00:00,  1.22it/s]"
     ]
    },
    {
     "name": "stdout",
     "output_type": "stream",
     "text": [
      "                   all        108      12091      0.873      0.761      0.819      0.494      0.868      0.745      0.804      0.445\n"
     ]
    },
    {
     "name": "stderr",
     "output_type": "stream",
     "text": [
      "\n"
     ]
    },
    {
     "name": "stdout",
     "output_type": "stream",
     "text": [
      "\n",
      "      Epoch    GPU_mem   box_loss   seg_loss   cls_loss   dfl_loss  Instances       Size\n"
     ]
    },
    {
     "name": "stderr",
     "output_type": "stream",
     "text": [
      "     52/125      26.7G      1.197      1.683     0.5351      1.024       3001        640: 100%|██████████| 27/27 [00:23<00:00,  1.15it/s]\n",
      "                 Class     Images  Instances      Box(P          R      mAP50  mAP50-95)     Mask(P          R      mAP50  mAP50-95): 100%|██████████| 4/4 [00:03<00:00,  1.16it/s]"
     ]
    },
    {
     "name": "stdout",
     "output_type": "stream",
     "text": [
      "                   all        108      12091      0.867      0.766      0.827      0.513      0.871      0.751      0.815      0.468\n"
     ]
    },
    {
     "name": "stderr",
     "output_type": "stream",
     "text": [
      "\n"
     ]
    },
    {
     "name": "stdout",
     "output_type": "stream",
     "text": [
      "\n",
      "      Epoch    GPU_mem   box_loss   seg_loss   cls_loss   dfl_loss  Instances       Size\n"
     ]
    },
    {
     "name": "stderr",
     "output_type": "stream",
     "text": [
      "     53/125      21.1G      1.159      1.644     0.5252      1.025       2391        640: 100%|██████████| 27/27 [00:22<00:00,  1.18it/s]\n",
      "                 Class     Images  Instances      Box(P          R      mAP50  mAP50-95)     Mask(P          R      mAP50  mAP50-95): 100%|██████████| 4/4 [00:03<00:00,  1.16it/s]"
     ]
    },
    {
     "name": "stdout",
     "output_type": "stream",
     "text": [
      "                   all        108      12091      0.881      0.755      0.824      0.505      0.872      0.736      0.806      0.454\n"
     ]
    },
    {
     "name": "stderr",
     "output_type": "stream",
     "text": [
      "\n"
     ]
    },
    {
     "name": "stdout",
     "output_type": "stream",
     "text": [
      "\n",
      "      Epoch    GPU_mem   box_loss   seg_loss   cls_loss   dfl_loss  Instances       Size\n"
     ]
    },
    {
     "name": "stderr",
     "output_type": "stream",
     "text": [
      "     54/125        26G      1.179      1.664     0.5308      1.022       2719        640: 100%|██████████| 27/27 [00:23<00:00,  1.14it/s]\n",
      "                 Class     Images  Instances      Box(P          R      mAP50  mAP50-95)     Mask(P          R      mAP50  mAP50-95): 100%|██████████| 4/4 [00:03<00:00,  1.16it/s]"
     ]
    },
    {
     "name": "stdout",
     "output_type": "stream",
     "text": [
      "                   all        108      12091      0.871      0.762       0.82      0.501      0.862      0.741      0.801      0.452\n"
     ]
    },
    {
     "name": "stderr",
     "output_type": "stream",
     "text": [
      "\n"
     ]
    },
    {
     "name": "stdout",
     "output_type": "stream",
     "text": [
      "\n",
      "      Epoch    GPU_mem   box_loss   seg_loss   cls_loss   dfl_loss  Instances       Size\n"
     ]
    },
    {
     "name": "stderr",
     "output_type": "stream",
     "text": [
      "     55/125      23.8G      1.218      1.719     0.5413      1.029       2792        640: 100%|██████████| 27/27 [00:24<00:00,  1.11it/s]\n",
      "                 Class     Images  Instances      Box(P          R      mAP50  mAP50-95)     Mask(P          R      mAP50  mAP50-95): 100%|██████████| 4/4 [00:03<00:00,  1.13it/s]"
     ]
    },
    {
     "name": "stdout",
     "output_type": "stream",
     "text": [
      "                   all        108      12091      0.876      0.772      0.826      0.522       0.88       0.76       0.82      0.483\n"
     ]
    },
    {
     "name": "stderr",
     "output_type": "stream",
     "text": [
      "\n"
     ]
    },
    {
     "name": "stdout",
     "output_type": "stream",
     "text": [
      "\n",
      "      Epoch    GPU_mem   box_loss   seg_loss   cls_loss   dfl_loss  Instances       Size\n"
     ]
    },
    {
     "name": "stderr",
     "output_type": "stream",
     "text": [
      "     56/125      26.5G      1.174       1.66     0.5291      1.028       2583        640: 100%|██████████| 27/27 [00:22<00:00,  1.19it/s]\n",
      "                 Class     Images  Instances      Box(P          R      mAP50  mAP50-95)     Mask(P          R      mAP50  mAP50-95): 100%|██████████| 4/4 [00:03<00:00,  1.14it/s]"
     ]
    },
    {
     "name": "stdout",
     "output_type": "stream",
     "text": [
      "                   all        108      12091      0.874      0.759      0.822      0.512      0.869      0.748      0.811      0.474\n"
     ]
    },
    {
     "name": "stderr",
     "output_type": "stream",
     "text": [
      "\n"
     ]
    },
    {
     "name": "stdout",
     "output_type": "stream",
     "text": [
      "\n",
      "      Epoch    GPU_mem   box_loss   seg_loss   cls_loss   dfl_loss  Instances       Size\n"
     ]
    },
    {
     "name": "stderr",
     "output_type": "stream",
     "text": [
      "     57/125      23.6G      1.204      1.687     0.5357      1.029       2404        640: 100%|██████████| 27/27 [00:23<00:00,  1.14it/s]\n",
      "                 Class     Images  Instances      Box(P          R      mAP50  mAP50-95)     Mask(P          R      mAP50  mAP50-95): 100%|██████████| 4/4 [00:03<00:00,  1.09it/s]"
     ]
    },
    {
     "name": "stdout",
     "output_type": "stream",
     "text": [
      "                   all        108      12091      0.878      0.771      0.832      0.519      0.873      0.758       0.82      0.475\n"
     ]
    },
    {
     "name": "stderr",
     "output_type": "stream",
     "text": [
      "\n"
     ]
    },
    {
     "name": "stdout",
     "output_type": "stream",
     "text": [
      "\n",
      "      Epoch    GPU_mem   box_loss   seg_loss   cls_loss   dfl_loss  Instances       Size\n"
     ]
    },
    {
     "name": "stderr",
     "output_type": "stream",
     "text": [
      "     58/125      21.4G      1.182      1.658     0.5267      1.019       2411        640: 100%|██████████| 27/27 [00:23<00:00,  1.14it/s]\n",
      "                 Class     Images  Instances      Box(P          R      mAP50  mAP50-95)     Mask(P          R      mAP50  mAP50-95): 100%|██████████| 4/4 [00:03<00:00,  1.21it/s]"
     ]
    },
    {
     "name": "stdout",
     "output_type": "stream",
     "text": [
      "                   all        108      12091      0.873       0.77      0.827      0.512      0.868      0.756      0.814      0.464\n"
     ]
    },
    {
     "name": "stderr",
     "output_type": "stream",
     "text": [
      "\n"
     ]
    },
    {
     "name": "stdout",
     "output_type": "stream",
     "text": [
      "\n",
      "      Epoch    GPU_mem   box_loss   seg_loss   cls_loss   dfl_loss  Instances       Size\n"
     ]
    },
    {
     "name": "stderr",
     "output_type": "stream",
     "text": [
      "     59/125      22.9G      1.176      1.663     0.5252      1.017       2112        640: 100%|██████████| 27/27 [00:23<00:00,  1.16it/s]\n",
      "                 Class     Images  Instances      Box(P          R      mAP50  mAP50-95)     Mask(P          R      mAP50  mAP50-95): 100%|██████████| 4/4 [00:03<00:00,  1.20it/s]"
     ]
    },
    {
     "name": "stdout",
     "output_type": "stream",
     "text": [
      "                   all        108      12091      0.873      0.776      0.828      0.521      0.869      0.762      0.818      0.476\n"
     ]
    },
    {
     "name": "stderr",
     "output_type": "stream",
     "text": [
      "\n"
     ]
    },
    {
     "name": "stdout",
     "output_type": "stream",
     "text": [
      "\n",
      "      Epoch    GPU_mem   box_loss   seg_loss   cls_loss   dfl_loss  Instances       Size\n"
     ]
    },
    {
     "name": "stderr",
     "output_type": "stream",
     "text": [
      "     60/125      21.8G      1.196      1.694     0.5339      1.027       3337        640: 100%|██████████| 27/27 [00:23<00:00,  1.15it/s]\n",
      "                 Class     Images  Instances      Box(P          R      mAP50  mAP50-95)     Mask(P          R      mAP50  mAP50-95): 100%|██████████| 4/4 [00:03<00:00,  1.30it/s]"
     ]
    },
    {
     "name": "stdout",
     "output_type": "stream",
     "text": [
      "                   all        108      12091      0.872      0.764      0.821      0.513      0.871      0.752       0.81      0.471\n"
     ]
    },
    {
     "name": "stderr",
     "output_type": "stream",
     "text": [
      "\n"
     ]
    },
    {
     "name": "stdout",
     "output_type": "stream",
     "text": [
      "\n",
      "      Epoch    GPU_mem   box_loss   seg_loss   cls_loss   dfl_loss  Instances       Size\n"
     ]
    },
    {
     "name": "stderr",
     "output_type": "stream",
     "text": [
      "     61/125      23.3G      1.181      1.675     0.5291      1.014       2442        640: 100%|██████████| 27/27 [00:23<00:00,  1.17it/s]\n",
      "                 Class     Images  Instances      Box(P          R      mAP50  mAP50-95)     Mask(P          R      mAP50  mAP50-95): 100%|██████████| 4/4 [00:03<00:00,  1.26it/s]"
     ]
    },
    {
     "name": "stdout",
     "output_type": "stream",
     "text": [
      "                   all        108      12091      0.866      0.776      0.829      0.507      0.866      0.758      0.818      0.469\n"
     ]
    },
    {
     "name": "stderr",
     "output_type": "stream",
     "text": [
      "\n"
     ]
    },
    {
     "name": "stdout",
     "output_type": "stream",
     "text": [
      "\n",
      "      Epoch    GPU_mem   box_loss   seg_loss   cls_loss   dfl_loss  Instances       Size\n"
     ]
    },
    {
     "name": "stderr",
     "output_type": "stream",
     "text": [
      "     62/125      23.8G      1.184      1.662     0.5307      1.019       3336        640: 100%|██████████| 27/27 [00:23<00:00,  1.13it/s]\n",
      "                 Class     Images  Instances      Box(P          R      mAP50  mAP50-95)     Mask(P          R      mAP50  mAP50-95): 100%|██████████| 4/4 [00:03<00:00,  1.22it/s]"
     ]
    },
    {
     "name": "stdout",
     "output_type": "stream",
     "text": [
      "                   all        108      12091      0.879      0.765      0.828      0.505      0.874      0.753      0.816      0.461\n"
     ]
    },
    {
     "name": "stderr",
     "output_type": "stream",
     "text": [
      "\n"
     ]
    },
    {
     "name": "stdout",
     "output_type": "stream",
     "text": [
      "\n",
      "      Epoch    GPU_mem   box_loss   seg_loss   cls_loss   dfl_loss  Instances       Size\n"
     ]
    },
    {
     "name": "stderr",
     "output_type": "stream",
     "text": [
      "     63/125      24.2G      1.152      1.629     0.5176      1.014       2469        640: 100%|██████████| 27/27 [00:23<00:00,  1.16it/s]\n",
      "                 Class     Images  Instances      Box(P          R      mAP50  mAP50-95)     Mask(P          R      mAP50  mAP50-95): 100%|██████████| 4/4 [00:03<00:00,  1.18it/s]"
     ]
    },
    {
     "name": "stdout",
     "output_type": "stream",
     "text": [
      "                   all        108      12091       0.88      0.758      0.816      0.504      0.871      0.746      0.803      0.462\n"
     ]
    },
    {
     "name": "stderr",
     "output_type": "stream",
     "text": [
      "\n"
     ]
    },
    {
     "name": "stdout",
     "output_type": "stream",
     "text": [
      "\n",
      "      Epoch    GPU_mem   box_loss   seg_loss   cls_loss   dfl_loss  Instances       Size\n"
     ]
    },
    {
     "name": "stderr",
     "output_type": "stream",
     "text": [
      "     64/125      24.5G      1.169      1.658     0.5214      1.015       3509        640: 100%|██████████| 27/27 [00:24<00:00,  1.12it/s]\n",
      "                 Class     Images  Instances      Box(P          R      mAP50  mAP50-95)     Mask(P          R      mAP50  mAP50-95): 100%|██████████| 4/4 [00:03<00:00,  1.29it/s]"
     ]
    },
    {
     "name": "stdout",
     "output_type": "stream",
     "text": [
      "                   all        108      12091      0.874       0.76      0.821      0.501      0.869      0.741      0.806      0.458\n"
     ]
    },
    {
     "name": "stderr",
     "output_type": "stream",
     "text": [
      "\n"
     ]
    },
    {
     "name": "stdout",
     "output_type": "stream",
     "text": [
      "\n",
      "      Epoch    GPU_mem   box_loss   seg_loss   cls_loss   dfl_loss  Instances       Size\n"
     ]
    },
    {
     "name": "stderr",
     "output_type": "stream",
     "text": [
      "     65/125      26.3G      1.159      1.643     0.5162      1.015       2947        640: 100%|██████████| 27/27 [00:22<00:00,  1.18it/s]\n",
      "                 Class     Images  Instances      Box(P          R      mAP50  mAP50-95)     Mask(P          R      mAP50  mAP50-95): 100%|██████████| 4/4 [00:03<00:00,  1.23it/s]"
     ]
    },
    {
     "name": "stdout",
     "output_type": "stream",
     "text": [
      "                   all        108      12091       0.88      0.767      0.828      0.509      0.875      0.752      0.815      0.461\n"
     ]
    },
    {
     "name": "stderr",
     "output_type": "stream",
     "text": [
      "\n"
     ]
    },
    {
     "name": "stdout",
     "output_type": "stream",
     "text": [
      "\n",
      "      Epoch    GPU_mem   box_loss   seg_loss   cls_loss   dfl_loss  Instances       Size\n"
     ]
    },
    {
     "name": "stderr",
     "output_type": "stream",
     "text": [
      "     66/125      23.3G      1.152      1.614     0.5116       1.01       3103        640: 100%|██████████| 27/27 [00:23<00:00,  1.16it/s]\n",
      "                 Class     Images  Instances      Box(P          R      mAP50  mAP50-95)     Mask(P          R      mAP50  mAP50-95): 100%|██████████| 4/4 [00:03<00:00,  1.23it/s]"
     ]
    },
    {
     "name": "stdout",
     "output_type": "stream",
     "text": [
      "                   all        108      12091      0.875      0.774      0.827      0.506      0.871      0.767      0.817      0.457\n"
     ]
    },
    {
     "name": "stderr",
     "output_type": "stream",
     "text": [
      "\n"
     ]
    },
    {
     "name": "stdout",
     "output_type": "stream",
     "text": [
      "\n",
      "      Epoch    GPU_mem   box_loss   seg_loss   cls_loss   dfl_loss  Instances       Size\n"
     ]
    },
    {
     "name": "stderr",
     "output_type": "stream",
     "text": [
      "     67/125      21.3G      1.151      1.653     0.5124      1.009       3142        640: 100%|██████████| 27/27 [00:23<00:00,  1.15it/s]\n",
      "                 Class     Images  Instances      Box(P          R      mAP50  mAP50-95)     Mask(P          R      mAP50  mAP50-95): 100%|██████████| 4/4 [00:03<00:00,  1.23it/s]"
     ]
    },
    {
     "name": "stdout",
     "output_type": "stream",
     "text": [
      "                   all        108      12091      0.871      0.777      0.834      0.512      0.863      0.763       0.82      0.462\n"
     ]
    },
    {
     "name": "stderr",
     "output_type": "stream",
     "text": [
      "\n"
     ]
    },
    {
     "name": "stdout",
     "output_type": "stream",
     "text": [
      "\n",
      "      Epoch    GPU_mem   box_loss   seg_loss   cls_loss   dfl_loss  Instances       Size\n"
     ]
    },
    {
     "name": "stderr",
     "output_type": "stream",
     "text": [
      "     68/125      24.9G      1.173      1.669     0.5143      1.007       3526        640: 100%|██████████| 27/27 [00:24<00:00,  1.12it/s]\n",
      "                 Class     Images  Instances      Box(P          R      mAP50  mAP50-95)     Mask(P          R      mAP50  mAP50-95): 100%|██████████| 4/4 [00:03<00:00,  1.29it/s]"
     ]
    },
    {
     "name": "stdout",
     "output_type": "stream",
     "text": [
      "                   all        108      12091      0.873      0.776       0.83      0.505      0.869      0.761      0.816      0.456\n"
     ]
    },
    {
     "name": "stderr",
     "output_type": "stream",
     "text": [
      "\n"
     ]
    },
    {
     "name": "stdout",
     "output_type": "stream",
     "text": [
      "\n",
      "      Epoch    GPU_mem   box_loss   seg_loss   cls_loss   dfl_loss  Instances       Size\n"
     ]
    },
    {
     "name": "stderr",
     "output_type": "stream",
     "text": [
      "     69/125      20.3G      1.165      1.635     0.5134       1.02       3013        640: 100%|██████████| 27/27 [00:23<00:00,  1.14it/s]\n",
      "                 Class     Images  Instances      Box(P          R      mAP50  mAP50-95)     Mask(P          R      mAP50  mAP50-95): 100%|██████████| 4/4 [00:03<00:00,  1.24it/s]"
     ]
    },
    {
     "name": "stdout",
     "output_type": "stream",
     "text": [
      "                   all        108      12091      0.878      0.774      0.833      0.518      0.874      0.762      0.822      0.473\n"
     ]
    },
    {
     "name": "stderr",
     "output_type": "stream",
     "text": [
      "\n"
     ]
    },
    {
     "name": "stdout",
     "output_type": "stream",
     "text": [
      "\n",
      "      Epoch    GPU_mem   box_loss   seg_loss   cls_loss   dfl_loss  Instances       Size\n"
     ]
    },
    {
     "name": "stderr",
     "output_type": "stream",
     "text": [
      "     70/125      18.1G      1.133      1.603     0.5007      1.007       3136        640: 100%|██████████| 27/27 [00:23<00:00,  1.14it/s]\n",
      "                 Class     Images  Instances      Box(P          R      mAP50  mAP50-95)     Mask(P          R      mAP50  mAP50-95): 100%|██████████| 4/4 [00:03<00:00,  1.24it/s]"
     ]
    },
    {
     "name": "stdout",
     "output_type": "stream",
     "text": [
      "                   all        108      12091      0.866       0.78       0.83      0.517      0.864      0.766      0.819      0.471\n"
     ]
    },
    {
     "name": "stderr",
     "output_type": "stream",
     "text": [
      "\n"
     ]
    },
    {
     "name": "stdout",
     "output_type": "stream",
     "text": [
      "\n",
      "      Epoch    GPU_mem   box_loss   seg_loss   cls_loss   dfl_loss  Instances       Size\n"
     ]
    },
    {
     "name": "stderr",
     "output_type": "stream",
     "text": [
      "     71/125        27G      1.156      1.629     0.5066      1.005       5120        640: 100%|██████████| 27/27 [00:23<00:00,  1.14it/s]\n",
      "                 Class     Images  Instances      Box(P          R      mAP50  mAP50-95)     Mask(P          R      mAP50  mAP50-95): 100%|██████████| 4/4 [00:03<00:00,  1.20it/s]"
     ]
    },
    {
     "name": "stdout",
     "output_type": "stream",
     "text": [
      "                   all        108      12091      0.873      0.773      0.828      0.515      0.872      0.755      0.817      0.471\n"
     ]
    },
    {
     "name": "stderr",
     "output_type": "stream",
     "text": [
      "\n"
     ]
    },
    {
     "name": "stdout",
     "output_type": "stream",
     "text": [
      "\n",
      "      Epoch    GPU_mem   box_loss   seg_loss   cls_loss   dfl_loss  Instances       Size\n"
     ]
    },
    {
     "name": "stderr",
     "output_type": "stream",
     "text": [
      "     72/125      27.6G      1.158      1.633     0.5082      1.005       3001        640: 100%|██████████| 27/27 [00:23<00:00,  1.16it/s]\n",
      "                 Class     Images  Instances      Box(P          R      mAP50  mAP50-95)     Mask(P          R      mAP50  mAP50-95): 100%|██████████| 4/4 [00:03<00:00,  1.09it/s]"
     ]
    },
    {
     "name": "stdout",
     "output_type": "stream",
     "text": [
      "                   all        108      12091      0.877      0.773      0.825      0.499      0.872      0.757      0.811      0.453\n"
     ]
    },
    {
     "name": "stderr",
     "output_type": "stream",
     "text": [
      "\n"
     ]
    },
    {
     "name": "stdout",
     "output_type": "stream",
     "text": [
      "\n",
      "      Epoch    GPU_mem   box_loss   seg_loss   cls_loss   dfl_loss  Instances       Size\n"
     ]
    },
    {
     "name": "stderr",
     "output_type": "stream",
     "text": [
      "     73/125      24.1G       1.12      1.581     0.4999     0.9977       2922        640: 100%|██████████| 27/27 [00:24<00:00,  1.12it/s]\n",
      "                 Class     Images  Instances      Box(P          R      mAP50  mAP50-95)     Mask(P          R      mAP50  mAP50-95): 100%|██████████| 4/4 [00:03<00:00,  1.17it/s]"
     ]
    },
    {
     "name": "stdout",
     "output_type": "stream",
     "text": [
      "                   all        108      12091      0.873      0.769      0.825      0.508      0.878       0.75      0.814      0.468\n"
     ]
    },
    {
     "name": "stderr",
     "output_type": "stream",
     "text": [
      "\n"
     ]
    },
    {
     "name": "stdout",
     "output_type": "stream",
     "text": [
      "\n",
      "      Epoch    GPU_mem   box_loss   seg_loss   cls_loss   dfl_loss  Instances       Size\n"
     ]
    },
    {
     "name": "stderr",
     "output_type": "stream",
     "text": [
      "     74/125      20.9G      1.157      1.639     0.5126      1.008       2987        640: 100%|██████████| 27/27 [00:22<00:00,  1.18it/s]\n",
      "                 Class     Images  Instances      Box(P          R      mAP50  mAP50-95)     Mask(P          R      mAP50  mAP50-95): 100%|██████████| 4/4 [00:03<00:00,  1.17it/s]"
     ]
    },
    {
     "name": "stdout",
     "output_type": "stream",
     "text": [
      "                   all        108      12091      0.879      0.765      0.829      0.507      0.872       0.75      0.813      0.461\n"
     ]
    },
    {
     "name": "stderr",
     "output_type": "stream",
     "text": [
      "\n"
     ]
    },
    {
     "name": "stdout",
     "output_type": "stream",
     "text": [
      "\n",
      "      Epoch    GPU_mem   box_loss   seg_loss   cls_loss   dfl_loss  Instances       Size\n"
     ]
    },
    {
     "name": "stderr",
     "output_type": "stream",
     "text": [
      "     75/125      20.5G       1.15      1.625     0.5095      1.006       3085        640: 100%|██████████| 27/27 [00:22<00:00,  1.17it/s]\n",
      "                 Class     Images  Instances      Box(P          R      mAP50  mAP50-95)     Mask(P          R      mAP50  mAP50-95): 100%|██████████| 4/4 [00:03<00:00,  1.17it/s]"
     ]
    },
    {
     "name": "stdout",
     "output_type": "stream",
     "text": [
      "                   all        108      12091      0.881      0.765      0.828      0.511      0.879       0.75      0.819      0.465\n"
     ]
    },
    {
     "name": "stderr",
     "output_type": "stream",
     "text": [
      "\n"
     ]
    },
    {
     "name": "stdout",
     "output_type": "stream",
     "text": [
      "\n",
      "      Epoch    GPU_mem   box_loss   seg_loss   cls_loss   dfl_loss  Instances       Size\n"
     ]
    },
    {
     "name": "stderr",
     "output_type": "stream",
     "text": [
      "     76/125      19.8G       1.16      1.643     0.5106      1.008       2496        640: 100%|██████████| 27/27 [00:23<00:00,  1.15it/s]\n",
      "                 Class     Images  Instances      Box(P          R      mAP50  mAP50-95)     Mask(P          R      mAP50  mAP50-95): 100%|██████████| 4/4 [00:03<00:00,  1.21it/s]"
     ]
    },
    {
     "name": "stdout",
     "output_type": "stream",
     "text": [
      "                   all        108      12091      0.869      0.776      0.829      0.498      0.868      0.757      0.815       0.45\n"
     ]
    },
    {
     "name": "stderr",
     "output_type": "stream",
     "text": [
      "\n"
     ]
    },
    {
     "name": "stdout",
     "output_type": "stream",
     "text": [
      "\n",
      "      Epoch    GPU_mem   box_loss   seg_loss   cls_loss   dfl_loss  Instances       Size\n"
     ]
    },
    {
     "name": "stderr",
     "output_type": "stream",
     "text": [
      "     77/125      21.5G      1.139      1.626     0.5064      1.004       2596        640: 100%|██████████| 27/27 [00:23<00:00,  1.17it/s]\n",
      "                 Class     Images  Instances      Box(P          R      mAP50  mAP50-95)     Mask(P          R      mAP50  mAP50-95): 100%|██████████| 4/4 [00:03<00:00,  1.21it/s]"
     ]
    },
    {
     "name": "stdout",
     "output_type": "stream",
     "text": [
      "                   all        108      12091      0.871      0.772      0.824      0.502      0.865      0.759      0.809      0.458\n"
     ]
    },
    {
     "name": "stderr",
     "output_type": "stream",
     "text": [
      "\n"
     ]
    },
    {
     "name": "stdout",
     "output_type": "stream",
     "text": [
      "\n",
      "      Epoch    GPU_mem   box_loss   seg_loss   cls_loss   dfl_loss  Instances       Size\n"
     ]
    },
    {
     "name": "stderr",
     "output_type": "stream",
     "text": [
      "     78/125      20.2G       1.13      1.612     0.4992      1.002       3196        640: 100%|██████████| 27/27 [00:23<00:00,  1.15it/s]\n",
      "                 Class     Images  Instances      Box(P          R      mAP50  mAP50-95)     Mask(P          R      mAP50  mAP50-95): 100%|██████████| 4/4 [00:03<00:00,  1.15it/s]"
     ]
    },
    {
     "name": "stdout",
     "output_type": "stream",
     "text": [
      "                   all        108      12091      0.872      0.774      0.828      0.511      0.873      0.755      0.815       0.47\n"
     ]
    },
    {
     "name": "stderr",
     "output_type": "stream",
     "text": [
      "\n"
     ]
    },
    {
     "name": "stdout",
     "output_type": "stream",
     "text": [
      "\n",
      "      Epoch    GPU_mem   box_loss   seg_loss   cls_loss   dfl_loss  Instances       Size\n"
     ]
    },
    {
     "name": "stderr",
     "output_type": "stream",
     "text": [
      "     79/125      17.7G       1.12      1.588     0.4942      0.998       3070        640: 100%|██████████| 27/27 [00:23<00:00,  1.15it/s]\n",
      "                 Class     Images  Instances      Box(P          R      mAP50  mAP50-95)     Mask(P          R      mAP50  mAP50-95): 100%|██████████| 4/4 [00:03<00:00,  1.13it/s]"
     ]
    },
    {
     "name": "stdout",
     "output_type": "stream",
     "text": [
      "                   all        108      12091      0.872      0.769      0.822      0.503      0.871      0.751       0.81      0.461\n"
     ]
    },
    {
     "name": "stderr",
     "output_type": "stream",
     "text": [
      "\n"
     ]
    },
    {
     "name": "stdout",
     "output_type": "stream",
     "text": [
      "\n",
      "      Epoch    GPU_mem   box_loss   seg_loss   cls_loss   dfl_loss  Instances       Size\n"
     ]
    },
    {
     "name": "stderr",
     "output_type": "stream",
     "text": [
      "     80/125      20.3G      1.122      1.578     0.4944     0.9923       2256        640: 100%|██████████| 27/27 [00:24<00:00,  1.12it/s]\n",
      "                 Class     Images  Instances      Box(P          R      mAP50  mAP50-95)     Mask(P          R      mAP50  mAP50-95): 100%|██████████| 4/4 [00:03<00:00,  1.23it/s]"
     ]
    },
    {
     "name": "stdout",
     "output_type": "stream",
     "text": [
      "                   all        108      12091      0.882      0.763       0.83      0.518      0.875      0.748      0.816      0.469\n"
     ]
    },
    {
     "name": "stderr",
     "output_type": "stream",
     "text": [
      "\n"
     ]
    },
    {
     "name": "stdout",
     "output_type": "stream",
     "text": [
      "\n",
      "      Epoch    GPU_mem   box_loss   seg_loss   cls_loss   dfl_loss  Instances       Size\n"
     ]
    },
    {
     "name": "stderr",
     "output_type": "stream",
     "text": [
      "     81/125      29.4G      1.144      1.612     0.5021     0.9974       3802        640: 100%|██████████| 27/27 [00:24<00:00,  1.11it/s]\n",
      "                 Class     Images  Instances      Box(P          R      mAP50  mAP50-95)     Mask(P          R      mAP50  mAP50-95): 100%|██████████| 4/4 [00:03<00:00,  1.17it/s]"
     ]
    },
    {
     "name": "stdout",
     "output_type": "stream",
     "text": [
      "                   all        108      12091      0.879      0.769       0.83      0.508      0.873      0.747      0.809      0.457\n"
     ]
    },
    {
     "name": "stderr",
     "output_type": "stream",
     "text": [
      "\n"
     ]
    },
    {
     "name": "stdout",
     "output_type": "stream",
     "text": [
      "\n",
      "      Epoch    GPU_mem   box_loss   seg_loss   cls_loss   dfl_loss  Instances       Size\n"
     ]
    },
    {
     "name": "stderr",
     "output_type": "stream",
     "text": [
      "     82/125      25.2G      1.117      1.578     0.4919      1.001       2933        640: 100%|██████████| 27/27 [00:23<00:00,  1.13it/s]\n",
      "                 Class     Images  Instances      Box(P          R      mAP50  mAP50-95)     Mask(P          R      mAP50  mAP50-95): 100%|██████████| 4/4 [00:03<00:00,  1.21it/s]"
     ]
    },
    {
     "name": "stdout",
     "output_type": "stream",
     "text": [
      "                   all        108      12091      0.881      0.769      0.826      0.502      0.871      0.752       0.81      0.455\n"
     ]
    },
    {
     "name": "stderr",
     "output_type": "stream",
     "text": [
      "\n"
     ]
    },
    {
     "name": "stdout",
     "output_type": "stream",
     "text": [
      "\n",
      "      Epoch    GPU_mem   box_loss   seg_loss   cls_loss   dfl_loss  Instances       Size\n"
     ]
    },
    {
     "name": "stderr",
     "output_type": "stream",
     "text": [
      "     83/125      24.2G      1.135      1.599     0.4937     0.9987       3899        640: 100%|██████████| 27/27 [00:23<00:00,  1.13it/s]\n",
      "                 Class     Images  Instances      Box(P          R      mAP50  mAP50-95)     Mask(P          R      mAP50  mAP50-95): 100%|██████████| 4/4 [00:03<00:00,  1.09it/s]"
     ]
    },
    {
     "name": "stdout",
     "output_type": "stream",
     "text": [
      "                   all        108      12091      0.878      0.771      0.831      0.504      0.871      0.758      0.818      0.458\n"
     ]
    },
    {
     "name": "stderr",
     "output_type": "stream",
     "text": [
      "\n"
     ]
    },
    {
     "name": "stdout",
     "output_type": "stream",
     "text": [
      "\n",
      "      Epoch    GPU_mem   box_loss   seg_loss   cls_loss   dfl_loss  Instances       Size\n"
     ]
    },
    {
     "name": "stderr",
     "output_type": "stream",
     "text": [
      "     84/125      23.4G      1.119      1.575     0.4886     0.9974       2836        640: 100%|██████████| 27/27 [00:23<00:00,  1.13it/s]\n",
      "                 Class     Images  Instances      Box(P          R      mAP50  mAP50-95)     Mask(P          R      mAP50  mAP50-95): 100%|██████████| 4/4 [00:03<00:00,  1.16it/s]"
     ]
    },
    {
     "name": "stdout",
     "output_type": "stream",
     "text": [
      "                   all        108      12091      0.884      0.767      0.832      0.516      0.875      0.753       0.82       0.47\n"
     ]
    },
    {
     "name": "stderr",
     "output_type": "stream",
     "text": [
      "\n"
     ]
    },
    {
     "name": "stdout",
     "output_type": "stream",
     "text": [
      "\n",
      "      Epoch    GPU_mem   box_loss   seg_loss   cls_loss   dfl_loss  Instances       Size\n"
     ]
    },
    {
     "name": "stderr",
     "output_type": "stream",
     "text": [
      "     85/125      27.1G      1.119      1.579     0.4899     0.9869       2514        640: 100%|██████████| 27/27 [00:23<00:00,  1.13it/s]\n",
      "                 Class     Images  Instances      Box(P          R      mAP50  mAP50-95)     Mask(P          R      mAP50  mAP50-95): 100%|██████████| 4/4 [00:03<00:00,  1.25it/s]"
     ]
    },
    {
     "name": "stdout",
     "output_type": "stream",
     "text": [
      "                   all        108      12091      0.875      0.774      0.831      0.522      0.866      0.758      0.818      0.479\n"
     ]
    },
    {
     "name": "stderr",
     "output_type": "stream",
     "text": [
      "\n"
     ]
    },
    {
     "name": "stdout",
     "output_type": "stream",
     "text": [
      "\n",
      "      Epoch    GPU_mem   box_loss   seg_loss   cls_loss   dfl_loss  Instances       Size\n"
     ]
    },
    {
     "name": "stderr",
     "output_type": "stream",
     "text": [
      "     86/125      26.7G       1.14      1.623     0.5001      0.993       3931        640: 100%|██████████| 27/27 [00:24<00:00,  1.11it/s]\n",
      "                 Class     Images  Instances      Box(P          R      mAP50  mAP50-95)     Mask(P          R      mAP50  mAP50-95): 100%|██████████| 4/4 [00:03<00:00,  1.24it/s]"
     ]
    },
    {
     "name": "stdout",
     "output_type": "stream",
     "text": [
      "                   all        108      12091      0.876      0.768      0.832      0.517      0.873      0.746      0.816      0.471\n"
     ]
    },
    {
     "name": "stderr",
     "output_type": "stream",
     "text": [
      "\n"
     ]
    },
    {
     "name": "stdout",
     "output_type": "stream",
     "text": [
      "\n",
      "      Epoch    GPU_mem   box_loss   seg_loss   cls_loss   dfl_loss  Instances       Size\n"
     ]
    },
    {
     "name": "stderr",
     "output_type": "stream",
     "text": [
      "     87/125      19.1G      1.128      1.594     0.4949     0.9899       4013        640: 100%|██████████| 27/27 [00:23<00:00,  1.16it/s]\n",
      "                 Class     Images  Instances      Box(P          R      mAP50  mAP50-95)     Mask(P          R      mAP50  mAP50-95): 100%|██████████| 4/4 [00:03<00:00,  1.19it/s]"
     ]
    },
    {
     "name": "stdout",
     "output_type": "stream",
     "text": [
      "                   all        108      12091      0.879      0.772       0.83      0.522      0.874       0.76      0.819      0.481\n"
     ]
    },
    {
     "name": "stderr",
     "output_type": "stream",
     "text": [
      "\n"
     ]
    },
    {
     "name": "stdout",
     "output_type": "stream",
     "text": [
      "\n",
      "      Epoch    GPU_mem   box_loss   seg_loss   cls_loss   dfl_loss  Instances       Size\n"
     ]
    },
    {
     "name": "stderr",
     "output_type": "stream",
     "text": [
      "     88/125      25.4G      1.114      1.567     0.4849     0.9883       4200        640: 100%|██████████| 27/27 [00:23<00:00,  1.15it/s]\n",
      "                 Class     Images  Instances      Box(P          R      mAP50  mAP50-95)     Mask(P          R      mAP50  mAP50-95): 100%|██████████| 4/4 [00:03<00:00,  1.24it/s]"
     ]
    },
    {
     "name": "stdout",
     "output_type": "stream",
     "text": [
      "                   all        108      12091      0.877      0.773      0.832      0.514      0.874      0.761      0.823      0.472\n"
     ]
    },
    {
     "name": "stderr",
     "output_type": "stream",
     "text": [
      "\n"
     ]
    },
    {
     "name": "stdout",
     "output_type": "stream",
     "text": [
      "\n",
      "      Epoch    GPU_mem   box_loss   seg_loss   cls_loss   dfl_loss  Instances       Size\n"
     ]
    },
    {
     "name": "stderr",
     "output_type": "stream",
     "text": [
      "     89/125      23.3G      1.104      1.577      0.483      0.994       2251        640: 100%|██████████| 27/27 [00:23<00:00,  1.13it/s]\n",
      "                 Class     Images  Instances      Box(P          R      mAP50  mAP50-95)     Mask(P          R      mAP50  mAP50-95): 100%|██████████| 4/4 [00:03<00:00,  1.22it/s]"
     ]
    },
    {
     "name": "stdout",
     "output_type": "stream",
     "text": [
      "                   all        108      12091      0.872      0.772      0.826      0.503      0.871      0.751       0.81      0.453\n"
     ]
    },
    {
     "name": "stderr",
     "output_type": "stream",
     "text": [
      "\n"
     ]
    },
    {
     "name": "stdout",
     "output_type": "stream",
     "text": [
      "\n",
      "      Epoch    GPU_mem   box_loss   seg_loss   cls_loss   dfl_loss  Instances       Size\n"
     ]
    },
    {
     "name": "stderr",
     "output_type": "stream",
     "text": [
      "     90/125      27.5G      1.099      1.552     0.4828      0.987       3148        640: 100%|██████████| 27/27 [00:23<00:00,  1.14it/s]\n",
      "                 Class     Images  Instances      Box(P          R      mAP50  mAP50-95)     Mask(P          R      mAP50  mAP50-95): 100%|██████████| 4/4 [00:03<00:00,  1.23it/s]"
     ]
    },
    {
     "name": "stdout",
     "output_type": "stream",
     "text": [
      "                   all        108      12091      0.876       0.77      0.826      0.522      0.874      0.756      0.813      0.479\n"
     ]
    },
    {
     "name": "stderr",
     "output_type": "stream",
     "text": [
      "\n"
     ]
    },
    {
     "name": "stdout",
     "output_type": "stream",
     "text": [
      "\n",
      "      Epoch    GPU_mem   box_loss   seg_loss   cls_loss   dfl_loss  Instances       Size\n"
     ]
    },
    {
     "name": "stderr",
     "output_type": "stream",
     "text": [
      "     91/125      23.3G      1.111      1.552     0.4815     0.9919       3359        640: 100%|██████████| 27/27 [00:23<00:00,  1.16it/s]\n",
      "                 Class     Images  Instances      Box(P          R      mAP50  mAP50-95)     Mask(P          R      mAP50  mAP50-95): 100%|██████████| 4/4 [00:03<00:00,  1.19it/s]"
     ]
    },
    {
     "name": "stdout",
     "output_type": "stream",
     "text": [
      "                   all        108      12091      0.875      0.772      0.825      0.512      0.873      0.758      0.813      0.466\n"
     ]
    },
    {
     "name": "stderr",
     "output_type": "stream",
     "text": [
      "\n"
     ]
    },
    {
     "name": "stdout",
     "output_type": "stream",
     "text": [
      "\n",
      "      Epoch    GPU_mem   box_loss   seg_loss   cls_loss   dfl_loss  Instances       Size\n"
     ]
    },
    {
     "name": "stderr",
     "output_type": "stream",
     "text": [
      "     92/125      21.8G      1.095       1.54     0.4831     0.9875       2804        640: 100%|██████████| 27/27 [00:23<00:00,  1.14it/s]\n",
      "                 Class     Images  Instances      Box(P          R      mAP50  mAP50-95)     Mask(P          R      mAP50  mAP50-95): 100%|██████████| 4/4 [00:03<00:00,  1.23it/s]"
     ]
    },
    {
     "name": "stdout",
     "output_type": "stream",
     "text": [
      "                   all        108      12091      0.874      0.771      0.832      0.522      0.876      0.757      0.821      0.478\n"
     ]
    },
    {
     "name": "stderr",
     "output_type": "stream",
     "text": [
      "\n"
     ]
    },
    {
     "name": "stdout",
     "output_type": "stream",
     "text": [
      "\n",
      "      Epoch    GPU_mem   box_loss   seg_loss   cls_loss   dfl_loss  Instances       Size\n"
     ]
    },
    {
     "name": "stderr",
     "output_type": "stream",
     "text": [
      "     93/125      24.8G      1.104       1.56      0.483     0.9882       2381        640: 100%|██████████| 27/27 [00:23<00:00,  1.14it/s]\n",
      "                 Class     Images  Instances      Box(P          R      mAP50  mAP50-95)     Mask(P          R      mAP50  mAP50-95): 100%|██████████| 4/4 [00:03<00:00,  1.17it/s]"
     ]
    },
    {
     "name": "stdout",
     "output_type": "stream",
     "text": [
      "                   all        108      12091      0.878      0.776       0.83      0.507      0.874      0.759      0.815      0.459\n"
     ]
    },
    {
     "name": "stderr",
     "output_type": "stream",
     "text": [
      "\n"
     ]
    },
    {
     "name": "stdout",
     "output_type": "stream",
     "text": [
      "\n",
      "      Epoch    GPU_mem   box_loss   seg_loss   cls_loss   dfl_loss  Instances       Size\n"
     ]
    },
    {
     "name": "stderr",
     "output_type": "stream",
     "text": [
      "     94/125      26.6G       1.11      1.565     0.4833     0.9791       3329        640: 100%|██████████| 27/27 [00:23<00:00,  1.15it/s]\n",
      "                 Class     Images  Instances      Box(P          R      mAP50  mAP50-95)     Mask(P          R      mAP50  mAP50-95): 100%|██████████| 4/4 [00:03<00:00,  1.22it/s]"
     ]
    },
    {
     "name": "stdout",
     "output_type": "stream",
     "text": [
      "                   all        108      12091      0.879      0.774      0.833      0.518      0.876      0.758       0.82      0.474\n"
     ]
    },
    {
     "name": "stderr",
     "output_type": "stream",
     "text": [
      "\n"
     ]
    },
    {
     "name": "stdout",
     "output_type": "stream",
     "text": [
      "\n",
      "      Epoch    GPU_mem   box_loss   seg_loss   cls_loss   dfl_loss  Instances       Size\n"
     ]
    },
    {
     "name": "stderr",
     "output_type": "stream",
     "text": [
      "     95/125      24.2G      1.129      1.595     0.4923     0.9897       3395        640: 100%|██████████| 27/27 [00:24<00:00,  1.12it/s]\n",
      "                 Class     Images  Instances      Box(P          R      mAP50  mAP50-95)     Mask(P          R      mAP50  mAP50-95): 100%|██████████| 4/4 [00:03<00:00,  1.21it/s]"
     ]
    },
    {
     "name": "stdout",
     "output_type": "stream",
     "text": [
      "                   all        108      12091      0.883      0.766      0.832      0.519      0.877      0.758      0.822      0.477\n"
     ]
    },
    {
     "name": "stderr",
     "output_type": "stream",
     "text": [
      "\n"
     ]
    },
    {
     "name": "stdout",
     "output_type": "stream",
     "text": [
      "\n",
      "      Epoch    GPU_mem   box_loss   seg_loss   cls_loss   dfl_loss  Instances       Size\n"
     ]
    },
    {
     "name": "stderr",
     "output_type": "stream",
     "text": [
      "     96/125      20.4G      1.102      1.555     0.4828     0.9792       2878        640: 100%|██████████| 27/27 [00:24<00:00,  1.11it/s]\n",
      "                 Class     Images  Instances      Box(P          R      mAP50  mAP50-95)     Mask(P          R      mAP50  mAP50-95): 100%|██████████| 4/4 [00:03<00:00,  1.19it/s]"
     ]
    },
    {
     "name": "stdout",
     "output_type": "stream",
     "text": [
      "                   all        108      12091      0.878       0.77      0.828      0.512      0.875      0.758      0.816      0.466\n"
     ]
    },
    {
     "name": "stderr",
     "output_type": "stream",
     "text": [
      "\n"
     ]
    },
    {
     "name": "stdout",
     "output_type": "stream",
     "text": [
      "\n",
      "      Epoch    GPU_mem   box_loss   seg_loss   cls_loss   dfl_loss  Instances       Size\n"
     ]
    },
    {
     "name": "stderr",
     "output_type": "stream",
     "text": [
      "     97/125      20.7G      1.094      1.549      0.481     0.9875       2243        640: 100%|██████████| 27/27 [00:23<00:00,  1.15it/s]\n",
      "                 Class     Images  Instances      Box(P          R      mAP50  mAP50-95)     Mask(P          R      mAP50  mAP50-95): 100%|██████████| 4/4 [00:03<00:00,  1.27it/s]"
     ]
    },
    {
     "name": "stdout",
     "output_type": "stream",
     "text": [
      "                   all        108      12091      0.872      0.771      0.827      0.514      0.869      0.761      0.817      0.475\n"
     ]
    },
    {
     "name": "stderr",
     "output_type": "stream",
     "text": [
      "\n"
     ]
    },
    {
     "name": "stdout",
     "output_type": "stream",
     "text": [
      "\n",
      "      Epoch    GPU_mem   box_loss   seg_loss   cls_loss   dfl_loss  Instances       Size\n"
     ]
    },
    {
     "name": "stderr",
     "output_type": "stream",
     "text": [
      "     98/125      24.8G      1.084      1.528     0.4754     0.9862       2542        640: 100%|██████████| 27/27 [00:22<00:00,  1.20it/s]\n",
      "                 Class     Images  Instances      Box(P          R      mAP50  mAP50-95)     Mask(P          R      mAP50  mAP50-95): 100%|██████████| 4/4 [00:03<00:00,  1.19it/s]"
     ]
    },
    {
     "name": "stdout",
     "output_type": "stream",
     "text": [
      "                   all        108      12091      0.876      0.768      0.829      0.523       0.87      0.756      0.817      0.477\n"
     ]
    },
    {
     "name": "stderr",
     "output_type": "stream",
     "text": [
      "\n"
     ]
    },
    {
     "name": "stdout",
     "output_type": "stream",
     "text": [
      "\n",
      "      Epoch    GPU_mem   box_loss   seg_loss   cls_loss   dfl_loss  Instances       Size\n"
     ]
    },
    {
     "name": "stderr",
     "output_type": "stream",
     "text": [
      "     99/125        24G      1.113      1.571     0.4844     0.9762       2395        640: 100%|██████████| 27/27 [00:23<00:00,  1.15it/s]\n",
      "                 Class     Images  Instances      Box(P          R      mAP50  mAP50-95)     Mask(P          R      mAP50  mAP50-95): 100%|██████████| 4/4 [00:03<00:00,  1.23it/s]"
     ]
    },
    {
     "name": "stdout",
     "output_type": "stream",
     "text": [
      "                   all        108      12091      0.871      0.781      0.833      0.513      0.871       0.76      0.818      0.469\n"
     ]
    },
    {
     "name": "stderr",
     "output_type": "stream",
     "text": [
      "\n"
     ]
    },
    {
     "name": "stdout",
     "output_type": "stream",
     "text": [
      "\n",
      "      Epoch    GPU_mem   box_loss   seg_loss   cls_loss   dfl_loss  Instances       Size\n"
     ]
    },
    {
     "name": "stderr",
     "output_type": "stream",
     "text": [
      "    100/125      26.9G        1.1      1.557     0.4784     0.9769       4107        640: 100%|██████████| 27/27 [00:24<00:00,  1.12it/s]\n",
      "                 Class     Images  Instances      Box(P          R      mAP50  mAP50-95)     Mask(P          R      mAP50  mAP50-95): 100%|██████████| 4/4 [00:03<00:00,  1.30it/s]"
     ]
    },
    {
     "name": "stdout",
     "output_type": "stream",
     "text": [
      "                   all        108      12091      0.883      0.765      0.832      0.517       0.88      0.752      0.819      0.472\n"
     ]
    },
    {
     "name": "stderr",
     "output_type": "stream",
     "text": [
      "\n"
     ]
    },
    {
     "name": "stdout",
     "output_type": "stream",
     "text": [
      "\n",
      "      Epoch    GPU_mem   box_loss   seg_loss   cls_loss   dfl_loss  Instances       Size\n"
     ]
    },
    {
     "name": "stderr",
     "output_type": "stream",
     "text": [
      "    101/125      25.6G      1.083      1.539     0.4755      0.979       3571        640: 100%|██████████| 27/27 [00:24<00:00,  1.12it/s]\n",
      "                 Class     Images  Instances      Box(P          R      mAP50  mAP50-95)     Mask(P          R      mAP50  mAP50-95): 100%|██████████| 4/4 [00:03<00:00,  1.28it/s]"
     ]
    },
    {
     "name": "stdout",
     "output_type": "stream",
     "text": [
      "                   all        108      12091      0.869      0.775      0.825      0.506      0.867       0.76      0.812      0.464\n"
     ]
    },
    {
     "name": "stderr",
     "output_type": "stream",
     "text": [
      "\n"
     ]
    },
    {
     "name": "stdout",
     "output_type": "stream",
     "text": [
      "\n",
      "      Epoch    GPU_mem   box_loss   seg_loss   cls_loss   dfl_loss  Instances       Size\n"
     ]
    },
    {
     "name": "stderr",
     "output_type": "stream",
     "text": [
      "    102/125      31.4G      1.089      1.542     0.4737      0.975       3738        640: 100%|██████████| 27/27 [00:24<00:00,  1.11it/s]\n",
      "                 Class     Images  Instances      Box(P          R      mAP50  mAP50-95)     Mask(P          R      mAP50  mAP50-95): 100%|██████████| 4/4 [00:03<00:00,  1.24it/s]"
     ]
    },
    {
     "name": "stdout",
     "output_type": "stream",
     "text": [
      "                   all        108      12091      0.877      0.774      0.833      0.516      0.875       0.76      0.822      0.475\n"
     ]
    },
    {
     "name": "stderr",
     "output_type": "stream",
     "text": [
      "\n"
     ]
    },
    {
     "name": "stdout",
     "output_type": "stream",
     "text": [
      "\n",
      "      Epoch    GPU_mem   box_loss   seg_loss   cls_loss   dfl_loss  Instances       Size\n"
     ]
    },
    {
     "name": "stderr",
     "output_type": "stream",
     "text": [
      "    103/125      21.8G      1.066      1.507     0.4646     0.9745       1958        640: 100%|██████████| 27/27 [00:23<00:00,  1.13it/s]\n",
      "                 Class     Images  Instances      Box(P          R      mAP50  mAP50-95)     Mask(P          R      mAP50  mAP50-95): 100%|██████████| 4/4 [00:03<00:00,  1.14it/s]"
     ]
    },
    {
     "name": "stdout",
     "output_type": "stream",
     "text": [
      "                   all        108      12091      0.885       0.77      0.832      0.518      0.883      0.757      0.822      0.478\n"
     ]
    },
    {
     "name": "stderr",
     "output_type": "stream",
     "text": [
      "\n"
     ]
    },
    {
     "name": "stdout",
     "output_type": "stream",
     "text": [
      "\n",
      "      Epoch    GPU_mem   box_loss   seg_loss   cls_loss   dfl_loss  Instances       Size\n"
     ]
    },
    {
     "name": "stderr",
     "output_type": "stream",
     "text": [
      "    104/125      24.1G      1.081      1.539     0.4711     0.9792       1718        640: 100%|██████████| 27/27 [00:23<00:00,  1.13it/s]\n",
      "                 Class     Images  Instances      Box(P          R      mAP50  mAP50-95)     Mask(P          R      mAP50  mAP50-95): 100%|██████████| 4/4 [00:03<00:00,  1.21it/s]"
     ]
    },
    {
     "name": "stdout",
     "output_type": "stream",
     "text": [
      "                   all        108      12091      0.885      0.763      0.827      0.504      0.878      0.748      0.812      0.457\n"
     ]
    },
    {
     "name": "stderr",
     "output_type": "stream",
     "text": [
      "\n"
     ]
    },
    {
     "name": "stdout",
     "output_type": "stream",
     "text": [
      "\n",
      "      Epoch    GPU_mem   box_loss   seg_loss   cls_loss   dfl_loss  Instances       Size\n"
     ]
    },
    {
     "name": "stderr",
     "output_type": "stream",
     "text": [
      "    105/125      22.6G      1.061      1.499     0.4617      0.975       3902        640: 100%|██████████| 27/27 [00:23<00:00,  1.14it/s]\n",
      "                 Class     Images  Instances      Box(P          R      mAP50  mAP50-95)     Mask(P          R      mAP50  mAP50-95): 100%|██████████| 4/4 [00:03<00:00,  1.31it/s]"
     ]
    },
    {
     "name": "stdout",
     "output_type": "stream",
     "text": [
      "                   all        108      12091      0.881      0.766      0.823      0.508      0.876      0.753      0.811      0.469\n"
     ]
    },
    {
     "name": "stderr",
     "output_type": "stream",
     "text": [
      "\n"
     ]
    },
    {
     "name": "stdout",
     "output_type": "stream",
     "text": [
      "\n",
      "      Epoch    GPU_mem   box_loss   seg_loss   cls_loss   dfl_loss  Instances       Size\n"
     ]
    },
    {
     "name": "stderr",
     "output_type": "stream",
     "text": [
      "    106/125      29.5G      1.064      1.514     0.4654     0.9764       3815        640: 100%|██████████| 27/27 [00:23<00:00,  1.15it/s]\n",
      "                 Class     Images  Instances      Box(P          R      mAP50  mAP50-95)     Mask(P          R      mAP50  mAP50-95): 100%|██████████| 4/4 [00:03<00:00,  1.20it/s]"
     ]
    },
    {
     "name": "stdout",
     "output_type": "stream",
     "text": [
      "                   all        108      12091      0.884      0.775      0.829      0.511      0.882      0.764      0.819      0.466\n"
     ]
    },
    {
     "name": "stderr",
     "output_type": "stream",
     "text": [
      "\n"
     ]
    },
    {
     "name": "stdout",
     "output_type": "stream",
     "text": [
      "\n",
      "      Epoch    GPU_mem   box_loss   seg_loss   cls_loss   dfl_loss  Instances       Size\n"
     ]
    },
    {
     "name": "stderr",
     "output_type": "stream",
     "text": [
      "    107/125      23.1G      1.081      1.535     0.4698     0.9772       2254        640: 100%|██████████| 27/27 [00:23<00:00,  1.17it/s]\n",
      "                 Class     Images  Instances      Box(P          R      mAP50  mAP50-95)     Mask(P          R      mAP50  mAP50-95): 100%|██████████| 4/4 [00:03<00:00,  1.22it/s]"
     ]
    },
    {
     "name": "stdout",
     "output_type": "stream",
     "text": [
      "                   all        108      12091       0.88      0.772      0.829      0.515      0.879      0.761      0.818      0.478\n"
     ]
    },
    {
     "name": "stderr",
     "output_type": "stream",
     "text": [
      "\n"
     ]
    },
    {
     "name": "stdout",
     "output_type": "stream",
     "text": [
      "\n",
      "      Epoch    GPU_mem   box_loss   seg_loss   cls_loss   dfl_loss  Instances       Size\n"
     ]
    },
    {
     "name": "stderr",
     "output_type": "stream",
     "text": [
      "    108/125        28G      1.069      1.518     0.4691     0.9726       2565        640: 100%|██████████| 27/27 [00:23<00:00,  1.14it/s]\n",
      "                 Class     Images  Instances      Box(P          R      mAP50  mAP50-95)     Mask(P          R      mAP50  mAP50-95): 100%|██████████| 4/4 [00:03<00:00,  1.31it/s]"
     ]
    },
    {
     "name": "stdout",
     "output_type": "stream",
     "text": [
      "                   all        108      12091       0.88      0.774      0.831      0.516      0.875      0.765       0.82      0.473\n"
     ]
    },
    {
     "name": "stderr",
     "output_type": "stream",
     "text": [
      "\n"
     ]
    },
    {
     "name": "stdout",
     "output_type": "stream",
     "text": [
      "\n",
      "      Epoch    GPU_mem   box_loss   seg_loss   cls_loss   dfl_loss  Instances       Size\n"
     ]
    },
    {
     "name": "stderr",
     "output_type": "stream",
     "text": [
      "    109/125      22.5G      1.047       1.49     0.4563     0.9693       3440        640: 100%|██████████| 27/27 [00:23<00:00,  1.15it/s]\n",
      "                 Class     Images  Instances      Box(P          R      mAP50  mAP50-95)     Mask(P          R      mAP50  mAP50-95): 100%|██████████| 4/4 [00:03<00:00,  1.30it/s]"
     ]
    },
    {
     "name": "stdout",
     "output_type": "stream",
     "text": [
      "                   all        108      12091      0.878      0.776      0.832      0.521      0.872      0.765      0.822      0.477\n"
     ]
    },
    {
     "name": "stderr",
     "output_type": "stream",
     "text": [
      "\n"
     ]
    },
    {
     "name": "stdout",
     "output_type": "stream",
     "text": [
      "\n",
      "      Epoch    GPU_mem   box_loss   seg_loss   cls_loss   dfl_loss  Instances       Size\n"
     ]
    },
    {
     "name": "stderr",
     "output_type": "stream",
     "text": [
      "    110/125      16.5G      1.051      1.491     0.4595     0.9652       3018        640: 100%|██████████| 27/27 [00:23<00:00,  1.15it/s]\n",
      "                 Class     Images  Instances      Box(P          R      mAP50  mAP50-95)     Mask(P          R      mAP50  mAP50-95): 100%|██████████| 4/4 [00:03<00:00,  1.17it/s]"
     ]
    },
    {
     "name": "stdout",
     "output_type": "stream",
     "text": [
      "                   all        108      12091      0.876      0.776       0.83      0.519      0.875      0.766      0.823       0.48\n"
     ]
    },
    {
     "name": "stderr",
     "output_type": "stream",
     "text": [
      "\n"
     ]
    },
    {
     "name": "stdout",
     "output_type": "stream",
     "text": [
      "\n",
      "      Epoch    GPU_mem   box_loss   seg_loss   cls_loss   dfl_loss  Instances       Size\n"
     ]
    },
    {
     "name": "stderr",
     "output_type": "stream",
     "text": [
      "    111/125      28.9G      1.051      1.491     0.4599     0.9676       2947        640: 100%|██████████| 27/27 [00:23<00:00,  1.14it/s]\n",
      "                 Class     Images  Instances      Box(P          R      mAP50  mAP50-95)     Mask(P          R      mAP50  mAP50-95): 100%|██████████| 4/4 [00:03<00:00,  1.20it/s]"
     ]
    },
    {
     "name": "stdout",
     "output_type": "stream",
     "text": [
      "                   all        108      12091      0.879      0.768       0.83      0.512      0.881      0.752       0.82      0.467\n"
     ]
    },
    {
     "name": "stderr",
     "output_type": "stream",
     "text": [
      "\n"
     ]
    },
    {
     "name": "stdout",
     "output_type": "stream",
     "text": [
      "\n",
      "      Epoch    GPU_mem   box_loss   seg_loss   cls_loss   dfl_loss  Instances       Size\n"
     ]
    },
    {
     "name": "stderr",
     "output_type": "stream",
     "text": [
      "    112/125      21.7G      1.061      1.498     0.4606     0.9657       3033        640: 100%|██████████| 27/27 [00:24<00:00,  1.11it/s]\n",
      "                 Class     Images  Instances      Box(P          R      mAP50  mAP50-95)     Mask(P          R      mAP50  mAP50-95): 100%|██████████| 4/4 [00:03<00:00,  1.23it/s]"
     ]
    },
    {
     "name": "stdout",
     "output_type": "stream",
     "text": [
      "                   all        108      12091      0.873      0.774      0.831       0.52      0.876      0.757      0.819      0.472\n"
     ]
    },
    {
     "name": "stderr",
     "output_type": "stream",
     "text": [
      "\n"
     ]
    },
    {
     "name": "stdout",
     "output_type": "stream",
     "text": [
      "\n",
      "      Epoch    GPU_mem   box_loss   seg_loss   cls_loss   dfl_loss  Instances       Size\n"
     ]
    },
    {
     "name": "stderr",
     "output_type": "stream",
     "text": [
      "    113/125        25G      1.038      1.472     0.4549      0.964       2329        640: 100%|██████████| 27/27 [00:23<00:00,  1.13it/s]\n",
      "                 Class     Images  Instances      Box(P          R      mAP50  mAP50-95)     Mask(P          R      mAP50  mAP50-95): 100%|██████████| 4/4 [00:03<00:00,  1.20it/s]"
     ]
    },
    {
     "name": "stdout",
     "output_type": "stream",
     "text": [
      "                   all        108      12091       0.88      0.765      0.828      0.512      0.877       0.75      0.815       0.47\n"
     ]
    },
    {
     "name": "stderr",
     "output_type": "stream",
     "text": [
      "\n"
     ]
    },
    {
     "name": "stdout",
     "output_type": "stream",
     "text": [
      "\n",
      "      Epoch    GPU_mem   box_loss   seg_loss   cls_loss   dfl_loss  Instances       Size\n"
     ]
    },
    {
     "name": "stderr",
     "output_type": "stream",
     "text": [
      "    114/125      21.5G       1.03      1.462     0.4506     0.9688       2222        640: 100%|██████████| 27/27 [00:23<00:00,  1.13it/s]\n",
      "                 Class     Images  Instances      Box(P          R      mAP50  mAP50-95)     Mask(P          R      mAP50  mAP50-95): 100%|██████████| 4/4 [00:03<00:00,  1.16it/s]"
     ]
    },
    {
     "name": "stdout",
     "output_type": "stream",
     "text": [
      "                   all        108      12091      0.883      0.766      0.827      0.519      0.879      0.755      0.816      0.478\n"
     ]
    },
    {
     "name": "stderr",
     "output_type": "stream",
     "text": [
      "\n"
     ]
    },
    {
     "name": "stdout",
     "output_type": "stream",
     "text": [
      "\n",
      "      Epoch    GPU_mem   box_loss   seg_loss   cls_loss   dfl_loss  Instances       Size\n"
     ]
    },
    {
     "name": "stderr",
     "output_type": "stream",
     "text": [
      "    115/125      22.4G      1.042      1.474     0.4542     0.9683       3068        640: 100%|██████████| 27/27 [00:23<00:00,  1.16it/s]\n",
      "                 Class     Images  Instances      Box(P          R      mAP50  mAP50-95)     Mask(P          R      mAP50  mAP50-95): 100%|██████████| 4/4 [00:03<00:00,  1.24it/s]"
     ]
    },
    {
     "name": "stdout",
     "output_type": "stream",
     "text": [
      "                   all        108      12091      0.881       0.77       0.83      0.516      0.875      0.757      0.819      0.469\n"
     ]
    },
    {
     "name": "stderr",
     "output_type": "stream",
     "text": [
      "\n"
     ]
    },
    {
     "name": "stdout",
     "output_type": "stream",
     "text": [
      "Closing dataloader mosaic\n",
      "\n",
      "      Epoch    GPU_mem   box_loss   seg_loss   cls_loss   dfl_loss  Instances       Size\n"
     ]
    },
    {
     "name": "stderr",
     "output_type": "stream",
     "text": [
      "    116/125      18.9G      1.067      1.527     0.4661     0.9928       2524        640: 100%|██████████| 27/27 [00:32<00:00,  1.19s/it]\n",
      "                 Class     Images  Instances      Box(P          R      mAP50  mAP50-95)     Mask(P          R      mAP50  mAP50-95): 100%|██████████| 4/4 [00:02<00:00,  1.38it/s]"
     ]
    },
    {
     "name": "stdout",
     "output_type": "stream",
     "text": [
      "                   all        108      12091      0.879      0.775      0.823      0.512      0.868      0.766      0.811      0.468\n"
     ]
    },
    {
     "name": "stderr",
     "output_type": "stream",
     "text": [
      "\n"
     ]
    },
    {
     "name": "stdout",
     "output_type": "stream",
     "text": [
      "\n",
      "      Epoch    GPU_mem   box_loss   seg_loss   cls_loss   dfl_loss  Instances       Size\n"
     ]
    },
    {
     "name": "stderr",
     "output_type": "stream",
     "text": [
      "    117/125      19.7G      1.049      1.494      0.453     0.9869       1974        640: 100%|██████████| 27/27 [00:20<00:00,  1.31it/s]\n",
      "                 Class     Images  Instances      Box(P          R      mAP50  mAP50-95)     Mask(P          R      mAP50  mAP50-95): 100%|██████████| 4/4 [00:02<00:00,  1.42it/s]"
     ]
    },
    {
     "name": "stdout",
     "output_type": "stream",
     "text": [
      "                   all        108      12091      0.877      0.771      0.822      0.502      0.867      0.762      0.808      0.456\n"
     ]
    },
    {
     "name": "stderr",
     "output_type": "stream",
     "text": [
      "\n"
     ]
    },
    {
     "name": "stdout",
     "output_type": "stream",
     "text": [
      "\n",
      "      Epoch    GPU_mem   box_loss   seg_loss   cls_loss   dfl_loss  Instances       Size\n"
     ]
    },
    {
     "name": "stderr",
     "output_type": "stream",
     "text": [
      "    118/125      19.5G      1.055      1.493     0.4527     0.9796       1672        640: 100%|██████████| 27/27 [00:19<00:00,  1.35it/s]\n",
      "                 Class     Images  Instances      Box(P          R      mAP50  mAP50-95)     Mask(P          R      mAP50  mAP50-95): 100%|██████████| 4/4 [00:03<00:00,  1.28it/s]"
     ]
    },
    {
     "name": "stdout",
     "output_type": "stream",
     "text": [
      "                   all        108      12091      0.873      0.774      0.821      0.506      0.879      0.751      0.807      0.459\n"
     ]
    },
    {
     "name": "stderr",
     "output_type": "stream",
     "text": [
      "\n"
     ]
    },
    {
     "name": "stdout",
     "output_type": "stream",
     "text": [
      "\n",
      "      Epoch    GPU_mem   box_loss   seg_loss   cls_loss   dfl_loss  Instances       Size\n"
     ]
    },
    {
     "name": "stderr",
     "output_type": "stream",
     "text": [
      "    119/125      23.4G       1.04      1.484     0.4477     0.9793       1530        640: 100%|██████████| 27/27 [00:19<00:00,  1.35it/s]\n",
      "                 Class     Images  Instances      Box(P          R      mAP50  mAP50-95)     Mask(P          R      mAP50  mAP50-95): 100%|██████████| 4/4 [00:03<00:00,  1.31it/s]"
     ]
    },
    {
     "name": "stdout",
     "output_type": "stream",
     "text": [
      "                   all        108      12091      0.878      0.771      0.824       0.51      0.873      0.758      0.811      0.466\n"
     ]
    },
    {
     "name": "stderr",
     "output_type": "stream",
     "text": [
      "\n"
     ]
    },
    {
     "name": "stdout",
     "output_type": "stream",
     "text": [
      "\n",
      "      Epoch    GPU_mem   box_loss   seg_loss   cls_loss   dfl_loss  Instances       Size\n"
     ]
    },
    {
     "name": "stderr",
     "output_type": "stream",
     "text": [
      "    120/125      18.5G       1.03      1.466      0.443      0.973       1812        640: 100%|██████████| 27/27 [00:20<00:00,  1.33it/s]\n",
      "                 Class     Images  Instances      Box(P          R      mAP50  mAP50-95)     Mask(P          R      mAP50  mAP50-95): 100%|██████████| 4/4 [00:02<00:00,  1.36it/s]"
     ]
    },
    {
     "name": "stdout",
     "output_type": "stream",
     "text": [
      "                   all        108      12091      0.879      0.768      0.824      0.513      0.882      0.752      0.813      0.468\n"
     ]
    },
    {
     "name": "stderr",
     "output_type": "stream",
     "text": [
      "\n"
     ]
    },
    {
     "name": "stdout",
     "output_type": "stream",
     "text": [
      "\n",
      "      Epoch    GPU_mem   box_loss   seg_loss   cls_loss   dfl_loss  Instances       Size\n"
     ]
    },
    {
     "name": "stderr",
     "output_type": "stream",
     "text": [
      "    121/125      19.1G      1.032      1.465     0.4416     0.9778        878        640: 100%|██████████| 27/27 [00:19<00:00,  1.38it/s]\n",
      "                 Class     Images  Instances      Box(P          R      mAP50  mAP50-95)     Mask(P          R      mAP50  mAP50-95): 100%|██████████| 4/4 [00:02<00:00,  1.42it/s]"
     ]
    },
    {
     "name": "stdout",
     "output_type": "stream",
     "text": [
      "                   all        108      12091      0.875      0.769      0.825      0.511      0.878      0.751      0.812      0.466\n"
     ]
    },
    {
     "name": "stderr",
     "output_type": "stream",
     "text": [
      "\n"
     ]
    },
    {
     "name": "stdout",
     "output_type": "stream",
     "text": [
      "\n",
      "      Epoch    GPU_mem   box_loss   seg_loss   cls_loss   dfl_loss  Instances       Size\n"
     ]
    },
    {
     "name": "stderr",
     "output_type": "stream",
     "text": [
      "    122/125      19.1G      1.027      1.458     0.4401     0.9723       1728        640: 100%|██████████| 27/27 [00:19<00:00,  1.40it/s]\n",
      "                 Class     Images  Instances      Box(P          R      mAP50  mAP50-95)     Mask(P          R      mAP50  mAP50-95): 100%|██████████| 4/4 [00:02<00:00,  1.35it/s]"
     ]
    },
    {
     "name": "stdout",
     "output_type": "stream",
     "text": [
      "                   all        108      12091      0.875      0.771      0.826      0.513      0.876      0.754      0.813      0.469\n"
     ]
    },
    {
     "name": "stderr",
     "output_type": "stream",
     "text": [
      "\n"
     ]
    },
    {
     "name": "stdout",
     "output_type": "stream",
     "text": [
      "\n",
      "      Epoch    GPU_mem   box_loss   seg_loss   cls_loss   dfl_loss  Instances       Size\n"
     ]
    },
    {
     "name": "stderr",
     "output_type": "stream",
     "text": [
      "    123/125      20.1G      1.022      1.453     0.4375     0.9679       1576        640: 100%|██████████| 27/27 [00:19<00:00,  1.39it/s]\n",
      "                 Class     Images  Instances      Box(P          R      mAP50  mAP50-95)     Mask(P          R      mAP50  mAP50-95): 100%|██████████| 4/4 [00:03<00:00,  1.32it/s]"
     ]
    },
    {
     "name": "stdout",
     "output_type": "stream",
     "text": [
      "                   all        108      12091      0.877      0.772      0.827      0.514      0.877      0.757      0.815      0.469\n"
     ]
    },
    {
     "name": "stderr",
     "output_type": "stream",
     "text": [
      "\n"
     ]
    },
    {
     "name": "stdout",
     "output_type": "stream",
     "text": [
      "\n",
      "      Epoch    GPU_mem   box_loss   seg_loss   cls_loss   dfl_loss  Instances       Size\n"
     ]
    },
    {
     "name": "stderr",
     "output_type": "stream",
     "text": [
      "    124/125        20G      1.024      1.458     0.4357     0.9759       1678        640: 100%|██████████| 27/27 [00:19<00:00,  1.38it/s]\n",
      "                 Class     Images  Instances      Box(P          R      mAP50  mAP50-95)     Mask(P          R      mAP50  mAP50-95): 100%|██████████| 4/4 [00:02<00:00,  1.47it/s]"
     ]
    },
    {
     "name": "stdout",
     "output_type": "stream",
     "text": [
      "                   all        108      12091      0.878      0.772      0.828      0.514      0.872      0.761      0.817      0.468\n"
     ]
    },
    {
     "name": "stderr",
     "output_type": "stream",
     "text": [
      "\n"
     ]
    },
    {
     "name": "stdout",
     "output_type": "stream",
     "text": [
      "\n",
      "      Epoch    GPU_mem   box_loss   seg_loss   cls_loss   dfl_loss  Instances       Size\n"
     ]
    },
    {
     "name": "stderr",
     "output_type": "stream",
     "text": [
      "    125/125      18.1G      1.018       1.45     0.4331     0.9692       1860        640: 100%|██████████| 27/27 [00:20<00:00,  1.35it/s]\n",
      "                 Class     Images  Instances      Box(P          R      mAP50  mAP50-95)     Mask(P          R      mAP50  mAP50-95): 100%|██████████| 4/4 [00:02<00:00,  1.38it/s]"
     ]
    },
    {
     "name": "stdout",
     "output_type": "stream",
     "text": [
      "                   all        108      12091      0.875      0.775      0.828      0.514       0.87      0.762      0.817       0.47\n"
     ]
    },
    {
     "name": "stderr",
     "output_type": "stream",
     "text": [
      "\n"
     ]
    },
    {
     "name": "stdout",
     "output_type": "stream",
     "text": [
      "\n",
      "125 epochs completed in 0.987 hours.\n",
      "Optimizer stripped from yolo_dataset/results/125l_epochs_FocalLpsse/weights/last.pt, 54.8MB\n",
      "Optimizer stripped from yolo_dataset/results/125l_epochs_FocalLpsse/weights/best.pt, 54.8MB\n",
      "\n",
      "Validating yolo_dataset/results/125l_epochs_FocalLpsse/weights/best.pt...\n",
      "Ultralytics YOLOv8.2.70 🚀 Python-3.8.10 torch-2.2.1+cu121 CUDA:0 (Quadro RTX 8000, 48585MiB)\n",
      "YOLOv8m-seg summary (fused): 245 layers, 27,222,963 parameters, 0 gradients, 110.0 GFLOPs\n"
     ]
    },
    {
     "name": "stderr",
     "output_type": "stream",
     "text": [
      "                 Class     Images  Instances      Box(P          R      mAP50  mAP50-95)     Mask(P          R      mAP50  mAP50-95): 100%|██████████| 4/4 [00:16<00:00,  4.14s/it]\n"
     ]
    },
    {
     "name": "stdout",
     "output_type": "stream",
     "text": [
      "                   all        108      12091      0.871      0.772      0.834      0.528      0.873      0.758      0.821      0.482\n",
      "Speed: 0.2ms preprocess, 10.4ms inference, 0.0ms loss, 2.6ms postprocess per image\n",
      "Results saved to \u001b[1myolo_dataset/results/125l_epochs_FocalLpsse\u001b[0m\n"
     ]
    }
   ],
   "source": [
    "# Train the model\n",
    "results = model.train(data='yolo_dataset/data.yaml',\n",
    "                    project=cellpose_projct,\n",
    "                    name=name,\n",
    "                    epochs=125\n",
    "                    )\n",
    "     "
   ]
  },
  {
   "cell_type": "code",
   "execution_count": null,
   "metadata": {},
   "outputs": [],
   "source": [
    "#model = YOLO('yolo_dataset/results/125m_epochs/weights/best.pt')\n",
    "#metrics= model.val(data='yolo_dataset/data.yaml', device=0, plots=True)\n",
    "#metrics"
   ]
  },
  {
   "cell_type": "code",
   "execution_count": null,
   "metadata": {},
   "outputs": [],
   "source": [
    "#j_idx = metrics.matrix[0][0]/metrics.matrix.sum()\n",
    "#j_idx"
   ]
  },
  {
   "cell_type": "code",
   "execution_count": 7,
   "metadata": {},
   "outputs": [],
   "source": [
    "def eval(model, data_dir, ious):\n",
    "\n",
    "    #ious = np.linspace(.5,1,50)\n",
    "    precision = []\n",
    "    recall = []\n",
    "    jac_idx = []\n",
    "    for io in ious:\n",
    "        tp_eval = YOLO(model)\n",
    "        metrics = tp_eval.val(data= data_dir,\n",
    "                              iou=io,\n",
    "                              device=0\n",
    "                              )\n",
    "        precision.append(metrics.results_dict[\"metrics/precision(B)\"])\n",
    "        recall.append(metrics.results_dict[\"metrics/recall(B)\"])\n",
    "        conf_mtrx = metrics.confusion_matrix\n",
    "        j_idx = conf_mtrx.matrix[0][0]/conf_mtrx.matrix.sum()\n",
    "        jac_idx.append(j_idx)\n",
    "    return jac_idx, precision, recall"
   ]
  },
  {
   "cell_type": "code",
   "execution_count": null,
   "metadata": {},
   "outputs": [],
   "source": [
    "/home/kamenan/Documents/Stage Dev Deep Learning/YOLOV8 evaluation/cellpose_data/yolo_dataset/results/125l_epochs_FocalLpsse/weights/best.pt"
   ]
  },
  {
   "cell_type": "code",
   "execution_count": 8,
   "metadata": {},
   "outputs": [
    {
     "name": "stdout",
     "output_type": "stream",
     "text": [
      "Ultralytics YOLOv8.2.70 🚀 Python-3.8.10 torch-2.2.1+cu121 CUDA:0 (Quadro RTX 8000, 48585MiB)\n",
      "YOLOv8m-seg summary (fused): 245 layers, 27,222,963 parameters, 0 gradients, 110.0 GFLOPs\n"
     ]
    },
    {
     "name": "stderr",
     "output_type": "stream",
     "text": [
      "\u001b[34m\u001b[1mval: \u001b[0mScanning /home/kamenan/Documents/Stage Dev Deep Learning/YOLOV8 evaluation/cellpose_data/yolo_dataset/valid/labels.cache... 108 images, 0 backgrounds, 0 corrupt: 100%|██████████| 108/108 [00:00<?, ?it/s]\n",
      "                 Class     Images  Instances      Box(P          R      mAP50  mAP50-95)     Mask(P          R      mAP50  mAP50-95): 100%|██████████| 7/7 [00:22<00:00,  3.18s/it]\n"
     ]
    },
    {
     "name": "stdout",
     "output_type": "stream",
     "text": [
      "                   all        108      12091      0.868      0.785      0.839      0.529      0.868      0.769      0.825      0.479\n",
      "Speed: 0.8ms preprocess, 42.6ms inference, 0.1ms loss, 4.0ms postprocess per image\n",
      "Results saved to \u001b[1mruns/segment/val357\u001b[0m\n",
      "Ultralytics YOLOv8.2.70 🚀 Python-3.8.10 torch-2.2.1+cu121 CUDA:0 (Quadro RTX 8000, 48585MiB)\n",
      "YOLOv8m-seg summary (fused): 245 layers, 27,222,963 parameters, 0 gradients, 110.0 GFLOPs\n"
     ]
    },
    {
     "name": "stderr",
     "output_type": "stream",
     "text": [
      "\u001b[34m\u001b[1mval: \u001b[0mScanning /home/kamenan/Documents/Stage Dev Deep Learning/YOLOV8 evaluation/cellpose_data/yolo_dataset/valid/labels.cache... 108 images, 0 backgrounds, 0 corrupt: 100%|██████████| 108/108 [00:00<?, ?it/s]\n",
      "                 Class     Images  Instances      Box(P          R      mAP50  mAP50-95)     Mask(P          R      mAP50  mAP50-95): 100%|██████████| 7/7 [00:21<00:00,  3.05s/it]\n"
     ]
    },
    {
     "name": "stdout",
     "output_type": "stream",
     "text": [
      "                   all        108      12091      0.868      0.785      0.839      0.529      0.868      0.769      0.825      0.479\n",
      "Speed: 0.3ms preprocess, 13.3ms inference, 0.0ms loss, 7.1ms postprocess per image\n",
      "Results saved to \u001b[1mruns/segment/val358\u001b[0m\n",
      "Ultralytics YOLOv8.2.70 🚀 Python-3.8.10 torch-2.2.1+cu121 CUDA:0 (Quadro RTX 8000, 48585MiB)\n",
      "YOLOv8m-seg summary (fused): 245 layers, 27,222,963 parameters, 0 gradients, 110.0 GFLOPs\n"
     ]
    },
    {
     "name": "stderr",
     "output_type": "stream",
     "text": [
      "\u001b[34m\u001b[1mval: \u001b[0mScanning /home/kamenan/Documents/Stage Dev Deep Learning/YOLOV8 evaluation/cellpose_data/yolo_dataset/valid/labels.cache... 108 images, 0 backgrounds, 0 corrupt: 100%|██████████| 108/108 [00:00<?, ?it/s]\n",
      "                 Class     Images  Instances      Box(P          R      mAP50  mAP50-95)     Mask(P          R      mAP50  mAP50-95): 100%|██████████| 7/7 [00:21<00:00,  3.01s/it]\n"
     ]
    },
    {
     "name": "stdout",
     "output_type": "stream",
     "text": [
      "                   all        108      12091      0.868      0.785      0.839      0.529      0.869      0.768      0.825      0.479\n",
      "Speed: 2.1ms preprocess, 13.9ms inference, 0.0ms loss, 11.6ms postprocess per image\n",
      "Results saved to \u001b[1mruns/segment/val359\u001b[0m\n",
      "Ultralytics YOLOv8.2.70 🚀 Python-3.8.10 torch-2.2.1+cu121 CUDA:0 (Quadro RTX 8000, 48585MiB)\n",
      "YOLOv8m-seg summary (fused): 245 layers, 27,222,963 parameters, 0 gradients, 110.0 GFLOPs\n"
     ]
    },
    {
     "name": "stderr",
     "output_type": "stream",
     "text": [
      "\u001b[34m\u001b[1mval: \u001b[0mScanning /home/kamenan/Documents/Stage Dev Deep Learning/YOLOV8 evaluation/cellpose_data/yolo_dataset/valid/labels.cache... 108 images, 0 backgrounds, 0 corrupt: 100%|██████████| 108/108 [00:00<?, ?it/s]\n",
      "                 Class     Images  Instances      Box(P          R      mAP50  mAP50-95)     Mask(P          R      mAP50  mAP50-95): 100%|██████████| 7/7 [00:21<00:00,  3.00s/it]\n"
     ]
    },
    {
     "name": "stdout",
     "output_type": "stream",
     "text": [
      "                   all        108      12091      0.868      0.785      0.839      0.529      0.868      0.769      0.825      0.479\n",
      "Speed: 2.2ms preprocess, 15.8ms inference, 0.0ms loss, 7.9ms postprocess per image\n",
      "Results saved to \u001b[1mruns/segment/val360\u001b[0m\n",
      "Ultralytics YOLOv8.2.70 🚀 Python-3.8.10 torch-2.2.1+cu121 CUDA:0 (Quadro RTX 8000, 48585MiB)\n",
      "YOLOv8m-seg summary (fused): 245 layers, 27,222,963 parameters, 0 gradients, 110.0 GFLOPs\n"
     ]
    },
    {
     "name": "stderr",
     "output_type": "stream",
     "text": [
      "\u001b[34m\u001b[1mval: \u001b[0mScanning /home/kamenan/Documents/Stage Dev Deep Learning/YOLOV8 evaluation/cellpose_data/yolo_dataset/valid/labels.cache... 108 images, 0 backgrounds, 0 corrupt: 100%|██████████| 108/108 [00:00<?, ?it/s]\n",
      "                 Class     Images  Instances      Box(P          R      mAP50  mAP50-95)     Mask(P          R      mAP50  mAP50-95): 100%|██████████| 7/7 [00:21<00:00,  3.11s/it]\n"
     ]
    },
    {
     "name": "stdout",
     "output_type": "stream",
     "text": [
      "                   all        108      12091      0.867      0.785      0.839      0.529      0.868      0.768      0.825      0.479\n",
      "Speed: 0.3ms preprocess, 13.6ms inference, 0.0ms loss, 14.4ms postprocess per image\n",
      "Results saved to \u001b[1mruns/segment/val361\u001b[0m\n",
      "Ultralytics YOLOv8.2.70 🚀 Python-3.8.10 torch-2.2.1+cu121 CUDA:0 (Quadro RTX 8000, 48585MiB)\n",
      "YOLOv8m-seg summary (fused): 245 layers, 27,222,963 parameters, 0 gradients, 110.0 GFLOPs\n"
     ]
    },
    {
     "name": "stderr",
     "output_type": "stream",
     "text": [
      "\u001b[34m\u001b[1mval: \u001b[0mScanning /home/kamenan/Documents/Stage Dev Deep Learning/YOLOV8 evaluation/cellpose_data/yolo_dataset/valid/labels.cache... 108 images, 0 backgrounds, 0 corrupt: 100%|██████████| 108/108 [00:00<?, ?it/s]\n",
      "                 Class     Images  Instances      Box(P          R      mAP50  mAP50-95)     Mask(P          R      mAP50  mAP50-95): 100%|██████████| 7/7 [00:21<00:00,  3.03s/it]\n"
     ]
    },
    {
     "name": "stdout",
     "output_type": "stream",
     "text": [
      "                   all        108      12091      0.871      0.782      0.838      0.529      0.868      0.768      0.825      0.478\n",
      "Speed: 0.2ms preprocess, 12.9ms inference, 0.0ms loss, 14.4ms postprocess per image\n",
      "Results saved to \u001b[1mruns/segment/val362\u001b[0m\n",
      "Ultralytics YOLOv8.2.70 🚀 Python-3.8.10 torch-2.2.1+cu121 CUDA:0 (Quadro RTX 8000, 48585MiB)\n",
      "YOLOv8m-seg summary (fused): 245 layers, 27,222,963 parameters, 0 gradients, 110.0 GFLOPs\n"
     ]
    },
    {
     "name": "stderr",
     "output_type": "stream",
     "text": [
      "\u001b[34m\u001b[1mval: \u001b[0mScanning /home/kamenan/Documents/Stage Dev Deep Learning/YOLOV8 evaluation/cellpose_data/yolo_dataset/valid/labels.cache... 108 images, 0 backgrounds, 0 corrupt: 100%|██████████| 108/108 [00:00<?, ?it/s]\n",
      "                 Class     Images  Instances      Box(P          R      mAP50  mAP50-95)     Mask(P          R      mAP50  mAP50-95): 100%|██████████| 7/7 [00:21<00:00,  3.10s/it]\n"
     ]
    },
    {
     "name": "stdout",
     "output_type": "stream",
     "text": [
      "                   all        108      12091      0.872       0.78      0.838      0.529      0.868      0.768      0.825      0.478\n",
      "Speed: 0.3ms preprocess, 12.8ms inference, 0.0ms loss, 9.1ms postprocess per image\n",
      "Results saved to \u001b[1mruns/segment/val363\u001b[0m\n",
      "Ultralytics YOLOv8.2.70 🚀 Python-3.8.10 torch-2.2.1+cu121 CUDA:0 (Quadro RTX 8000, 48585MiB)\n",
      "YOLOv8m-seg summary (fused): 245 layers, 27,222,963 parameters, 0 gradients, 110.0 GFLOPs\n"
     ]
    },
    {
     "name": "stderr",
     "output_type": "stream",
     "text": [
      "\u001b[34m\u001b[1mval: \u001b[0mScanning /home/kamenan/Documents/Stage Dev Deep Learning/YOLOV8 evaluation/cellpose_data/yolo_dataset/valid/labels.cache... 108 images, 0 backgrounds, 0 corrupt: 100%|██████████| 108/108 [00:00<?, ?it/s]\n",
      "                 Class     Images  Instances      Box(P          R      mAP50  mAP50-95)     Mask(P          R      mAP50  mAP50-95): 100%|██████████| 7/7 [00:22<00:00,  3.18s/it]\n"
     ]
    },
    {
     "name": "stdout",
     "output_type": "stream",
     "text": [
      "                   all        108      12091      0.873      0.779      0.838      0.529      0.868      0.768      0.824      0.478\n",
      "Speed: 0.3ms preprocess, 12.1ms inference, 0.0ms loss, 8.0ms postprocess per image\n",
      "Results saved to \u001b[1mruns/segment/val364\u001b[0m\n",
      "Ultralytics YOLOv8.2.70 🚀 Python-3.8.10 torch-2.2.1+cu121 CUDA:0 (Quadro RTX 8000, 48585MiB)\n",
      "YOLOv8m-seg summary (fused): 245 layers, 27,222,963 parameters, 0 gradients, 110.0 GFLOPs\n"
     ]
    },
    {
     "name": "stderr",
     "output_type": "stream",
     "text": [
      "\u001b[34m\u001b[1mval: \u001b[0mScanning /home/kamenan/Documents/Stage Dev Deep Learning/YOLOV8 evaluation/cellpose_data/yolo_dataset/valid/labels.cache... 108 images, 0 backgrounds, 0 corrupt: 100%|██████████| 108/108 [00:00<?, ?it/s]\n",
      "                 Class     Images  Instances      Box(P          R      mAP50  mAP50-95)     Mask(P          R      mAP50  mAP50-95): 100%|██████████| 7/7 [00:21<00:00,  3.05s/it]\n"
     ]
    },
    {
     "name": "stdout",
     "output_type": "stream",
     "text": [
      "                   all        108      12091      0.872      0.779      0.838      0.529      0.867      0.768      0.824      0.478\n",
      "Speed: 0.3ms preprocess, 13.8ms inference, 0.0ms loss, 7.0ms postprocess per image\n",
      "Results saved to \u001b[1mruns/segment/val365\u001b[0m\n",
      "Ultralytics YOLOv8.2.70 🚀 Python-3.8.10 torch-2.2.1+cu121 CUDA:0 (Quadro RTX 8000, 48585MiB)\n",
      "YOLOv8m-seg summary (fused): 245 layers, 27,222,963 parameters, 0 gradients, 110.0 GFLOPs\n"
     ]
    },
    {
     "name": "stderr",
     "output_type": "stream",
     "text": [
      "\u001b[34m\u001b[1mval: \u001b[0mScanning /home/kamenan/Documents/Stage Dev Deep Learning/YOLOV8 evaluation/cellpose_data/yolo_dataset/valid/labels.cache... 108 images, 0 backgrounds, 0 corrupt: 100%|██████████| 108/108 [00:00<?, ?it/s]\n",
      "                 Class     Images  Instances      Box(P          R      mAP50  mAP50-95)     Mask(P          R      mAP50  mAP50-95): 100%|██████████| 7/7 [00:20<00:00,  2.98s/it]\n"
     ]
    },
    {
     "name": "stdout",
     "output_type": "stream",
     "text": [
      "                   all        108      12091      0.872       0.78      0.838      0.529      0.869      0.765      0.824      0.478\n",
      "Speed: 0.5ms preprocess, 15.0ms inference, 0.0ms loss, 12.9ms postprocess per image\n",
      "Results saved to \u001b[1mruns/segment/val366\u001b[0m\n",
      "Ultralytics YOLOv8.2.70 🚀 Python-3.8.10 torch-2.2.1+cu121 CUDA:0 (Quadro RTX 8000, 48585MiB)\n",
      "YOLOv8m-seg summary (fused): 245 layers, 27,222,963 parameters, 0 gradients, 110.0 GFLOPs\n"
     ]
    },
    {
     "name": "stderr",
     "output_type": "stream",
     "text": [
      "\u001b[34m\u001b[1mval: \u001b[0mScanning /home/kamenan/Documents/Stage Dev Deep Learning/YOLOV8 evaluation/cellpose_data/yolo_dataset/valid/labels.cache... 108 images, 0 backgrounds, 0 corrupt: 100%|██████████| 108/108 [00:00<?, ?it/s]\n",
      "                 Class     Images  Instances      Box(P          R      mAP50  mAP50-95)     Mask(P          R      mAP50  mAP50-95): 100%|██████████| 7/7 [00:21<00:00,  3.13s/it]\n"
     ]
    },
    {
     "name": "stdout",
     "output_type": "stream",
     "text": [
      "                   all        108      12091      0.871       0.78      0.837      0.529      0.869      0.765      0.824      0.478\n",
      "Speed: 0.7ms preprocess, 11.5ms inference, 0.0ms loss, 8.5ms postprocess per image\n",
      "Results saved to \u001b[1mruns/segment/val367\u001b[0m\n",
      "Ultralytics YOLOv8.2.70 🚀 Python-3.8.10 torch-2.2.1+cu121 CUDA:0 (Quadro RTX 8000, 48585MiB)\n",
      "YOLOv8m-seg summary (fused): 245 layers, 27,222,963 parameters, 0 gradients, 110.0 GFLOPs\n"
     ]
    },
    {
     "name": "stderr",
     "output_type": "stream",
     "text": [
      "\u001b[34m\u001b[1mval: \u001b[0mScanning /home/kamenan/Documents/Stage Dev Deep Learning/YOLOV8 evaluation/cellpose_data/yolo_dataset/valid/labels.cache... 108 images, 0 backgrounds, 0 corrupt: 100%|██████████| 108/108 [00:00<?, ?it/s]\n",
      "                 Class     Images  Instances      Box(P          R      mAP50  mAP50-95)     Mask(P          R      mAP50  mAP50-95): 100%|██████████| 7/7 [02:16<00:00, 19.50s/it]\n"
     ]
    },
    {
     "name": "stdout",
     "output_type": "stream",
     "text": [
      "                   all        108      12091       0.87       0.78      0.837      0.529      0.868      0.765      0.824      0.478\n",
      "Speed: 0.3ms preprocess, 11.9ms inference, 0.0ms loss, 7.8ms postprocess per image\n",
      "Results saved to \u001b[1mruns/segment/val368\u001b[0m\n",
      "Ultralytics YOLOv8.2.70 🚀 Python-3.8.10 torch-2.2.1+cu121 CUDA:0 (Quadro RTX 8000, 48585MiB)\n",
      "YOLOv8m-seg summary (fused): 245 layers, 27,222,963 parameters, 0 gradients, 110.0 GFLOPs\n"
     ]
    },
    {
     "name": "stderr",
     "output_type": "stream",
     "text": [
      "\u001b[34m\u001b[1mval: \u001b[0mScanning /home/kamenan/Documents/Stage Dev Deep Learning/YOLOV8 evaluation/cellpose_data/yolo_dataset/valid/labels.cache... 108 images, 0 backgrounds, 0 corrupt: 100%|██████████| 108/108 [00:00<?, ?it/s]\n",
      "                 Class     Images  Instances      Box(P          R      mAP50  mAP50-95)     Mask(P          R      mAP50  mAP50-95): 100%|██████████| 7/7 [00:20<00:00,  2.88s/it]\n"
     ]
    },
    {
     "name": "stdout",
     "output_type": "stream",
     "text": [
      "                   all        108      12091       0.87      0.779      0.836      0.529      0.868      0.765      0.823      0.478\n",
      "Speed: 0.3ms preprocess, 14.4ms inference, 0.0ms loss, 4.0ms postprocess per image\n",
      "Results saved to \u001b[1mruns/segment/val369\u001b[0m\n",
      "Ultralytics YOLOv8.2.70 🚀 Python-3.8.10 torch-2.2.1+cu121 CUDA:0 (Quadro RTX 8000, 48585MiB)\n",
      "YOLOv8m-seg summary (fused): 245 layers, 27,222,963 parameters, 0 gradients, 110.0 GFLOPs\n"
     ]
    },
    {
     "name": "stderr",
     "output_type": "stream",
     "text": [
      "\u001b[34m\u001b[1mval: \u001b[0mScanning /home/kamenan/Documents/Stage Dev Deep Learning/YOLOV8 evaluation/cellpose_data/yolo_dataset/valid/labels.cache... 108 images, 0 backgrounds, 0 corrupt: 100%|██████████| 108/108 [00:00<?, ?it/s]\n",
      "                 Class     Images  Instances      Box(P          R      mAP50  mAP50-95)     Mask(P          R      mAP50  mAP50-95): 100%|██████████| 7/7 [00:20<00:00,  2.96s/it]\n"
     ]
    },
    {
     "name": "stdout",
     "output_type": "stream",
     "text": [
      "                   all        108      12091      0.869      0.779      0.836      0.529      0.868      0.765      0.823      0.478\n",
      "Speed: 0.5ms preprocess, 11.3ms inference, 0.1ms loss, 7.2ms postprocess per image\n",
      "Results saved to \u001b[1mruns/segment/val370\u001b[0m\n",
      "Ultralytics YOLOv8.2.70 🚀 Python-3.8.10 torch-2.2.1+cu121 CUDA:0 (Quadro RTX 8000, 48585MiB)\n",
      "YOLOv8m-seg summary (fused): 245 layers, 27,222,963 parameters, 0 gradients, 110.0 GFLOPs\n"
     ]
    },
    {
     "name": "stderr",
     "output_type": "stream",
     "text": [
      "\u001b[34m\u001b[1mval: \u001b[0mScanning /home/kamenan/Documents/Stage Dev Deep Learning/YOLOV8 evaluation/cellpose_data/yolo_dataset/valid/labels.cache... 108 images, 0 backgrounds, 0 corrupt: 100%|██████████| 108/108 [00:00<?, ?it/s]\n",
      "                 Class     Images  Instances      Box(P          R      mAP50  mAP50-95)     Mask(P          R      mAP50  mAP50-95): 100%|██████████| 7/7 [00:20<00:00,  3.00s/it]\n"
     ]
    },
    {
     "name": "stdout",
     "output_type": "stream",
     "text": [
      "                   all        108      12091      0.869      0.779      0.836      0.529      0.868      0.764      0.823      0.478\n",
      "Speed: 0.4ms preprocess, 11.7ms inference, 0.0ms loss, 3.7ms postprocess per image\n",
      "Results saved to \u001b[1mruns/segment/val371\u001b[0m\n",
      "Ultralytics YOLOv8.2.70 🚀 Python-3.8.10 torch-2.2.1+cu121 CUDA:0 (Quadro RTX 8000, 48585MiB)\n",
      "YOLOv8m-seg summary (fused): 245 layers, 27,222,963 parameters, 0 gradients, 110.0 GFLOPs\n"
     ]
    },
    {
     "name": "stderr",
     "output_type": "stream",
     "text": [
      "\u001b[34m\u001b[1mval: \u001b[0mScanning /home/kamenan/Documents/Stage Dev Deep Learning/YOLOV8 evaluation/cellpose_data/yolo_dataset/valid/labels.cache... 108 images, 0 backgrounds, 0 corrupt: 100%|██████████| 108/108 [00:00<?, ?it/s]\n",
      "                 Class     Images  Instances      Box(P          R      mAP50  mAP50-95)     Mask(P          R      mAP50  mAP50-95): 100%|██████████| 7/7 [00:20<00:00,  2.97s/it]\n"
     ]
    },
    {
     "name": "stdout",
     "output_type": "stream",
     "text": [
      "                   all        108      12091      0.871      0.777      0.836      0.529      0.871      0.761      0.822      0.477\n",
      "Speed: 0.3ms preprocess, 12.0ms inference, 0.0ms loss, 6.2ms postprocess per image\n",
      "Results saved to \u001b[1mruns/segment/val372\u001b[0m\n",
      "Ultralytics YOLOv8.2.70 🚀 Python-3.8.10 torch-2.2.1+cu121 CUDA:0 (Quadro RTX 8000, 48585MiB)\n",
      "YOLOv8m-seg summary (fused): 245 layers, 27,222,963 parameters, 0 gradients, 110.0 GFLOPs\n"
     ]
    },
    {
     "name": "stderr",
     "output_type": "stream",
     "text": [
      "\u001b[34m\u001b[1mval: \u001b[0mScanning /home/kamenan/Documents/Stage Dev Deep Learning/YOLOV8 evaluation/cellpose_data/yolo_dataset/valid/labels.cache... 108 images, 0 backgrounds, 0 corrupt: 100%|██████████| 108/108 [00:00<?, ?it/s]\n",
      "                 Class     Images  Instances      Box(P          R      mAP50  mAP50-95)     Mask(P          R      mAP50  mAP50-95): 100%|██████████| 7/7 [00:20<00:00,  2.90s/it]\n"
     ]
    },
    {
     "name": "stdout",
     "output_type": "stream",
     "text": [
      "                   all        108      12091       0.87      0.777      0.835      0.529      0.871      0.761      0.822      0.477\n",
      "Speed: 0.2ms preprocess, 13.7ms inference, 0.1ms loss, 12.3ms postprocess per image\n",
      "Results saved to \u001b[1mruns/segment/val373\u001b[0m\n",
      "Ultralytics YOLOv8.2.70 🚀 Python-3.8.10 torch-2.2.1+cu121 CUDA:0 (Quadro RTX 8000, 48585MiB)\n",
      "YOLOv8m-seg summary (fused): 245 layers, 27,222,963 parameters, 0 gradients, 110.0 GFLOPs\n"
     ]
    },
    {
     "name": "stderr",
     "output_type": "stream",
     "text": [
      "\u001b[34m\u001b[1mval: \u001b[0mScanning /home/kamenan/Documents/Stage Dev Deep Learning/YOLOV8 evaluation/cellpose_data/yolo_dataset/valid/labels.cache... 108 images, 0 backgrounds, 0 corrupt: 100%|██████████| 108/108 [00:00<?, ?it/s]\n",
      "                 Class     Images  Instances      Box(P          R      mAP50  mAP50-95)     Mask(P          R      mAP50  mAP50-95): 100%|██████████| 7/7 [00:20<00:00,  2.91s/it]\n"
     ]
    },
    {
     "name": "stdout",
     "output_type": "stream",
     "text": [
      "                   all        108      12091       0.87      0.777      0.835      0.528       0.87      0.761      0.822      0.477\n",
      "Speed: 0.2ms preprocess, 11.8ms inference, 0.0ms loss, 6.6ms postprocess per image\n",
      "Results saved to \u001b[1mruns/segment/val374\u001b[0m\n",
      "Ultralytics YOLOv8.2.70 🚀 Python-3.8.10 torch-2.2.1+cu121 CUDA:0 (Quadro RTX 8000, 48585MiB)\n",
      "YOLOv8m-seg summary (fused): 245 layers, 27,222,963 parameters, 0 gradients, 110.0 GFLOPs\n"
     ]
    },
    {
     "name": "stderr",
     "output_type": "stream",
     "text": [
      "\u001b[34m\u001b[1mval: \u001b[0mScanning /home/kamenan/Documents/Stage Dev Deep Learning/YOLOV8 evaluation/cellpose_data/yolo_dataset/valid/labels.cache... 108 images, 0 backgrounds, 0 corrupt: 100%|██████████| 108/108 [00:00<?, ?it/s]\n",
      "                 Class     Images  Instances      Box(P          R      mAP50  mAP50-95)     Mask(P          R      mAP50  mAP50-95): 100%|██████████| 7/7 [00:21<00:00,  3.13s/it]\n"
     ]
    },
    {
     "name": "stdout",
     "output_type": "stream",
     "text": [
      "                   all        108      12091      0.871      0.774      0.834      0.528       0.87       0.76      0.821      0.477\n",
      "Speed: 0.4ms preprocess, 20.4ms inference, 0.0ms loss, 9.9ms postprocess per image\n",
      "Results saved to \u001b[1mruns/segment/val375\u001b[0m\n",
      "Ultralytics YOLOv8.2.70 🚀 Python-3.8.10 torch-2.2.1+cu121 CUDA:0 (Quadro RTX 8000, 48585MiB)\n",
      "YOLOv8m-seg summary (fused): 245 layers, 27,222,963 parameters, 0 gradients, 110.0 GFLOPs\n"
     ]
    },
    {
     "name": "stderr",
     "output_type": "stream",
     "text": [
      "\u001b[34m\u001b[1mval: \u001b[0mScanning /home/kamenan/Documents/Stage Dev Deep Learning/YOLOV8 evaluation/cellpose_data/yolo_dataset/valid/labels.cache... 108 images, 0 backgrounds, 0 corrupt: 100%|██████████| 108/108 [00:00<?, ?it/s]\n",
      "                 Class     Images  Instances      Box(P          R      mAP50  mAP50-95)     Mask(P          R      mAP50  mAP50-95): 100%|██████████| 7/7 [00:20<00:00,  2.99s/it]\n"
     ]
    },
    {
     "name": "stdout",
     "output_type": "stream",
     "text": [
      "                   all        108      12091       0.87      0.774      0.834      0.528      0.869       0.76       0.82      0.477\n",
      "Speed: 1.1ms preprocess, 15.7ms inference, 0.0ms loss, 9.2ms postprocess per image\n",
      "Results saved to \u001b[1mruns/segment/val376\u001b[0m\n",
      "Ultralytics YOLOv8.2.70 🚀 Python-3.8.10 torch-2.2.1+cu121 CUDA:0 (Quadro RTX 8000, 48585MiB)\n",
      "YOLOv8m-seg summary (fused): 245 layers, 27,222,963 parameters, 0 gradients, 110.0 GFLOPs\n"
     ]
    },
    {
     "name": "stderr",
     "output_type": "stream",
     "text": [
      "\u001b[34m\u001b[1mval: \u001b[0mScanning /home/kamenan/Documents/Stage Dev Deep Learning/YOLOV8 evaluation/cellpose_data/yolo_dataset/valid/labels.cache... 108 images, 0 backgrounds, 0 corrupt: 100%|██████████| 108/108 [00:00<?, ?it/s]\n",
      "                 Class     Images  Instances      Box(P          R      mAP50  mAP50-95)     Mask(P          R      mAP50  mAP50-95): 100%|██████████| 7/7 [00:20<00:00,  2.93s/it]\n"
     ]
    },
    {
     "name": "stdout",
     "output_type": "stream",
     "text": [
      "                   all        108      12091      0.869      0.774      0.833      0.528      0.869      0.758       0.82      0.476\n",
      "Speed: 0.2ms preprocess, 18.2ms inference, 0.0ms loss, 4.5ms postprocess per image\n",
      "Results saved to \u001b[1mruns/segment/val377\u001b[0m\n",
      "Ultralytics YOLOv8.2.70 🚀 Python-3.8.10 torch-2.2.1+cu121 CUDA:0 (Quadro RTX 8000, 48585MiB)\n",
      "YOLOv8m-seg summary (fused): 245 layers, 27,222,963 parameters, 0 gradients, 110.0 GFLOPs\n"
     ]
    },
    {
     "name": "stderr",
     "output_type": "stream",
     "text": [
      "\u001b[34m\u001b[1mval: \u001b[0mScanning /home/kamenan/Documents/Stage Dev Deep Learning/YOLOV8 evaluation/cellpose_data/yolo_dataset/valid/labels.cache... 108 images, 0 backgrounds, 0 corrupt: 100%|██████████| 108/108 [00:00<?, ?it/s]\n",
      "                 Class     Images  Instances      Box(P          R      mAP50  mAP50-95)     Mask(P          R      mAP50  mAP50-95): 100%|██████████| 7/7 [00:21<00:00,  3.09s/it]\n"
     ]
    },
    {
     "name": "stdout",
     "output_type": "stream",
     "text": [
      "                   all        108      12091      0.869      0.772      0.832      0.527       0.87      0.757      0.819      0.476\n",
      "Speed: 0.2ms preprocess, 15.6ms inference, 0.0ms loss, 3.9ms postprocess per image\n",
      "Results saved to \u001b[1mruns/segment/val378\u001b[0m\n",
      "Ultralytics YOLOv8.2.70 🚀 Python-3.8.10 torch-2.2.1+cu121 CUDA:0 (Quadro RTX 8000, 48585MiB)\n",
      "YOLOv8m-seg summary (fused): 245 layers, 27,222,963 parameters, 0 gradients, 110.0 GFLOPs\n"
     ]
    },
    {
     "name": "stderr",
     "output_type": "stream",
     "text": [
      "\u001b[34m\u001b[1mval: \u001b[0mScanning /home/kamenan/Documents/Stage Dev Deep Learning/YOLOV8 evaluation/cellpose_data/yolo_dataset/valid/labels.cache... 108 images, 0 backgrounds, 0 corrupt: 100%|██████████| 108/108 [00:00<?, ?it/s]\n",
      "                 Class     Images  Instances      Box(P          R      mAP50  mAP50-95)     Mask(P          R      mAP50  mAP50-95): 100%|██████████| 7/7 [00:21<00:00,  3.06s/it]\n"
     ]
    },
    {
     "name": "stdout",
     "output_type": "stream",
     "text": [
      "                   all        108      12091      0.873      0.769      0.831      0.527       0.87      0.756      0.818      0.476\n",
      "Speed: 1.5ms preprocess, 22.6ms inference, 0.0ms loss, 5.1ms postprocess per image\n",
      "Results saved to \u001b[1mruns/segment/val379\u001b[0m\n",
      "Ultralytics YOLOv8.2.70 🚀 Python-3.8.10 torch-2.2.1+cu121 CUDA:0 (Quadro RTX 8000, 48585MiB)\n",
      "YOLOv8m-seg summary (fused): 245 layers, 27,222,963 parameters, 0 gradients, 110.0 GFLOPs\n"
     ]
    },
    {
     "name": "stderr",
     "output_type": "stream",
     "text": [
      "\u001b[34m\u001b[1mval: \u001b[0mScanning /home/kamenan/Documents/Stage Dev Deep Learning/YOLOV8 evaluation/cellpose_data/yolo_dataset/valid/labels.cache... 108 images, 0 backgrounds, 0 corrupt: 100%|██████████| 108/108 [00:00<?, ?it/s]\n",
      "                 Class     Images  Instances      Box(P          R      mAP50  mAP50-95)     Mask(P          R      mAP50  mAP50-95): 100%|██████████| 7/7 [02:03<00:00, 17.70s/it]\n"
     ]
    },
    {
     "name": "stdout",
     "output_type": "stream",
     "text": [
      "                   all        108      12091      0.872      0.769      0.831      0.527      0.872      0.754      0.818      0.475\n",
      "Speed: 0.3ms preprocess, 11.1ms inference, 0.0ms loss, 6.0ms postprocess per image\n",
      "Results saved to \u001b[1mruns/segment/val380\u001b[0m\n",
      "Ultralytics YOLOv8.2.70 🚀 Python-3.8.10 torch-2.2.1+cu121 CUDA:0 (Quadro RTX 8000, 48585MiB)\n",
      "YOLOv8m-seg summary (fused): 245 layers, 27,222,963 parameters, 0 gradients, 110.0 GFLOPs\n"
     ]
    },
    {
     "name": "stderr",
     "output_type": "stream",
     "text": [
      "\u001b[34m\u001b[1mval: \u001b[0mScanning /home/kamenan/Documents/Stage Dev Deep Learning/YOLOV8 evaluation/cellpose_data/yolo_dataset/valid/labels.cache... 108 images, 0 backgrounds, 0 corrupt: 100%|██████████| 108/108 [00:00<?, ?it/s]\n",
      "                 Class     Images  Instances      Box(P          R      mAP50  mAP50-95)     Mask(P          R      mAP50  mAP50-95): 100%|██████████| 7/7 [00:22<00:00,  3.21s/it]\n"
     ]
    },
    {
     "name": "stdout",
     "output_type": "stream",
     "text": [
      "                   all        108      12091      0.871      0.766       0.83      0.527      0.871      0.754      0.817      0.475\n",
      "Speed: 0.2ms preprocess, 12.5ms inference, 0.0ms loss, 5.4ms postprocess per image\n",
      "Results saved to \u001b[1mruns/segment/val381\u001b[0m\n",
      "Ultralytics YOLOv8.2.70 🚀 Python-3.8.10 torch-2.2.1+cu121 CUDA:0 (Quadro RTX 8000, 48585MiB)\n",
      "YOLOv8m-seg summary (fused): 245 layers, 27,222,963 parameters, 0 gradients, 110.0 GFLOPs\n"
     ]
    },
    {
     "name": "stderr",
     "output_type": "stream",
     "text": [
      "\u001b[34m\u001b[1mval: \u001b[0mScanning /home/kamenan/Documents/Stage Dev Deep Learning/YOLOV8 evaluation/cellpose_data/yolo_dataset/valid/labels.cache... 108 images, 0 backgrounds, 0 corrupt: 100%|██████████| 108/108 [00:00<?, ?it/s]\n",
      "                 Class     Images  Instances      Box(P          R      mAP50  mAP50-95)     Mask(P          R      mAP50  mAP50-95): 100%|██████████| 7/7 [00:20<00:00,  2.90s/it]\n"
     ]
    },
    {
     "name": "stdout",
     "output_type": "stream",
     "text": [
      "                   all        108      12091      0.872      0.765      0.829      0.526       0.87      0.754      0.816      0.475\n",
      "Speed: 0.6ms preprocess, 11.4ms inference, 0.0ms loss, 11.0ms postprocess per image\n",
      "Results saved to \u001b[1mruns/segment/val382\u001b[0m\n",
      "Ultralytics YOLOv8.2.70 🚀 Python-3.8.10 torch-2.2.1+cu121 CUDA:0 (Quadro RTX 8000, 48585MiB)\n",
      "YOLOv8m-seg summary (fused): 245 layers, 27,222,963 parameters, 0 gradients, 110.0 GFLOPs\n"
     ]
    },
    {
     "name": "stderr",
     "output_type": "stream",
     "text": [
      "\u001b[34m\u001b[1mval: \u001b[0mScanning /home/kamenan/Documents/Stage Dev Deep Learning/YOLOV8 evaluation/cellpose_data/yolo_dataset/valid/labels.cache... 108 images, 0 backgrounds, 0 corrupt: 100%|██████████| 108/108 [00:00<?, ?it/s]\n",
      "                 Class     Images  Instances      Box(P          R      mAP50  mAP50-95)     Mask(P          R      mAP50  mAP50-95): 100%|██████████| 7/7 [00:21<00:00,  3.07s/it]\n"
     ]
    },
    {
     "name": "stdout",
     "output_type": "stream",
     "text": [
      "                   all        108      12091      0.874      0.761      0.828      0.526      0.871       0.75      0.815      0.474\n",
      "Speed: 0.2ms preprocess, 16.9ms inference, 0.0ms loss, 19.8ms postprocess per image\n",
      "Results saved to \u001b[1mruns/segment/val383\u001b[0m\n",
      "Ultralytics YOLOv8.2.70 🚀 Python-3.8.10 torch-2.2.1+cu121 CUDA:0 (Quadro RTX 8000, 48585MiB)\n",
      "YOLOv8m-seg summary (fused): 245 layers, 27,222,963 parameters, 0 gradients, 110.0 GFLOPs\n"
     ]
    },
    {
     "name": "stderr",
     "output_type": "stream",
     "text": [
      "\u001b[34m\u001b[1mval: \u001b[0mScanning /home/kamenan/Documents/Stage Dev Deep Learning/YOLOV8 evaluation/cellpose_data/yolo_dataset/valid/labels.cache... 108 images, 0 backgrounds, 0 corrupt: 100%|██████████| 108/108 [00:00<?, ?it/s]\n",
      "                 Class     Images  Instances      Box(P          R      mAP50  mAP50-95)     Mask(P          R      mAP50  mAP50-95): 100%|██████████| 7/7 [00:20<00:00,  2.97s/it]\n"
     ]
    },
    {
     "name": "stdout",
     "output_type": "stream",
     "text": [
      "                   all        108      12091      0.874      0.759      0.826      0.525      0.872      0.748      0.814      0.474\n",
      "Speed: 0.4ms preprocess, 14.0ms inference, 0.0ms loss, 6.7ms postprocess per image\n",
      "Results saved to \u001b[1mruns/segment/val384\u001b[0m\n",
      "Ultralytics YOLOv8.2.70 🚀 Python-3.8.10 torch-2.2.1+cu121 CUDA:0 (Quadro RTX 8000, 48585MiB)\n",
      "YOLOv8m-seg summary (fused): 245 layers, 27,222,963 parameters, 0 gradients, 110.0 GFLOPs\n"
     ]
    },
    {
     "name": "stderr",
     "output_type": "stream",
     "text": [
      "\u001b[34m\u001b[1mval: \u001b[0mScanning /home/kamenan/Documents/Stage Dev Deep Learning/YOLOV8 evaluation/cellpose_data/yolo_dataset/valid/labels.cache... 108 images, 0 backgrounds, 0 corrupt: 100%|██████████| 108/108 [00:00<?, ?it/s]\n",
      "                 Class     Images  Instances      Box(P          R      mAP50  mAP50-95)     Mask(P          R      mAP50  mAP50-95): 100%|██████████| 7/7 [00:20<00:00,  2.86s/it]\n"
     ]
    },
    {
     "name": "stdout",
     "output_type": "stream",
     "text": [
      "                   all        108      12091      0.875      0.756      0.824      0.525      0.872      0.746      0.813      0.474\n",
      "Speed: 2.3ms preprocess, 18.0ms inference, 0.0ms loss, 5.9ms postprocess per image\n",
      "Results saved to \u001b[1mruns/segment/val385\u001b[0m\n",
      "Ultralytics YOLOv8.2.70 🚀 Python-3.8.10 torch-2.2.1+cu121 CUDA:0 (Quadro RTX 8000, 48585MiB)\n",
      "YOLOv8m-seg summary (fused): 245 layers, 27,222,963 parameters, 0 gradients, 110.0 GFLOPs\n"
     ]
    },
    {
     "name": "stderr",
     "output_type": "stream",
     "text": [
      "\u001b[34m\u001b[1mval: \u001b[0mScanning /home/kamenan/Documents/Stage Dev Deep Learning/YOLOV8 evaluation/cellpose_data/yolo_dataset/valid/labels.cache... 108 images, 0 backgrounds, 0 corrupt: 100%|██████████| 108/108 [00:00<?, ?it/s]\n",
      "                 Class     Images  Instances      Box(P          R      mAP50  mAP50-95)     Mask(P          R      mAP50  mAP50-95): 100%|██████████| 7/7 [00:21<00:00,  3.07s/it]\n"
     ]
    },
    {
     "name": "stdout",
     "output_type": "stream",
     "text": [
      "                   all        108      12091      0.875      0.754      0.823      0.525      0.873      0.742      0.812      0.473\n",
      "Speed: 1.4ms preprocess, 16.3ms inference, 0.0ms loss, 3.1ms postprocess per image\n",
      "Results saved to \u001b[1mruns/segment/val386\u001b[0m\n",
      "Ultralytics YOLOv8.2.70 🚀 Python-3.8.10 torch-2.2.1+cu121 CUDA:0 (Quadro RTX 8000, 48585MiB)\n",
      "YOLOv8m-seg summary (fused): 245 layers, 27,222,963 parameters, 0 gradients, 110.0 GFLOPs\n"
     ]
    },
    {
     "name": "stderr",
     "output_type": "stream",
     "text": [
      "\u001b[34m\u001b[1mval: \u001b[0mScanning /home/kamenan/Documents/Stage Dev Deep Learning/YOLOV8 evaluation/cellpose_data/yolo_dataset/valid/labels.cache... 108 images, 0 backgrounds, 0 corrupt: 100%|██████████| 108/108 [00:00<?, ?it/s]\n",
      "                 Class     Images  Instances      Box(P          R      mAP50  mAP50-95)     Mask(P          R      mAP50  mAP50-95): 100%|██████████| 7/7 [00:20<00:00,  2.93s/it]\n"
     ]
    },
    {
     "name": "stdout",
     "output_type": "stream",
     "text": [
      "                   all        108      12091      0.877      0.749      0.822      0.524      0.872      0.741      0.811      0.473\n",
      "Speed: 0.3ms preprocess, 15.4ms inference, 0.0ms loss, 3.9ms postprocess per image\n",
      "Results saved to \u001b[1mruns/segment/val387\u001b[0m\n",
      "Ultralytics YOLOv8.2.70 🚀 Python-3.8.10 torch-2.2.1+cu121 CUDA:0 (Quadro RTX 8000, 48585MiB)\n",
      "YOLOv8m-seg summary (fused): 245 layers, 27,222,963 parameters, 0 gradients, 110.0 GFLOPs\n"
     ]
    },
    {
     "name": "stderr",
     "output_type": "stream",
     "text": [
      "\u001b[34m\u001b[1mval: \u001b[0mScanning /home/kamenan/Documents/Stage Dev Deep Learning/YOLOV8 evaluation/cellpose_data/yolo_dataset/valid/labels.cache... 108 images, 0 backgrounds, 0 corrupt: 100%|██████████| 108/108 [00:00<?, ?it/s]\n",
      "                 Class     Images  Instances      Box(P          R      mAP50  mAP50-95)     Mask(P          R      mAP50  mAP50-95): 100%|██████████| 7/7 [00:20<00:00,  2.95s/it]\n"
     ]
    },
    {
     "name": "stdout",
     "output_type": "stream",
     "text": [
      "                   all        108      12091      0.877      0.746       0.82      0.524      0.869      0.739      0.809      0.472\n",
      "Speed: 2.3ms preprocess, 12.2ms inference, 0.0ms loss, 8.9ms postprocess per image\n",
      "Results saved to \u001b[1mruns/segment/val388\u001b[0m\n",
      "Ultralytics YOLOv8.2.70 🚀 Python-3.8.10 torch-2.2.1+cu121 CUDA:0 (Quadro RTX 8000, 48585MiB)\n",
      "YOLOv8m-seg summary (fused): 245 layers, 27,222,963 parameters, 0 gradients, 110.0 GFLOPs\n"
     ]
    },
    {
     "name": "stderr",
     "output_type": "stream",
     "text": [
      "\u001b[34m\u001b[1mval: \u001b[0mScanning /home/kamenan/Documents/Stage Dev Deep Learning/YOLOV8 evaluation/cellpose_data/yolo_dataset/valid/labels.cache... 108 images, 0 backgrounds, 0 corrupt: 100%|██████████| 108/108 [00:00<?, ?it/s]\n",
      "                 Class     Images  Instances      Box(P          R      mAP50  mAP50-95)     Mask(P          R      mAP50  mAP50-95): 100%|██████████| 7/7 [00:18<00:00,  2.66s/it]\n"
     ]
    },
    {
     "name": "stdout",
     "output_type": "stream",
     "text": [
      "                   all        108      12091      0.875      0.744      0.817      0.523      0.867      0.736      0.806      0.472\n",
      "Speed: 0.2ms preprocess, 14.1ms inference, 0.0ms loss, 7.1ms postprocess per image\n",
      "Results saved to \u001b[1mruns/segment/val389\u001b[0m\n",
      "Ultralytics YOLOv8.2.70 🚀 Python-3.8.10 torch-2.2.1+cu121 CUDA:0 (Quadro RTX 8000, 48585MiB)\n",
      "YOLOv8m-seg summary (fused): 245 layers, 27,222,963 parameters, 0 gradients, 110.0 GFLOPs\n"
     ]
    },
    {
     "name": "stderr",
     "output_type": "stream",
     "text": [
      "\u001b[34m\u001b[1mval: \u001b[0mScanning /home/kamenan/Documents/Stage Dev Deep Learning/YOLOV8 evaluation/cellpose_data/yolo_dataset/valid/labels.cache... 108 images, 0 backgrounds, 0 corrupt: 100%|██████████| 108/108 [00:00<?, ?it/s]\n",
      "                 Class     Images  Instances      Box(P          R      mAP50  mAP50-95)     Mask(P          R      mAP50  mAP50-95): 100%|██████████| 7/7 [00:22<00:00,  3.24s/it]\n"
     ]
    },
    {
     "name": "stdout",
     "output_type": "stream",
     "text": [
      "                   all        108      12091      0.873      0.742      0.815      0.522      0.868      0.734      0.804      0.471\n",
      "Speed: 0.5ms preprocess, 11.4ms inference, 0.0ms loss, 10.0ms postprocess per image\n",
      "Results saved to \u001b[1mruns/segment/val390\u001b[0m\n",
      "Ultralytics YOLOv8.2.70 🚀 Python-3.8.10 torch-2.2.1+cu121 CUDA:0 (Quadro RTX 8000, 48585MiB)\n",
      "YOLOv8m-seg summary (fused): 245 layers, 27,222,963 parameters, 0 gradients, 110.0 GFLOPs\n"
     ]
    },
    {
     "name": "stderr",
     "output_type": "stream",
     "text": [
      "\u001b[34m\u001b[1mval: \u001b[0mScanning /home/kamenan/Documents/Stage Dev Deep Learning/YOLOV8 evaluation/cellpose_data/yolo_dataset/valid/labels.cache... 108 images, 0 backgrounds, 0 corrupt: 100%|██████████| 108/108 [00:00<?, ?it/s]\n",
      "                 Class     Images  Instances      Box(P          R      mAP50  mAP50-95)     Mask(P          R      mAP50  mAP50-95): 100%|██████████| 7/7 [00:21<00:00,  3.02s/it]\n"
     ]
    },
    {
     "name": "stdout",
     "output_type": "stream",
     "text": [
      "                   all        108      12091       0.87       0.74      0.811      0.521      0.865      0.731      0.802       0.47\n",
      "Speed: 0.5ms preprocess, 12.7ms inference, 0.0ms loss, 11.4ms postprocess per image\n",
      "Results saved to \u001b[1mruns/segment/val391\u001b[0m\n",
      "Ultralytics YOLOv8.2.70 🚀 Python-3.8.10 torch-2.2.1+cu121 CUDA:0 (Quadro RTX 8000, 48585MiB)\n",
      "YOLOv8m-seg summary (fused): 245 layers, 27,222,963 parameters, 0 gradients, 110.0 GFLOPs\n"
     ]
    },
    {
     "name": "stderr",
     "output_type": "stream",
     "text": [
      "\u001b[34m\u001b[1mval: \u001b[0mScanning /home/kamenan/Documents/Stage Dev Deep Learning/YOLOV8 evaluation/cellpose_data/yolo_dataset/valid/labels.cache... 108 images, 0 backgrounds, 0 corrupt: 100%|██████████| 108/108 [00:00<?, ?it/s]\n",
      "                 Class     Images  Instances      Box(P          R      mAP50  mAP50-95)     Mask(P          R      mAP50  mAP50-95): 100%|██████████| 7/7 [00:20<00:00,  2.95s/it]\n"
     ]
    },
    {
     "name": "stdout",
     "output_type": "stream",
     "text": [
      "                   all        108      12091      0.869      0.734      0.808      0.519      0.863      0.726      0.798      0.469\n",
      "Speed: 0.3ms preprocess, 15.3ms inference, 0.0ms loss, 9.0ms postprocess per image\n",
      "Results saved to \u001b[1mruns/segment/val392\u001b[0m\n",
      "Ultralytics YOLOv8.2.70 🚀 Python-3.8.10 torch-2.2.1+cu121 CUDA:0 (Quadro RTX 8000, 48585MiB)\n",
      "YOLOv8m-seg summary (fused): 245 layers, 27,222,963 parameters, 0 gradients, 110.0 GFLOPs\n"
     ]
    },
    {
     "name": "stderr",
     "output_type": "stream",
     "text": [
      "\u001b[34m\u001b[1mval: \u001b[0mScanning /home/kamenan/Documents/Stage Dev Deep Learning/YOLOV8 evaluation/cellpose_data/yolo_dataset/valid/labels.cache... 108 images, 0 backgrounds, 0 corrupt: 100%|██████████| 108/108 [00:00<?, ?it/s]\n",
      "                 Class     Images  Instances      Box(P          R      mAP50  mAP50-95)     Mask(P          R      mAP50  mAP50-95): 100%|██████████| 7/7 [00:20<00:00,  3.00s/it]\n"
     ]
    },
    {
     "name": "stdout",
     "output_type": "stream",
     "text": [
      "                   all        108      12091      0.864      0.729      0.804      0.518      0.859       0.72      0.794      0.467\n",
      "Speed: 0.2ms preprocess, 18.5ms inference, 0.0ms loss, 7.3ms postprocess per image\n",
      "Results saved to \u001b[1mruns/segment/val393\u001b[0m\n",
      "Ultralytics YOLOv8.2.70 🚀 Python-3.8.10 torch-2.2.1+cu121 CUDA:0 (Quadro RTX 8000, 48585MiB)\n",
      "YOLOv8m-seg summary (fused): 245 layers, 27,222,963 parameters, 0 gradients, 110.0 GFLOPs\n"
     ]
    },
    {
     "name": "stderr",
     "output_type": "stream",
     "text": [
      "\u001b[34m\u001b[1mval: \u001b[0mScanning /home/kamenan/Documents/Stage Dev Deep Learning/YOLOV8 evaluation/cellpose_data/yolo_dataset/valid/labels.cache... 108 images, 0 backgrounds, 0 corrupt: 100%|██████████| 108/108 [00:00<?, ?it/s]\n",
      "                 Class     Images  Instances      Box(P          R      mAP50  mAP50-95)     Mask(P          R      mAP50  mAP50-95): 100%|██████████| 7/7 [00:23<00:00,  3.39s/it]\n"
     ]
    },
    {
     "name": "stdout",
     "output_type": "stream",
     "text": [
      "                   all        108      12091      0.857      0.721      0.798      0.515      0.854      0.712      0.789      0.465\n",
      "Speed: 1.5ms preprocess, 12.0ms inference, 0.0ms loss, 25.1ms postprocess per image\n",
      "Results saved to \u001b[1mruns/segment/val394\u001b[0m\n",
      "Ultralytics YOLOv8.2.70 🚀 Python-3.8.10 torch-2.2.1+cu121 CUDA:0 (Quadro RTX 8000, 48585MiB)\n",
      "YOLOv8m-seg summary (fused): 245 layers, 27,222,963 parameters, 0 gradients, 110.0 GFLOPs\n"
     ]
    },
    {
     "name": "stderr",
     "output_type": "stream",
     "text": [
      "\u001b[34m\u001b[1mval: \u001b[0mScanning /home/kamenan/Documents/Stage Dev Deep Learning/YOLOV8 evaluation/cellpose_data/yolo_dataset/valid/labels.cache... 108 images, 0 backgrounds, 0 corrupt: 100%|██████████| 108/108 [00:00<?, ?it/s]\n",
      "                 Class     Images  Instances      Box(P          R      mAP50  mAP50-95)     Mask(P          R      mAP50  mAP50-95): 100%|██████████| 7/7 [00:20<00:00,  2.94s/it]\n"
     ]
    },
    {
     "name": "stdout",
     "output_type": "stream",
     "text": [
      "                   all        108      12091      0.843      0.716       0.79      0.512      0.841      0.708      0.782      0.462\n",
      "Speed: 0.2ms preprocess, 14.8ms inference, 0.0ms loss, 10.3ms postprocess per image\n",
      "Results saved to \u001b[1mruns/segment/val395\u001b[0m\n",
      "Ultralytics YOLOv8.2.70 🚀 Python-3.8.10 torch-2.2.1+cu121 CUDA:0 (Quadro RTX 8000, 48585MiB)\n",
      "YOLOv8m-seg summary (fused): 245 layers, 27,222,963 parameters, 0 gradients, 110.0 GFLOPs\n"
     ]
    },
    {
     "name": "stderr",
     "output_type": "stream",
     "text": [
      "\u001b[34m\u001b[1mval: \u001b[0mScanning /home/kamenan/Documents/Stage Dev Deep Learning/YOLOV8 evaluation/cellpose_data/yolo_dataset/valid/labels.cache... 108 images, 0 backgrounds, 0 corrupt: 100%|██████████| 108/108 [00:00<?, ?it/s]\n",
      "                 Class     Images  Instances      Box(P          R      mAP50  mAP50-95)     Mask(P          R      mAP50  mAP50-95): 100%|██████████| 7/7 [00:21<00:00,  3.11s/it]\n"
     ]
    },
    {
     "name": "stdout",
     "output_type": "stream",
     "text": [
      "                   all        108      12091      0.832      0.705      0.781      0.508      0.832      0.697      0.773      0.459\n",
      "Speed: 0.6ms preprocess, 13.2ms inference, 0.0ms loss, 15.6ms postprocess per image\n",
      "Results saved to \u001b[1mruns/segment/val396\u001b[0m\n",
      "Ultralytics YOLOv8.2.70 🚀 Python-3.8.10 torch-2.2.1+cu121 CUDA:0 (Quadro RTX 8000, 48585MiB)\n",
      "YOLOv8m-seg summary (fused): 245 layers, 27,222,963 parameters, 0 gradients, 110.0 GFLOPs\n"
     ]
    },
    {
     "name": "stderr",
     "output_type": "stream",
     "text": [
      "\u001b[34m\u001b[1mval: \u001b[0mScanning /home/kamenan/Documents/Stage Dev Deep Learning/YOLOV8 evaluation/cellpose_data/yolo_dataset/valid/labels.cache... 108 images, 0 backgrounds, 0 corrupt: 100%|██████████| 108/108 [00:00<?, ?it/s]\n",
      "                 Class     Images  Instances      Box(P          R      mAP50  mAP50-95)     Mask(P          R      mAP50  mAP50-95): 100%|██████████| 7/7 [00:21<00:00,  3.03s/it]\n"
     ]
    },
    {
     "name": "stdout",
     "output_type": "stream",
     "text": [
      "                   all        108      12091      0.817       0.69      0.766      0.501      0.817      0.684      0.759      0.453\n",
      "Speed: 0.2ms preprocess, 16.0ms inference, 0.0ms loss, 14.1ms postprocess per image\n",
      "Results saved to \u001b[1mruns/segment/val397\u001b[0m\n",
      "Ultralytics YOLOv8.2.70 🚀 Python-3.8.10 torch-2.2.1+cu121 CUDA:0 (Quadro RTX 8000, 48585MiB)\n",
      "YOLOv8m-seg summary (fused): 245 layers, 27,222,963 parameters, 0 gradients, 110.0 GFLOPs\n"
     ]
    },
    {
     "name": "stderr",
     "output_type": "stream",
     "text": [
      "\u001b[34m\u001b[1mval: \u001b[0mScanning /home/kamenan/Documents/Stage Dev Deep Learning/YOLOV8 evaluation/cellpose_data/yolo_dataset/valid/labels.cache... 108 images, 0 backgrounds, 0 corrupt: 100%|██████████| 108/108 [00:00<?, ?it/s]\n",
      "                 Class     Images  Instances      Box(P          R      mAP50  mAP50-95)     Mask(P          R      mAP50  mAP50-95): 100%|██████████| 7/7 [00:24<00:00,  3.49s/it]\n"
     ]
    },
    {
     "name": "stdout",
     "output_type": "stream",
     "text": [
      "                   all        108      12091      0.801      0.669      0.749      0.493      0.799      0.663      0.742      0.446\n",
      "Speed: 1.0ms preprocess, 10.4ms inference, 0.0ms loss, 10.1ms postprocess per image\n",
      "Results saved to \u001b[1mruns/segment/val398\u001b[0m\n",
      "Ultralytics YOLOv8.2.70 🚀 Python-3.8.10 torch-2.2.1+cu121 CUDA:0 (Quadro RTX 8000, 48585MiB)\n",
      "YOLOv8m-seg summary (fused): 245 layers, 27,222,963 parameters, 0 gradients, 110.0 GFLOPs\n"
     ]
    },
    {
     "name": "stderr",
     "output_type": "stream",
     "text": [
      "\u001b[34m\u001b[1mval: \u001b[0mScanning /home/kamenan/Documents/Stage Dev Deep Learning/YOLOV8 evaluation/cellpose_data/yolo_dataset/valid/labels.cache... 108 images, 0 backgrounds, 0 corrupt: 100%|██████████| 108/108 [00:00<?, ?it/s]\n",
      "                 Class     Images  Instances      Box(P          R      mAP50  mAP50-95)     Mask(P          R      mAP50  mAP50-95): 100%|██████████| 7/7 [00:21<00:00,  3.09s/it]\n"
     ]
    },
    {
     "name": "stdout",
     "output_type": "stream",
     "text": [
      "                   all        108      12091       0.77       0.65      0.725      0.481      0.772      0.642       0.72      0.437\n",
      "Speed: 0.3ms preprocess, 23.1ms inference, 0.1ms loss, 6.7ms postprocess per image\n",
      "Results saved to \u001b[1mruns/segment/val399\u001b[0m\n",
      "Ultralytics YOLOv8.2.70 🚀 Python-3.8.10 torch-2.2.1+cu121 CUDA:0 (Quadro RTX 8000, 48585MiB)\n",
      "YOLOv8m-seg summary (fused): 245 layers, 27,222,963 parameters, 0 gradients, 110.0 GFLOPs\n"
     ]
    },
    {
     "name": "stderr",
     "output_type": "stream",
     "text": [
      "\u001b[34m\u001b[1mval: \u001b[0mScanning /home/kamenan/Documents/Stage Dev Deep Learning/YOLOV8 evaluation/cellpose_data/yolo_dataset/valid/labels.cache... 108 images, 0 backgrounds, 0 corrupt: 100%|██████████| 108/108 [00:00<?, ?it/s]\n",
      "                 Class     Images  Instances      Box(P          R      mAP50  mAP50-95)     Mask(P          R      mAP50  mAP50-95): 100%|██████████| 7/7 [00:21<00:00,  3.08s/it]\n"
     ]
    },
    {
     "name": "stdout",
     "output_type": "stream",
     "text": [
      "                   all        108      12091       0.72      0.629      0.689      0.462      0.723      0.623      0.684      0.421\n",
      "Speed: 0.7ms preprocess, 10.1ms inference, 0.0ms loss, 10.8ms postprocess per image\n",
      "Results saved to \u001b[1mruns/segment/val400\u001b[0m\n",
      "Ultralytics YOLOv8.2.70 🚀 Python-3.8.10 torch-2.2.1+cu121 CUDA:0 (Quadro RTX 8000, 48585MiB)\n",
      "YOLOv8m-seg summary (fused): 245 layers, 27,222,963 parameters, 0 gradients, 110.0 GFLOPs\n"
     ]
    },
    {
     "name": "stderr",
     "output_type": "stream",
     "text": [
      "\u001b[34m\u001b[1mval: \u001b[0mScanning /home/kamenan/Documents/Stage Dev Deep Learning/YOLOV8 evaluation/cellpose_data/yolo_dataset/valid/labels.cache... 108 images, 0 backgrounds, 0 corrupt: 100%|██████████| 108/108 [00:00<?, ?it/s]\n",
      "                 Class     Images  Instances      Box(P          R      mAP50  mAP50-95)     Mask(P          R      mAP50  mAP50-95): 100%|██████████| 7/7 [00:22<00:00,  3.25s/it]\n"
     ]
    },
    {
     "name": "stdout",
     "output_type": "stream",
     "text": [
      "                   all        108      12091      0.653      0.597      0.632      0.432      0.658      0.591       0.63      0.394\n",
      "Speed: 0.2ms preprocess, 10.9ms inference, 0.0ms loss, 2.9ms postprocess per image\n",
      "Results saved to \u001b[1mruns/segment/val401\u001b[0m\n",
      "Ultralytics YOLOv8.2.70 🚀 Python-3.8.10 torch-2.2.1+cu121 CUDA:0 (Quadro RTX 8000, 48585MiB)\n",
      "YOLOv8m-seg summary (fused): 245 layers, 27,222,963 parameters, 0 gradients, 110.0 GFLOPs\n"
     ]
    },
    {
     "name": "stderr",
     "output_type": "stream",
     "text": [
      "\u001b[34m\u001b[1mval: \u001b[0mScanning /home/kamenan/Documents/Stage Dev Deep Learning/YOLOV8 evaluation/cellpose_data/yolo_dataset/valid/labels.cache... 108 images, 0 backgrounds, 0 corrupt: 100%|██████████| 108/108 [00:00<?, ?it/s]\n",
      "                 Class     Images  Instances      Box(P          R      mAP50  mAP50-95)     Mask(P          R      mAP50  mAP50-95): 100%|██████████| 7/7 [00:20<00:00,  2.99s/it]\n"
     ]
    },
    {
     "name": "stdout",
     "output_type": "stream",
     "text": [
      "                   all        108      12091       0.56      0.552      0.542      0.379      0.561      0.553      0.541      0.348\n",
      "Speed: 0.2ms preprocess, 13.3ms inference, 0.0ms loss, 26.9ms postprocess per image\n",
      "Results saved to \u001b[1mruns/segment/val402\u001b[0m\n",
      "Ultralytics YOLOv8.2.70 🚀 Python-3.8.10 torch-2.2.1+cu121 CUDA:0 (Quadro RTX 8000, 48585MiB)\n",
      "YOLOv8m-seg summary (fused): 245 layers, 27,222,963 parameters, 0 gradients, 110.0 GFLOPs\n"
     ]
    },
    {
     "name": "stderr",
     "output_type": "stream",
     "text": [
      "\u001b[34m\u001b[1mval: \u001b[0mScanning /home/kamenan/Documents/Stage Dev Deep Learning/YOLOV8 evaluation/cellpose_data/yolo_dataset/valid/labels.cache... 108 images, 0 backgrounds, 0 corrupt: 100%|██████████| 108/108 [00:00<?, ?it/s]\n",
      "                 Class     Images  Instances      Box(P          R      mAP50  mAP50-95)     Mask(P          R      mAP50  mAP50-95): 100%|██████████| 7/7 [00:21<00:00,  3.06s/it]\n"
     ]
    },
    {
     "name": "stdout",
     "output_type": "stream",
     "text": [
      "                   all        108      12091      0.427      0.507      0.412      0.296      0.427      0.511      0.412      0.273\n",
      "Speed: 0.8ms preprocess, 11.6ms inference, 0.0ms loss, 18.7ms postprocess per image\n",
      "Results saved to \u001b[1mruns/segment/val403\u001b[0m\n",
      "Ultralytics YOLOv8.2.70 🚀 Python-3.8.10 torch-2.2.1+cu121 CUDA:0 (Quadro RTX 8000, 48585MiB)\n",
      "YOLOv8m-seg summary (fused): 245 layers, 27,222,963 parameters, 0 gradients, 110.0 GFLOPs\n"
     ]
    },
    {
     "name": "stderr",
     "output_type": "stream",
     "text": [
      "\u001b[34m\u001b[1mval: \u001b[0mScanning /home/kamenan/Documents/Stage Dev Deep Learning/YOLOV8 evaluation/cellpose_data/yolo_dataset/valid/labels.cache... 108 images, 0 backgrounds, 0 corrupt: 100%|██████████| 108/108 [00:00<?, ?it/s]\n",
      "                 Class     Images  Instances      Box(P          R      mAP50  mAP50-95)     Mask(P          R      mAP50  mAP50-95): 100%|██████████| 7/7 [00:21<00:00,  3.06s/it]\n"
     ]
    },
    {
     "name": "stdout",
     "output_type": "stream",
     "text": [
      "                   all        108      12091      0.292      0.457      0.268        0.2      0.291      0.461      0.268      0.184\n",
      "Speed: 0.2ms preprocess, 21.5ms inference, 0.1ms loss, 15.0ms postprocess per image\n",
      "Results saved to \u001b[1mruns/segment/val404\u001b[0m\n",
      "Ultralytics YOLOv8.2.70 🚀 Python-3.8.10 torch-2.2.1+cu121 CUDA:0 (Quadro RTX 8000, 48585MiB)\n",
      "YOLOv8m-seg summary (fused): 245 layers, 27,222,963 parameters, 0 gradients, 110.0 GFLOPs\n"
     ]
    },
    {
     "name": "stderr",
     "output_type": "stream",
     "text": [
      "\u001b[34m\u001b[1mval: \u001b[0mScanning /home/kamenan/Documents/Stage Dev Deep Learning/YOLOV8 evaluation/cellpose_data/yolo_dataset/valid/labels.cache... 108 images, 0 backgrounds, 0 corrupt: 100%|██████████| 108/108 [00:00<?, ?it/s]\n",
      "                 Class     Images  Instances      Box(P          R      mAP50  mAP50-95)     Mask(P          R      mAP50  mAP50-95): 100%|██████████| 7/7 [00:21<00:00,  3.01s/it]\n"
     ]
    },
    {
     "name": "stdout",
     "output_type": "stream",
     "text": [
      "                   all        108      12091      0.194      0.404      0.163      0.125      0.194      0.405      0.163      0.116\n",
      "Speed: 0.2ms preprocess, 11.5ms inference, 0.0ms loss, 10.2ms postprocess per image\n",
      "Results saved to \u001b[1mruns/segment/val405\u001b[0m\n",
      "Ultralytics YOLOv8.2.70 🚀 Python-3.8.10 torch-2.2.1+cu121 CUDA:0 (Quadro RTX 8000, 48585MiB)\n",
      "YOLOv8m-seg summary (fused): 245 layers, 27,222,963 parameters, 0 gradients, 110.0 GFLOPs\n"
     ]
    },
    {
     "name": "stderr",
     "output_type": "stream",
     "text": [
      "\u001b[34m\u001b[1mval: \u001b[0mScanning /home/kamenan/Documents/Stage Dev Deep Learning/YOLOV8 evaluation/cellpose_data/yolo_dataset/valid/labels.cache... 108 images, 0 backgrounds, 0 corrupt: 100%|██████████| 108/108 [00:00<?, ?it/s]\n",
      "                 Class     Images  Instances      Box(P          R      mAP50  mAP50-95)     Mask(P          R      mAP50  mAP50-95): 100%|██████████| 7/7 [00:20<00:00,  2.90s/it]\n"
     ]
    },
    {
     "name": "stdout",
     "output_type": "stream",
     "text": [
      "                   all        108      12091      0.176      0.389      0.141      0.109      0.176      0.389      0.141      0.101\n",
      "Speed: 0.2ms preprocess, 10.4ms inference, 0.0ms loss, 6.2ms postprocess per image\n",
      "Results saved to \u001b[1mruns/segment/val406\u001b[0m\n"
     ]
    }
   ],
   "source": [
    "jac_idx, precision, recall = eval(model=\"yolo_dataset/results/125l_epochs_FocalLpsse/weights/best.pt\", data_dir=\"yolo_dataset/data.yaml\", ious=np.linspace(.5,1,50))"
   ]
  },
  {
   "cell_type": "markdown",
   "metadata": {},
   "source": [
    "### Evaluation medium model with best paramters from fine-tuning"
   ]
  },
  {
   "cell_type": "code",
   "execution_count": null,
   "metadata": {},
   "outputs": [],
   "source": [
    "%matplotlib inline\n",
    "\n",
    "# Différents seuils de iou\n",
    "ious = np.linspace(.5,1,50)\n",
    "\n",
    "# Définir la figure\n",
    "fig, ax = plt.subplots()\n",
    "\n",
    "# Construction de la première figure\n",
    "ax.plot(ious, precision, \"b\")\n",
    "ax.set_xlabel(\"Iou threshold\", fontsize= 14)\n",
    "ax.set_ylabel(\"Precision\", color=\"blue\", fontsize=14)\n",
    "ax.set_ylim([0, 1])\n",
    " \n",
    "# Construction de la seconde\n",
    "ax2 = ax.twinx()\n",
    "ax2.plot(ious, recall, \"r\")\n",
    "ax2.set_ylabel(\"Recall\", color =\"red\", fontsize=14)\n",
    "ax2.set_ylim([0, 1])\n",
    "\n",
    "\n",
    "#Configuration des ligendes\n",
    "lines = [ax.get_lines()[0], ax2.get_lines()[0]]\n",
    "plt.legend(lines, [\"Precision\", \"recall\"], loc=\"lower left\")\n",
    "\n",
    "#Affichage du tout\n",
    "plt.show()"
   ]
  },
  {
   "cell_type": "code",
   "execution_count": 9,
   "metadata": {},
   "outputs": [
    {
     "data": {
      "text/plain": [
       "(0.0, 1.0)"
      ]
     },
     "execution_count": 9,
     "metadata": {},
     "output_type": "execute_result"
    },
    {
     "data": {
      "image/png": "[encoded data removed]",
      "text/plain": [
       "<Figure size 432x288 with 1 Axes>"
      ]
     },
     "metadata": {
      "needs_background": "light"
     },
     "output_type": "display_data"
    }
   ],
   "source": [
    "#Default parameters\n",
    "%matplotlib inline\n",
    "\n",
    "# Différents seuils de iou\n",
    "ious = np.linspace(.5,1,50)\n",
    "\n",
    "# Définir la figure\n",
    "fig, ax = plt.subplots()\n",
    "\n",
    "# Index de Jacard, precision, recall\n",
    "ax.plot(ious, jac_idx, color='green', label=\"Index de Jaccard\")\n",
    "ax.plot(ious, precision, color='blue', label=\"Precision\")\n",
    "ax.plot(ious, recall, color=\"red\", label=\"recall\")\n",
    "ax.legend(loc=\"best\")\n",
    "ax.set_xlabel('iou treshold')\n",
    "ax.set_ylabel(\"metriques\")\n",
    "ax.set_ylim([0,1])"
   ]
  },
  {
   "cell_type": "code",
   "execution_count": 24,
   "metadata": {},
   "outputs": [
    {
     "data": {
      "text/plain": [
       "(0.0, 1.0)"
      ]
     },
     "execution_count": 24,
     "metadata": {},
     "output_type": "execute_result"
    },
    {
     "data": {
      "image/png": "[encoded data removed]",
      "text/plain": [
       "<Figure size 432x288 with 1 Axes>"
      ]
     },
     "metadata": {
      "needs_background": "light"
     },
     "output_type": "display_data"
    }
   ],
   "source": [
    "%matplotlib inline\n",
    "\n",
    "# Différents seuils de iou\n",
    "ious = np.linspace(.5,1,50)\n",
    "\n",
    "# Définir la figure\n",
    "fig, ax = plt.subplots()\n",
    "\n",
    "# Index de Jacard, precision, recall\n",
    "ax.plot(ious, jac_idx, color='green', label=\"Index de jacard\")\n",
    "ax.plot(ious, precision, color='blue', label=\"Precision\")\n",
    "ax.plot(ious, recall, color=\"red\", label=\"recall\")\n",
    "ax.legend(loc=\"best\")\n",
    "ax.set_xlabel('iou treshold')\n",
    "ax.set_ylabel(\"metriques\")\n",
    "ax.set_ylim([0,1])"
   ]
  },
  {
   "cell_type": "markdown",
   "metadata": {},
   "source": [
    "### Evaluation small model with best parameters from fine-tuning"
   ]
  },
  {
   "cell_type": "code",
   "execution_count": null,
   "metadata": {},
   "outputs": [],
   "source": [
    "# Différents euils de iou\n",
    "ious = np.linspace(.5,1,50)\n",
    "\n",
    "# Définir la figure\n",
    "fig, ax = plt.subplots()\n",
    "\n",
    "# Construction de la première figure\n",
    "ax.plot(ious, precision, \"b\")\n",
    "ax.set_xlabel(\"Iou threshold\", fontsize= 14)\n",
    "ax.set_ylabel(\"Precision\", color=\"blue\", fontsize=14)\n",
    " \n",
    "# Construction de la seconde\n",
    "ax2 = ax.twinx()\n",
    "ax2.plot(ious, recall, \"r\")\n",
    "ax2.set_ylabel(\"Recall\", color =\"red\", fontsize=14)\n",
    "\n",
    "#Configuration des ligendes\n",
    "lines = [ax.get_lines()[0], ax2.get_lines()[0]]\n",
    "plt.legend(lines, [\"Precision\", \"recall\"], loc=\"bottom left\")\n",
    "\n",
    "#Affichage du tout\n",
    "plt.show()"
   ]
  },
  {
   "cell_type": "code",
   "execution_count": 15,
   "metadata": {},
   "outputs": [
    {
     "name": "stdout",
     "output_type": "stream",
     "text": [
      "\n",
      "image 1/1 /home/kamenan/Documents/Stage Dev Deep Learning/YOLOV8 evaluation/cellpose_test/images/002_img.png: 480x640 102 Cellulars, 26.0ms\n",
      "Speed: 3.3ms preprocess, 26.0ms inference, 3.4ms postprocess per image at shape (1, 3, 480, 640)\n",
      "Results saved to \u001b[1mruns/segment/predict8\u001b[0m\n"
     ]
    }
   ],
   "source": [
    "model1 = YOLO(\"yolo_dataset/results/125l_dflt_epochs/weights/best.pt\")\n",
    "\n",
    "image = \"/home/kamenan/Documents/Stage Dev Deep Learning/YOLOV8 evaluation/cellpose_test/images/002_img.png\"\n",
    "\n",
    "results = model1.predict(image, conf=0.5, show_labels=False, show_boxes=True, show=True, show_conf=False, save=True)  #Adjust conf threshold"
   ]
  },
  {
   "cell_type": "code",
   "execution_count": 11,
   "metadata": {},
   "outputs": [
    {
     "name": "stdout",
     "output_type": "stream",
     "text": [
      "\n",
      "image 1/1 /home/kamenan/Documents/Stage Dev Deep Learning/YOLOV8 evaluation/cellpose_test/images/002_img.png: 480x640 102 Cellulars, 24.2ms\n",
      "Speed: 3.1ms preprocess, 24.2ms inference, 3.4ms postprocess per image at shape (1, 3, 480, 640)\n"
     ]
    }
   ],
   "source": [
    "from PIL import Image\n",
    "model1 = YOLO(\"yolo_dataset/results/125l_dflt_epochs/weights/best.pt\")\n",
    "\n",
    "image = \"/home/kamenan/Documents/Stage Dev Deep Learning/YOLOV8 evaluation/cellpose_test/images/002_img.png\"\n",
    "\n",
    "#filename=\"yolo_dataset/results/125_epochs_seg_m_tune_best\"\n",
    "results = model1.predict(image, conf=0.5, show_labels=False, show_boxes=False, show_conf=False\n",
    "                          )  #Adjust conf threshold\n",
    "# Visualize the results\n",
    "for i, r in enumerate(results):\n",
    "    # Plot results image\n",
    "    im_bgr = r.plot(labels=False, probs=False)  # BGR-order numpy array\n",
    "    im_rgb = Image.fromarray(im_bgr[..., ::-1])  # RGB-order PIL image\n",
    "\n",
    "    # Show results to screen (in supported environments)\n",
    "    r.show()\n",
    "\n",
    "    # Save results to disk\n",
    "    r.save(filename=f\"yolo_dataset/results/125l_dflt_epochs/002_img_seg.png\")"
   ]
  },
  {
   "cell_type": "code",
   "execution_count": 18,
   "metadata": {},
   "outputs": [],
   "source": [
    "def seg_masks(data_dir: str, image_dir: str, model: str):\n",
    "\n",
    "\n",
    "    # set the current directory to the image directory\n",
    "    #os.chdir(image_dir)\n",
    "\n",
    "    # create segmented masks directory\n",
    "    seg_masks_dir = os.path.join(data_dir, 'seg_masks')\n",
    "    if not os.path.exists(seg_masks_dir):\n",
    "        try:\n",
    "            os.makedirs(seg_masks_dir, exist_ok=True)\n",
    "        except os.error as e:\n",
    "            print(f'Same directory exist:{e}')\n",
    "            exit()\n",
    "    # set the path to the image directory\n",
    "    img_dir = os.path.join(data_dir, image_dir)\n",
    "\n",
    "    # iterate over all files in the test image directory\n",
    "    for file in os.listdir(img_dir):\n",
    "        # contruct full file path\n",
    "        file_path = os.path.join(img_dir, file)\n",
    "\n",
    "        # check if the file is image\n",
    "        if os.path.isfile(file_path) and file.lower().endswith(('.png', '.jpg', '.jpeg', '.gif', '.bmp','.tif', '.tiff')):\n",
    "            # read the image with OpenCV\n",
    "            try:\n",
    "                img = cv2.imread(file_path)\n",
    "                h, w, _ = img.shape\n",
    "            except cv2.error as e:\n",
    "                print(f\"Failed to load image: {e}\")\n",
    "                exit()\n",
    "\n",
    "        # create the YOLOV8 \n",
    "        try:\n",
    "            mdel = YOLO(model)\n",
    "        except Exception as e:\n",
    "            print(f\"Failed to load model: {e}\")\n",
    "            exit()\n",
    "        \n",
    "        # Perform the prediction\n",
    "        img2 = cv2.resize(img, (640,640))\n",
    "        #img2 = cv2.resize(img, (img.shape[1], img.shape[0]))\n",
    "        #imgsz = (img2.shape[0], img2.shape[0])\n",
    "        results = mdel.predict(img2, iou=.5)\n",
    "\n",
    "        if(results[0].masks is not None):\n",
    "            # Get the size of the original image (height, width, channels)\n",
    "            h2, w2, c2 = results[0].orig_img.shape\n",
    "\n",
    "            # Create a black image with the same size as the original image\n",
    "            black_img = np.zeros_like(results[0].orig_img)\n",
    "            black_img = black_img[:,:,0]\n",
    "            \n",
    "            # Create a copy of the original image to layer the masks on\n",
    "            #layered_img = results[0].orig_img.copy()\n",
    "\n",
    "            # Loop over all masks in the results\n",
    "            for i, mask_raw in enumerate(results[0].masks):\n",
    "                # Convert mask to single channel image\n",
    "                mask_raw = mask_raw.cpu().data.numpy().transpose(1, 2, 0)\n",
    "\n",
    "                # Resize the mask to the same size as the image (can probably be removed if image is the same size as the model)\n",
    "                mask = cv2.resize(mask_raw, (w2, h2))\n",
    "\n",
    "                # Convert the mask to the correct data type\n",
    "                mask = mask.astype(np.int16)\n",
    "\n",
    "                #multiply by i+1\n",
    "                mask = mask*(i+1)\n",
    "\n",
    "                #add mask to black_img\n",
    "                black_img = np.maximum(black_img, mask)\n",
    "\n",
    "            # Break the loop if 'q' key is pressed\n",
    "            if cv2.waitKey(0) & 0xFF == ord('q'):\n",
    "                cv2.destroyAllWindows()\n",
    "                exit()\n",
    "        \n",
    "        name, ext = os.path.splitext(file)\n",
    "\n",
    "        # set the path to the segmented mask with the same naming system like images\n",
    "        seg_mask = os.path.join(seg_masks_dir, seg_masks_dir + '/' + name.replace(\"img\", \"masks\") + \"_seg.\" + ext)\n",
    "        \n",
    "        # Close all windows\n",
    "        black_img = cv2.resize(black_img, (w,h), interpolation=cv2.INTER_NEAREST)\n",
    "        cv2.imwrite(seg_mask, black_img)\n",
    "        cv2.destroyAllWindows()"
   ]
  },
  {
   "cell_type": "code",
   "execution_count": null,
   "metadata": {},
   "outputs": [],
   "source": [
    "/home/kamenan/Documents/Stage Dev Deep Learning/YOLOV8 evaluation/validation MIC-IPA"
   ]
  },
  {
   "cell_type": "code",
   "execution_count": 19,
   "metadata": {},
   "outputs": [
    {
     "name": "stdout",
     "output_type": "stream",
     "text": [
      "\n",
      "0: 640x640 8 Cellulars, 36.5ms\n",
      "Speed: 3.4ms preprocess, 36.5ms inference, 15.6ms postprocess per image at shape (1, 3, 640, 640)\n",
      "\n",
      "0: 640x640 7 Cellulars, 32.8ms\n",
      "Speed: 2.3ms preprocess, 32.8ms inference, 16.2ms postprocess per image at shape (1, 3, 640, 640)\n",
      "\n",
      "0: 640x640 17 Cellulars, 28.2ms\n",
      "Speed: 6.8ms preprocess, 28.2ms inference, 10.6ms postprocess per image at shape (1, 3, 640, 640)\n",
      "\n",
      "0: 640x640 17 Cellulars, 29.7ms\n",
      "Speed: 2.6ms preprocess, 29.7ms inference, 5.8ms postprocess per image at shape (1, 3, 640, 640)\n",
      "\n",
      "0: 640x640 12 Cellulars, 32.9ms\n",
      "Speed: 2.8ms preprocess, 32.9ms inference, 8.4ms postprocess per image at shape (1, 3, 640, 640)\n",
      "\n",
      "0: 640x640 3 Cellulars, 29.7ms\n",
      "Speed: 3.6ms preprocess, 29.7ms inference, 7.4ms postprocess per image at shape (1, 3, 640, 640)\n",
      "\n",
      "0: 640x640 17 Cellulars, 31.2ms\n",
      "Speed: 2.5ms preprocess, 31.2ms inference, 5.5ms postprocess per image at shape (1, 3, 640, 640)\n",
      "\n",
      "0: 640x640 7 Cellulars, 33.1ms\n",
      "Speed: 2.3ms preprocess, 33.1ms inference, 5.2ms postprocess per image at shape (1, 3, 640, 640)\n",
      "\n",
      "0: 640x640 13 Cellulars, 32.2ms\n",
      "Speed: 2.5ms preprocess, 32.2ms inference, 9.2ms postprocess per image at shape (1, 3, 640, 640)\n",
      "\n",
      "0: 640x640 11 Cellulars, 26.9ms\n",
      "Speed: 1.8ms preprocess, 26.9ms inference, 6.7ms postprocess per image at shape (1, 3, 640, 640)\n",
      "\n",
      "0: 640x640 14 Cellulars, 36.9ms\n",
      "Speed: 3.0ms preprocess, 36.9ms inference, 7.8ms postprocess per image at shape (1, 3, 640, 640)\n",
      "\n",
      "0: 640x640 12 Cellulars, 32.3ms\n",
      "Speed: 2.3ms preprocess, 32.3ms inference, 5.2ms postprocess per image at shape (1, 3, 640, 640)\n",
      "\n",
      "0: 640x640 23 Cellulars, 34.3ms\n",
      "Speed: 3.2ms preprocess, 34.3ms inference, 9.2ms postprocess per image at shape (1, 3, 640, 640)\n",
      "\n",
      "0: 640x640 5 Cellulars, 32.8ms\n",
      "Speed: 2.5ms preprocess, 32.8ms inference, 6.9ms postprocess per image at shape (1, 3, 640, 640)\n",
      "\n",
      "0: 640x640 7 Cellulars, 31.0ms\n",
      "Speed: 2.3ms preprocess, 31.0ms inference, 6.0ms postprocess per image at shape (1, 3, 640, 640)\n",
      "\n",
      "0: 640x640 12 Cellulars, 30.4ms\n",
      "Speed: 2.3ms preprocess, 30.4ms inference, 4.8ms postprocess per image at shape (1, 3, 640, 640)\n",
      "\n",
      "0: 640x640 9 Cellulars, 29.6ms\n",
      "Speed: 3.7ms preprocess, 29.6ms inference, 7.2ms postprocess per image at shape (1, 3, 640, 640)\n",
      "\n",
      "0: 640x640 10 Cellulars, 29.0ms\n",
      "Speed: 3.1ms preprocess, 29.0ms inference, 6.3ms postprocess per image at shape (1, 3, 640, 640)\n",
      "\n",
      "0: 640x640 6 Cellulars, 25.4ms\n",
      "Speed: 1.7ms preprocess, 25.4ms inference, 4.6ms postprocess per image at shape (1, 3, 640, 640)\n",
      "\n",
      "0: 640x640 11 Cellulars, 29.5ms\n",
      "Speed: 2.0ms preprocess, 29.5ms inference, 4.7ms postprocess per image at shape (1, 3, 640, 640)\n",
      "\n",
      "0: 640x640 6 Cellulars, 32.1ms\n",
      "Speed: 2.9ms preprocess, 32.1ms inference, 5.0ms postprocess per image at shape (1, 3, 640, 640)\n",
      "\n",
      "0: 640x640 16 Cellulars, 30.1ms\n",
      "Speed: 2.2ms preprocess, 30.1ms inference, 10.0ms postprocess per image at shape (1, 3, 640, 640)\n",
      "\n",
      "0: 640x640 12 Cellulars, 31.4ms\n",
      "Speed: 2.1ms preprocess, 31.4ms inference, 5.3ms postprocess per image at shape (1, 3, 640, 640)\n",
      "\n",
      "0: 640x640 13 Cellulars, 31.3ms\n",
      "Speed: 3.4ms preprocess, 31.3ms inference, 4.8ms postprocess per image at shape (1, 3, 640, 640)\n",
      "\n",
      "0: 640x640 21 Cellulars, 26.6ms\n",
      "Speed: 1.7ms preprocess, 26.6ms inference, 6.6ms postprocess per image at shape (1, 3, 640, 640)\n",
      "\n",
      "0: 640x640 8 Cellulars, 36.3ms\n",
      "Speed: 2.4ms preprocess, 36.3ms inference, 5.5ms postprocess per image at shape (1, 3, 640, 640)\n",
      "\n",
      "0: 640x640 14 Cellulars, 35.9ms\n",
      "Speed: 2.6ms preprocess, 35.9ms inference, 6.4ms postprocess per image at shape (1, 3, 640, 640)\n",
      "\n",
      "0: 640x640 13 Cellulars, 31.9ms\n",
      "Speed: 2.9ms preprocess, 31.9ms inference, 5.6ms postprocess per image at shape (1, 3, 640, 640)\n",
      "\n",
      "0: 640x640 11 Cellulars, 29.1ms\n",
      "Speed: 2.5ms preprocess, 29.1ms inference, 4.9ms postprocess per image at shape (1, 3, 640, 640)\n"
     ]
    }
   ],
   "source": [
    "#HOME\n",
    "data_dir = \"/home/kamenan/Documents/Stage Dev Deep Learning/YOLOV8 evaluation/validation MIC-IPA\"\n",
    "image_dir = \"cells/images\"\n",
    "model = \"yolo_dataset/results/125m_epochs/weights/best.pt\"\n",
    "seg_masks(data_dir=data_dir, image_dir=image_dir, model=model)"
   ]
  },
  {
   "cell_type": "code",
   "execution_count": 24,
   "metadata": {},
   "outputs": [
    {
     "name": "stdout",
     "output_type": "stream",
     "text": [
      "\n",
      "0: 640x640 103 Cellulars, 108.9ms\n",
      "Speed: 2.1ms preprocess, 108.9ms inference, 33.3ms postprocess per image at shape (1, 3, 640, 640)\n",
      "(640, 640)\n",
      "(640, 640)\n"
     ]
    }
   ],
   "source": [
    "# Load the image\n",
    "try:\n",
    "    img = cv2.imread(\"/home/kamenan/Documents/Stage Dev Deep Learning/YOLOV8 evaluation/cellpose_test/images/052_img.png\")\n",
    "    h, w, c = img.shape\n",
    "except cv2.error as e:\n",
    "    print(f\"Failed to load image: {e}\")\n",
    "    exit()\n",
    "\n",
    "# Create the YOLOv8 model\n",
    "try:\n",
    "    model = YOLO(\"yolo_dataset/results/125m_epochs/weights/best.pt\")\n",
    "except Exception as e:\n",
    "    print(f\"Failed to load model: {e}\")\n",
    "    exit()\n",
    "\n",
    "# Perform the prediction\n",
    "img2 = cv2.resize(img, (640,640))\n",
    "results = model.predict(img2, iou=.5)\n",
    "\n",
    "if(results[0].masks is not None):\n",
    "    # Get the size of the original image (height, width, channels)\n",
    "    h2, w2, c2 = results[0].orig_img.shape\n",
    "    print((w2, h2))\n",
    "\n",
    "    # Create a black image with the same size as the original image\n",
    "    black_img = np.zeros_like(results[0].orig_img)\n",
    "    black_img = black_img[:,:,0]\n",
    "    print(black_img.shape)\n",
    "    # Create a copy of the original image to layer the masks on\n",
    "    layered_img = results[0].orig_img.copy()\n",
    "\n",
    "    # Loop over all masks in the results\n",
    "    for i, mask_raw in enumerate(results[0].masks):\n",
    "        # Convert mask to single channel image\n",
    "        mask_raw = mask_raw.cpu().data.numpy().transpose(1, 2, 0)\n",
    "\n",
    "        # Resize the mask to the same size as the image (can probably be removed if image is the same size as the model)\n",
    "        mask = cv2.resize(mask_raw, (640, 640))\n",
    "\n",
    "        # Convert the mask to the correct data type\n",
    "        mask = mask.astype(np.uint8)\n",
    "        #print(mask.shape)\n",
    "\n",
    "        #multiply by i+1\n",
    "        mask = mask*(i+1)\n",
    "\n",
    "        #add mask to black_img\n",
    "        black_img = np.maximum(black_img, mask)\n",
    "        #black_img = black_img + mask\n",
    "        \n",
    "    # Break the loop if 'q' key is pressed\n",
    "    if cv2.waitKey(0) & 0xFF == ord('q'):\n",
    "        cv2.destroyAllWindows()\n",
    "        exit()\n",
    "\n",
    "# Close all windows\n",
    "#cv2.imwrite(\"mask_raw.png\", mask_raw)\n",
    "#cv2.imwrite(\"mask.png\", mask)\n",
    "black_img = cv2.resize(black_img, (w,h), interpolation=cv2.INTER_NEAREST)\n",
    "cv2.imwrite(\"black_img.png\", black_img)\n",
    "cv2.destroyAllWindows()"
   ]
  },
  {
   "cell_type": "code",
   "execution_count": 8,
   "metadata": {},
   "outputs": [
    {
     "data": {
      "text/plain": [
       "(288, 512, 3)"
      ]
     },
     "execution_count": 8,
     "metadata": {},
     "output_type": "execute_result"
    }
   ],
   "source": [
    "img.shape"
   ]
  },
  {
   "cell_type": "code",
   "execution_count": null,
   "metadata": {},
   "outputs": [],
   "source": []
  }
 ],
 "metadata": {
  "kernelspec": {
   "display_name": "yolov8_env",
   "language": "python",
   "name": "python3"
  },
  "language_info": {
   "codemirror_mode": {
    "name": "ipython",
    "version": 3
   },
   "file_extension": ".py",
   "mimetype": "text/x-python",
   "name": "python",
   "nbconvert_exporter": "python",
   "pygments_lexer": "ipython3",
   "version": "3.8.10"
  }
 },
 "nbformat": 4,
 "nbformat_minor": 2
}
